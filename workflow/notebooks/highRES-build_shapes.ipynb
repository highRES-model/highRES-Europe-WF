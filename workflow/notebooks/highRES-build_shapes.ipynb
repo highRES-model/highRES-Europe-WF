{
 "cells": [
  {
   "cell_type": "code",
   "execution_count": null,
   "id": "1fc6d515-937c-47d4-808c-d84941b7ef8c",
   "metadata": {},
   "outputs": [],
   "source": [
    "import geopandas as gpd\n",
    "import pandas as pd\n",
    "from shapely.geometry import Polygon, box"
   ]
  },
  {
   "cell_type": "code",
   "execution_count": null,
   "id": "304a3479-6bdf-4616-a7c0-582e2478a1c0",
   "metadata": {},
   "outputs": [],
   "source": [
    "desired_regions = snakemake.params.aggregated_regions"
   ]
  },
  {
   "cell_type": "code",
   "execution_count": null,
   "id": "a560cb3f-ac10-4441-9a2f-74db6c63b0f2",
   "metadata": {},
   "outputs": [],
   "source": [
    "geodata_files = {\n",
    "    \"onshore\": snakemake.input.euroshape,\n",
    "    \"offshore_bottom\": snakemake.input.eurooffshoreshape,\n",
    "}"
   ]
  },
  {
   "cell_type": "code",
   "execution_count": null,
   "id": "0ada8a2e-496b-474e-91fe-da22f02bc759",
   "metadata": {},
   "outputs": [],
   "source": [
    "offshore_to_ISO3166 = {\n",
    "    \"Albania\"        : \"AL\",\n",
    "    \"Belgium\"        : \"BE\",\n",
    "    \"Bulgaria\"       : \"BG\",\n",
    "    \"Croatia\"        : \"HR\",\n",
    "    \"Cyprus\"         : \"CY\",\n",
    "    \"Denmark\"        : \"DK\",\n",
    "    \"Estonia\"        : \"EE\",\n",
    "    \"Finland\"        : \"FI\",\n",
    "    \"France\"         : \"FR\",\n",
    "    \"Germany\"        : \"DE\",\n",
    "    \"Greece\"         : \"GR\",\n",
    "    \"Ireland\"        : \"IE\",\n",
    "    \"Italy\"          : \"IT\",\n",
    "    \"Latvia\"         : \"LV\",\n",
    "    \"Lithuania\"      : \"LT\",\n",
    "    \"Malta\"          : \"MT\",\n",
    "    \"Netherlands\"    : \"NL\",\n",
    "    \"Poland\"         : \"PL\",\n",
    "    \"Portugal\"       : \"PT\",\n",
    "    \"Romania\"        : \"RO\",\n",
    "    \"Spain\"          : \"ES\",\n",
    "    \"Slovenia\"       : \"SI\",\n",
    "    \"Slovakia\"       : \"SK\",\n",
    "    \"Sweden\"         : \"SE\",\n",
    "    \"United Kingdom\" : \"UK\"\n",
    "}"
   ]
  },
  {
   "cell_type": "code",
   "execution_count": null,
   "id": "ef8f902d-ea46-4986-a8fb-467fdf6f2caa",
   "metadata": {},
   "outputs": [],
   "source": [
    "# Onshore shape"
   ]
  },
  {
   "cell_type": "code",
   "execution_count": null,
   "id": "ebb6a6f1-5992-4842-84b9-cbe631c34bb9",
   "metadata": {},
   "outputs": [],
   "source": [
    "if snakemake.wildcards.spatial == \"region\":\n",
    "    euro_onshore = (\n",
    "        gpd.read_file(snakemake.input.euroshape) #, engine='fiona')\n",
    "        .replace({\"GB\": \"UK\", \"EL\": \"GR\"})\n",
    "        .query(\"NUTS_ID in @desired_regions \")\n",
    "        .rename(columns={\"NUTS_ID\": \"index\"})\n",
    "        .loc[:, [\"index\", \"CNTR_CODE\", \"geometry\"]]\n",
    "        .set_index([\"index\"])\n",
    "    )\n",
    "\n",
    "if snakemake.wildcards.spatial == \"nuts2\":\n",
    "    nuts_lvl = 2\n",
    "\n",
    "    euro_onshore = (\n",
    "        gpd.read_file(snakemake.input.euroshape)\n",
    "        .replace({\"GB\": \"UK\", \"EL\": \"GR\"})\n",
    "        .query(\"LEVL_CODE == @nuts_lvl & CNTR_CODE in @desired_regions \")\n",
    "        .rename(columns={\"NUTS_ID\": \"index\"})\n",
    "        .loc[:, [\"index\", \"CNTR_CODE\", \"geometry\"]]\n",
    "        .set_index([\"index\"])\n",
    "    )"
   ]
  },
  {
   "cell_type": "code",
   "execution_count": null,
   "id": "8e8ce3dc-29a9-4362-afa7-9d1371005dba",
   "metadata": {},
   "outputs": [],
   "source": [
    "rectx1 = -12\n",
    "rectx2 = 44\n",
    "recty1 = 33\n",
    "recty2 = 81\n",
    "\n",
    "\n",
    "polygon = Polygon(\n",
    "    [\n",
    "        (rectx1, recty1),\n",
    "        (rectx1, recty2),\n",
    "        (rectx2, recty2),\n",
    "        (rectx2, recty1),\n",
    "        (rectx1, recty1),\n",
    "    ]\n",
    ")\n",
    "\n",
    "euro_onshore = gpd.clip(euro_onshore, polygon)\n",
    "\n",
    "euro_onshore.plot()"
   ]
  },
  {
   "cell_type": "code",
   "execution_count": null,
   "id": "8c2d64f0-dace-421b-a241-7ac894fdd36a",
   "metadata": {},
   "outputs": [],
   "source": [
    "# Remove Svalbard\n",
    "\n",
    "euro_onshore = gpd.clip(euro_onshore, box(rectx1, recty1, rectx2, 72))\n",
    "\n",
    "euro_onshore.plot()"
   ]
  },
  {
   "cell_type": "code",
   "execution_count": null,
   "id": "87ac978d-7963-48d8-8e32-e6e6e580edd5",
   "metadata": {},
   "outputs": [],
   "source": [
    "# Remove Jan Mayen\n",
    "\n",
    "nor = euro_onshore.query(\"CNTR_CODE =='NO'\").clip(box(0, recty1, rectx2, recty2))\n",
    "\n",
    "euro_onshore = pd.concat([euro_onshore.query(\"CNTR_CODE != 'NO'\"), nor])\n",
    "\n",
    "euro_onshore.plot()"
   ]
  },
  {
   "cell_type": "code",
   "execution_count": null,
   "id": "9ba0d11d-4cd9-48bc-ae5b-a11a69950883",
   "metadata": {},
   "outputs": [],
   "source": [
    "euro_onshore.to_file(snakemake.output.onshoreshape)"
   ]
  },
  {
   "cell_type": "code",
   "execution_count": null,
   "id": "078f67bf-8c61-450e-8c75-e0ecd18adc57",
   "metadata": {},
   "outputs": [],
   "source": [
    "norway_onshore = euro_onshore[euro_onshore.CNTR_CODE == 'NO']\n",
    "norway_onshore"
   ]
  },
  {
   "cell_type": "code",
   "execution_count": null,
   "id": "2122ac61-a5ba-48e0-86d7-14c37409679a",
   "metadata": {},
   "outputs": [],
   "source": [
    "# Offshore shape"
   ]
  },
  {
   "cell_type": "code",
   "execution_count": null,
   "id": "619f685f-da4b-4797-93ee-4e186786d589",
   "metadata": {},
   "outputs": [],
   "source": [
    "# euro_offshore = (\n",
    "#     gpd.read_file(snakemke.input.eurooffshoreshape)\n",
    "#     .replace(offshore_to_ISO3166)\n",
    "#     .set_index(\"index\")\n",
    "#     .filter(items=desired_regions,axis=0)\n",
    "# )\n",
    "\n",
    "euro_offshore = gpd.read_file(snakemake.input.eurooffshoreshape).replace(\n",
    "    offshore_to_ISO3166\n",
    ")\n",
    "#     .set_index(\"index\")\n",
    "#     .filter(items=desired_regions,axis=0)\n",
    "# )\n",
    "\n",
    "euro_offshore = gpd.clip(euro_offshore, polygon)\n",
    "\n",
    "euro_offshore.plot()"
   ]
  },
  {
   "cell_type": "code",
   "execution_count": null,
   "id": "ff5c084d-0bc7-4ca0-ba14-ba726cf247ef",
   "metadata": {},
   "outputs": [],
   "source": [
    "norway_offshore = (\n",
    "    euro_offshore.query(\"~NUTS_ID.isna() and NUTS_ID not in ['NO0B1', 'NO0B2']\", engine=\"python\") # remove Svalbard (NO0B2) and Jan Mayen (NO0B1)\n",
    "    .dissolve()\n",
    "    .assign(index=\"NO\")\n",
    ")"
   ]
  },
  {
   "cell_type": "code",
   "execution_count": null,
   "id": "b24b8698-1a49-4647-8940-62b6ed9a8d16",
   "metadata": {},
   "outputs": [],
   "source": [
    "norway_offshore['geometry'] = norway_offshore['geometry'].difference(norway_onshore.dissolve()) # remove onshore areas (rivers) from the offshore shapefile"
   ]
  },
  {
   "cell_type": "code",
   "execution_count": null,
   "id": "c55c9bc0-1dfd-4acd-af9f-2c319fb13e0b",
   "metadata": {},
   "outputs": [],
   "source": [
    "norway_voronoi = gpd.GeoDataFrame(geometry = norway_onshore.to_crs(3857).centroid.to_crs(norway_onshore.crs).voronoi_polygons())\n",
    "\n",
    "shapes = []\n",
    "\n",
    "for i in norway_onshore.index:\n",
    "    point = norway_onshore.to_crs(3857).centroid.to_crs(norway_onshore.crs)[i]\n",
    "    shapes.append(norway_voronoi[norway_voronoi.contains(point)].geometry.values[0])\n",
    "\n",
    "norway_voronoi = gpd.GeoDataFrame({'index':norway_onshore.index, 'geometry':shapes}, crs=norway_onshore.crs).set_index('index')"
   ]
  },
  {
   "cell_type": "code",
   "execution_count": null,
   "id": "49f67e1d-3d1b-4ea3-9a73-65d25a84a2b9",
   "metadata": {},
   "outputs": [],
   "source": [
    "offshore_counties = []\n",
    "offshore_counties_index = []\n",
    "\n",
    "for i in norway_voronoi.index:\n",
    "    shape_array = norway_offshore.clip(norway_voronoi.loc[i].geometry).geometry.values\n",
    "    if shape_array:\n",
    "        offshore_counties.append(shape_array[0])\n",
    "        offshore_counties_index.append(i)"
   ]
  },
  {
   "cell_type": "code",
   "execution_count": null,
   "id": "e72f6a11-40d2-45fd-a4d0-8275dfd4ad94",
   "metadata": {},
   "outputs": [],
   "source": [
    "norway_offshore = gpd.GeoDataFrame({'index':offshore_counties_index, 'geometry':offshore_counties}, crs=norway_onshore.crs)"
   ]
  },
  {
   "cell_type": "code",
   "execution_count": null,
   "id": "353b0ce8-38b6-4d49-ab7f-737019b8101b",
   "metadata": {},
   "outputs": [],
   "source": [
    "#county = 'NO092'\n",
    "\n",
    "#ax = norway_onshore.loc[[county]].plot(color='red')\n",
    "#norway_offshore.loc[[county]].plot(ax=ax)"
   ]
  },
  {
   "cell_type": "code",
   "execution_count": null,
   "id": "e4073460-84fc-4541-8c8b-1806148f43a4",
   "metadata": {},
   "outputs": [],
   "source": [
    "euro_offshore = pd.concat(\n",
    "    [euro_offshore.query(\"NUTS_ID.isna()\", engine=\"python\"), norway_offshore]\n",
    ")\n",
    "\n",
    "euro_offshore"
   ]
  },
  {
   "cell_type": "code",
   "execution_count": null,
   "id": "45136205-e95f-49c6-a3f7-a78115163a78",
   "metadata": {},
   "outputs": [],
   "source": [
    "# Remove Svalbard\n",
    "\n",
    "euro_offshore = gpd.clip(euro_offshore, box(rectx1, recty1, rectx2, 72))\n",
    "\n",
    "euro_offshore.plot()"
   ]
  },
  {
   "cell_type": "code",
   "execution_count": null,
   "id": "42c2b2bb-69a6-4210-bbfc-31b461c9dda1",
   "metadata": {},
   "outputs": [],
   "source": [
    "(\n",
    "    euro_offshore.set_index(\"index\")\n",
    "    .filter(items=desired_regions, axis=0)\n",
    "    .to_file(snakemake.output.offshoreshape)\n",
    ")"
   ]
  }
 ],
 "metadata": {
  "kernelspec": {
   "display_name": "Python 3 (ipykernel)",
   "language": "python",
   "name": "python3"
  },
  "language_info": {
   "codemirror_mode": {
    "name": "ipython",
    "version": 3
   },
   "file_extension": ".py",
   "mimetype": "text/x-python",
   "name": "python",
   "nbconvert_exporter": "python",
   "pygments_lexer": "ipython3",
   "version": "3.9.18"
  }
 },
 "nbformat": 4,
 "nbformat_minor": 5
}
