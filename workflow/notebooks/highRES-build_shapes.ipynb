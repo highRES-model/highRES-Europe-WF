{
 "cells": [
  {
   "cell_type": "code",
   "execution_count": null,
   "id": "1fc6d515-937c-47d4-808c-d84941b7ef8c",
   "metadata": {},
   "outputs": [],
   "source": [
    "import geopandas as gpd\n",
    "import pandas as pd\n",
    "from shapely.geometry import Polygon, box"
   ]
  },
  {
   "cell_type": "code",
   "execution_count": null,
   "id": "304a3479-6bdf-4616-a7c0-582e2478a1c0",
   "metadata": {},
   "outputs": [],
   "source": [
    "desired_regions = snakemake.params.aggregated_regions"
   ]
  },
  {
   "cell_type": "code",
   "execution_count": null,
   "id": "a560cb3f-ac10-4441-9a2f-74db6c63b0f2",
   "metadata": {},
   "outputs": [],
   "source": [
    "geodata_files = {\n",
    "    \"onshore\": snakemake.input.euroshape,\n",
    "    \"offshore_bottom\": snakemake.input.eurooffshoreshape,\n",
    "}"
   ]
  },
  {
   "cell_type": "code",
   "execution_count": null,
   "id": "0ada8a2e-496b-474e-91fe-da22f02bc759",
   "metadata": {},
   "outputs": [],
   "source": [
    "offshore_to_ISO3166 = {\n",
    "    \"Albania\"        : \"AL\",\n",
    "    \"Belgium\"        : \"BE\",\n",
    "    \"Bulgaria\"       : \"BG\",\n",
    "    \"Croatia\"        : \"HR\",\n",
    "    \"Cyprus\"         : \"CY\",\n",
    "    \"Denmark\"        : \"DK\",\n",
    "    \"Estonia\"        : \"EE\",\n",
    "    \"Finland\"        : \"FI\",\n",
    "    \"France\"         : \"FR\",\n",
    "    \"Germany\"        : \"DE\",\n",
    "    \"Greece\"         : \"GR\",\n",
    "    \"Ireland\"        : \"IE\",\n",
    "    \"Italy\"          : \"IT\",\n",
    "    \"Latvia\"         : \"LV\",\n",
    "    \"Lithuania\"      : \"LT\",\n",
    "    \"Malta\"          : \"MT\",\n",
    "    \"Netherlands\"    : \"NL\",\n",
    "    \"Poland\"         : \"PL\",\n",
    "    \"Portugal\"       : \"PT\",\n",
    "    \"Romania\"        : \"RO\",\n",
    "    \"Spain\"          : \"ES\",\n",
    "    \"Slovenia\"       : \"SI\",\n",
    "    \"Slovakia\"       : \"SK\",\n",
    "    \"Sweden\"         : \"SE\",\n",
    "    \"United Kingdom\" : \"UK\"\n",
    "}"
   ]
  },
  {
   "cell_type": "code",
   "execution_count": null,
   "id": "ef8f902d-ea46-4986-a8fb-467fdf6f2caa",
   "metadata": {},
   "outputs": [],
   "source": [
    "# Onshore shape"
   ]
  },
  {
   "cell_type": "code",
   "execution_count": null,
   "id": "ebb6a6f1-5992-4842-84b9-cbe631c34bb9",
   "metadata": {},
   "outputs": [],
   "source": [
    "if snakemake.wildcards.spatial== \"region\":\n",
    "    nuts_lvl=0    \n",
    "if snakemake.wildcards.spatial== \"nuts2\":\n",
    "    nuts_lvl=2\n",
    "\n",
    "euro_onshore = (\n",
    "        gpd.read_file(snakemake.input.euroshape)\n",
    "        .replace({\"GB\": \"UK\", \"EL\": \"GR\"})\n",
    "        .query(\"LEVL_CODE == @nuts_lvl & CNTR_CODE in @desired_regions \")\n",
    "        .rename(columns={\"NUTS_ID\": \"index\"})\n",
    "        .loc[:,[\"index\",\"CNTR_CODE\",\"geometry\"]]\n",
    "        .set_index([\"index\"])\n",
    "    )"
   ]
  },
  {
   "cell_type": "code",
   "execution_count": null,
   "id": "8e8ce3dc-29a9-4362-afa7-9d1371005dba",
   "metadata": {},
   "outputs": [],
   "source": [
    "rectx1 = -12\n",
    "rectx2 = 44\n",
    "recty1 = 33\n",
    "recty2 = 81\n",
    "\n",
    "\n",
    "polygon = Polygon(\n",
    "    [\n",
    "        (rectx1, recty1),\n",
    "        (rectx1, recty2),\n",
    "        (rectx2, recty2),\n",
    "        (rectx2, recty1),\n",
    "        (rectx1, recty1),\n",
    "    ]\n",
    ")\n",
    "\n",
    "euro_onshore=gpd.clip(euro_onshore,polygon)\n",
    "\n",
    "euro_onshore.plot()"
   ]
  },
  {
   "cell_type": "code",
   "execution_count": null,
   "id": "8c2d64f0-dace-421b-a241-7ac894fdd36a",
   "metadata": {},
   "outputs": [],
   "source": [
    "# Remove Svalbard\n",
    "\n",
    "euro_onshore=gpd.clip(euro_onshore,box(rectx1,recty1,rectx2,72))\n",
    "\n",
    "euro_onshore.plot()"
   ]
  },
  {
   "cell_type": "code",
   "execution_count": null,
   "id": "87ac978d-7963-48d8-8e32-e6e6e580edd5",
   "metadata": {},
   "outputs": [],
   "source": [
    "# Remove Jan Mayen\n",
    "\n",
    "nor=(euro_onshore.query(\"CNTR_CODE =='NO'\")\n",
    "         .clip(box(0,recty1,rectx2,recty2)))\n",
    "\n",
    "euro_onshore=pd.concat([euro_onshore.query(\"CNTR_CODE != 'NO'\"),nor])\n",
    "\n",
    "euro_onshore.plot()"
   ]
  },
  {
   "cell_type": "code",
   "execution_count": null,
   "id": "9ba0d11d-4cd9-48bc-ae5b-a11a69950883",
   "metadata": {},
   "outputs": [],
   "source": [
    "euro_onshore.to_file(snakemake.output.onshoreshape)"
   ]
  },
  {
   "cell_type": "code",
   "execution_count": null,
   "id": "2122ac61-a5ba-48e0-86d7-14c37409679a",
   "metadata": {},
   "outputs": [],
   "source": [
    "# Offshore shape"
   ]
  },
  {
   "cell_type": "code",
   "execution_count": null,
   "id": "619f685f-da4b-4797-93ee-4e186786d589",
   "metadata": {},
   "outputs": [],
   "source": [
    "# euro_offshore = (\n",
    "#     gpd.read_file(snakemke.input.eurooffshoreshape)\n",
    "#     .replace(offshore_to_ISO3166)\n",
    "#     .set_index(\"index\")\n",
    "#     .filter(items=desired_regions,axis=0)\n",
    "# )\n",
    "\n",
    "euro_offshore = (\n",
    "     gpd.read_file(snakemake.input.eurooffshoreshape)\n",
    "     .replace(offshore_to_ISO3166))\n",
    "#     .set_index(\"index\")\n",
    "#     .filter(items=desired_regions,axis=0)\n",
    "# )\n",
    "\n",
    "euro_offshore=gpd.clip(euro_offshore,polygon)\n",
    "\n",
    "euro_offshore.plot()"
   ]
  },
  {
   "cell_type": "code",
   "execution_count": null,
   "id": "e92f9f75-d134-4f3b-b329-2c04b325103a",
   "metadata": {},
   "outputs": [],
   "source": [
    "norway=(euro_offshore.query(\"~NUTS_ID.isna()\",engine=\"python\")\n",
    "        .dissolve()\n",
    "        .assign(index=\"NO\"))\n",
    "\n",
    "euro_offshore=pd.concat(\n",
    "        [euro_offshore.query(\"NUTS_ID.isna()\",engine=\"python\"),\n",
    "         norway])"
   ]
  },
  {
   "cell_type": "code",
   "execution_count": null,
   "id": "45136205-e95f-49c6-a3f7-a78115163a78",
   "metadata": {},
   "outputs": [],
   "source": [
    "# Remove Svalbard\n",
    "\n",
    "euro_offshore=gpd.clip(euro_offshore,box(rectx1,recty1,rectx2,72))\n",
    "\n",
    "euro_offshore.plot()"
   ]
  },
  {
   "cell_type": "code",
   "execution_count": null,
   "id": "42c2b2bb-69a6-4210-bbfc-31b461c9dda1",
   "metadata": {},
   "outputs": [],
   "source": [
    "(euro_offshore.set_index(\"index\")\n",
    "        .filter(items=desired_regions,axis=0)\n",
    "        .to_file(snakemake.output.offshoreshape))"
   ]
  }
 ],
 "metadata": {
  "kernelspec": {
   "display_name": "Python 3 (ipykernel)",
   "language": "python",
   "name": "python3"
  },
  "language_info": {
   "codemirror_mode": {
    "name": "ipython",
    "version": 3
   },
   "file_extension": ".py",
   "mimetype": "text/x-python",
   "name": "python",
   "nbconvert_exporter": "python",
   "pygments_lexer": "ipython3",
   "version": "3.9.18"
  }
 },
 "nbformat": 4,
 "nbformat_minor": 5
}
