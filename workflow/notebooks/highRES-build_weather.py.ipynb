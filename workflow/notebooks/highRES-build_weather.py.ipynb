{
 "cells": [
  {
   "cell_type": "code",
   "execution_count": null,
   "id": "e73b2dd1-2e06-4cab-aa56-111d6635aa17",
   "metadata": {},
   "outputs": [],
   "source": [
    "sharedinputpath = snakemake.params[\"sharedinputpath\"]"
   ]
  },
  {
   "cell_type": "code",
   "execution_count": null,
   "id": "705d07dd-c780-4d76-8cd9-b0a250fa29c5",
   "metadata": {},
   "outputs": [],
   "source": [
    "WDPA_Ia = snakemake.input.WDPA1a\n",
    "WDPA_Ib = snakemake.input.WDPA1b\n",
    "WDPA_II = snakemake.input.WDPA2\n",
    "WDPA_III = snakemake.input.WDPA3\n",
    "WDPA_IV = snakemake.input.WDPA4"
   ]
  },
  {
   "cell_type": "code",
   "execution_count": null,
   "id": "ff53b84f-74b9-447c-b41f-e05ae54907c8",
   "metadata": {},
   "outputs": [],
   "source": [
    "onshore_turbine = \"Vestas_V112_3MW\"\n",
    "offshore_bottom_turbine = \"oedb:V164\"\n",
    "offshore_floating_turbine = \"oedb:V164\""
   ]
  },
  {
   "cell_type": "code",
   "execution_count": null,
   "id": "fff1ef0b-7ffa-4c94-9855-c0fd8a357b98",
   "metadata": {},
   "outputs": [],
   "source": [
    "heightshp = snakemake.input.elevation"
   ]
  },
  {
   "cell_type": "code",
   "execution_count": null,
   "id": "3bad15ee-b03b-4acb-8794-c17212fae254",
   "metadata": {},
   "outputs": [],
   "source": [
    "degreeshp = snakemake.input.slope"
   ]
  },
  {
   "cell_type": "code",
   "execution_count": null,
   "id": "88cf6130-1229-42a3-b0bb-00493c33cfe6",
   "metadata": {},
   "outputs": [],
   "source": [
    "desired_regions = snakemake.params.aggregated_regions"
   ]
  },
  {
   "cell_type": "code",
   "execution_count": null,
   "id": "bfaf17da-a1cf-4af2-ba81-7bc26aa804c4",
   "metadata": {},
   "outputs": [],
   "source": [
    "codes = (\n",
    "    2,\n",
    "    4,\n",
    "    5,\n",
    "    6,\n",
    "    10,\n",
    "    11,\n",
    "    12,\n",
    "    13,\n",
    "    14,\n",
    "    15,\n",
    "    16,\n",
    "    17,\n",
    "    18,\n",
    "    19,\n",
    "    20,\n",
    "    21,\n",
    "    22,\n",
    "    23,\n",
    "    24,\n",
    "    25,\n",
    "    34,\n",
    "    35,\n",
    "    36,\n",
    "    37,\n",
    "    38,\n",
    "    39,\n",
    "    40,\n",
    "    41,\n",
    "    42,\n",
    "    43,\n",
    "    44,\n",
    ")"
   ]
  },
  {
   "cell_type": "code",
   "execution_count": null,
   "id": "cc1ff44c-4fab-4288-994e-fc9dbbfabda9",
   "metadata": {},
   "outputs": [],
   "source": [
    "wind_onshore_codes_no_buffer = (\n",
    "    3,\n",
    "    4,\n",
    "    5,\n",
    "    7,\n",
    "    8,\n",
    "    9,\n",
    "    10,\n",
    "    11,\n",
    "    34,\n",
    "    35,\n",
    "    36,\n",
    "    37,\n",
    "    38,\n",
    "    39,\n",
    "    40,\n",
    "    41,\n",
    ")\n",
    "\n",
    "wind_onshore_codes_buffer = {1: 2000, 2: 1000, 6: 5000}"
   ]
  },
  {
   "cell_type": "code",
   "execution_count": null,
   "id": "d9fbac9b-0997-48e1-9fbf-e46e6842b64b",
   "metadata": {},
   "outputs": [],
   "source": [
    "# The year for which to calculate the weather data:\n",
    "year = snakemake.wildcards.year\n",
    "\n",
    "# Geodata files to use for selecting country onshore and offshore area:\n",
    "geodata_files = {\n",
    "    \"onshore\": snakemake.input.euroshape,\n",
    "    \"offshore_bottom\": snakemake.input.eurooffshoreshape,\n",
    "}\n",
    "\n",
    "# The square outer boundaries of Europe to consider,\n",
    "# because we have downloaded ERA5 for this extent:\n",
    "rectx1 = -12\n",
    "rectx2 = 44\n",
    "recty1 = 33\n",
    "recty2 = 81"
   ]
  },
  {
   "cell_type": "code",
   "execution_count": null,
   "id": "7fddcba8-61d2-4649-a265-7b1027af4bd0",
   "metadata": {},
   "outputs": [],
   "source": [
    "weatherdata = sharedinputpath / f\"weatherdata/europe_{str(year)}.nc\""
   ]
  },
  {
   "cell_type": "code",
   "execution_count": null,
   "id": "12f8d646-ca06-48e3-b595-65841354e774",
   "metadata": {},
   "outputs": [],
   "source": [
    "CORINE = snakemake.input.corine"
   ]
  },
  {
   "cell_type": "code",
   "execution_count": null,
   "id": "bca8e403-d72e-49e9-8998-9c180b3a9e71",
   "metadata": {},
   "outputs": [],
   "source": [
    "panel = \"CSi\"\n",
    "orientation = \"latitude_optimal\""
   ]
  },
  {
   "cell_type": "code",
   "execution_count": null,
   "id": "40b14ecb-2751-4de9-ac8d-06a7431e7a69",
   "metadata": {},
   "outputs": [],
   "source": [
    "file_name = geodata_files[\"onshore\"]"
   ]
  },
  {
   "cell_type": "code",
   "execution_count": null,
   "id": "69145302-18f4-4b83-b5a1-96082a1a6453",
   "metadata": {},
   "outputs": [],
   "source": [
    "import logging\n",
    "\n",
    "import atlite\n",
    "\n",
    "logging.basicConfig(level=logging.INFO)\n",
    "\n",
    "\n",
    "import geopandas as gpd\n",
    "import pandas as pd\n",
    "import xarray as xr\n",
    "from atlite.gis import ExclusionContainer\n",
    "from shapely.geometry import Polygon"
   ]
  },
  {
   "cell_type": "code",
   "execution_count": null,
   "id": "bc401821-690c-4806-9be6-cd3004425ab7",
   "metadata": {},
   "outputs": [],
   "source": [
    "atlite.__version__  # should be 0.2.4"
   ]
  },
  {
   "cell_type": "code",
   "execution_count": null,
   "id": "4ebaf5d1-7f99-4865-9826-2174bb592a17",
   "metadata": {},
   "outputs": [],
   "source": [
    "xr.__version__  # should be 0.18.2"
   ]
  },
  {
   "cell_type": "code",
   "execution_count": null,
   "id": "9be19c04",
   "metadata": {},
   "outputs": [],
   "source": [
    "# should include the extra maybe progressbar code without time"
   ]
  },
  {
   "cell_type": "code",
   "execution_count": null,
   "id": "44f7e5f8-0008-405a-9c87-94ff44dff666",
   "metadata": {
    "tags": []
   },
   "outputs": [],
   "source": [
    "%psource atlite.Cutout.convert_and_aggregate"
   ]
  },
  {
   "cell_type": "markdown",
   "id": "5ffb8d71-1fc5-430e-93e2-8e9be31071fb",
   "metadata": {},
   "source": [
    "# Desired regions\n"
   ]
  },
  {
   "cell_type": "code",
   "execution_count": null,
   "id": "62b985c0-9159-4d49-995b-db2ae74aa278",
   "metadata": {},
   "outputs": [],
   "source": [
    "desired_regions"
   ]
  },
  {
   "cell_type": "markdown",
   "id": "bae53acb-69cc-44be-a54e-27db8f76de69",
   "metadata": {},
   "source": [
    "## Shape level\n",
    "\n",
    "To get the desired data at shape level, the first input is the shapefile itself.\n"
   ]
  },
  {
   "cell_type": "code",
   "execution_count": null,
   "id": "b644b0a3-b79e-4eba-a0ff-55c79d52a9b5",
   "metadata": {},
   "outputs": [],
   "source": [
    "file_name"
   ]
  },
  {
   "cell_type": "code",
   "execution_count": null,
   "id": "fc19d164-c041-454f-8f3e-7f5f3758f7dd",
   "metadata": {},
   "outputs": [],
   "source": [
    "europe = (\n",
    "    gpd.read_file(file_name)\n",
    "    .replace({\"GB\": \"UK\", \"EL\": \"GR\"})\n",
    "    .rename(columns={\"NUTS_ID\": \"index\"})\n",
    "    .loc[:, [\"index\", \"geometry\"]]\n",
    "    .sort_values(\"index\")\n",
    "    .set_index(\"index\")\n",
    "    .loc[desired_regions]\n",
    ")"
   ]
  },
  {
   "cell_type": "code",
   "execution_count": null,
   "id": "7e06a602-2097-4526-86be-08154c6b1023",
   "metadata": {},
   "outputs": [],
   "source": [
    "europe"
   ]
  },
  {
   "cell_type": "code",
   "execution_count": null,
   "id": "8b4966d6-fddc-4afd-8a8f-ae12542ac0e1",
   "metadata": {},
   "outputs": [],
   "source": [
    "year"
   ]
  },
  {
   "cell_type": "code",
   "execution_count": null,
   "id": "302fd1ad-3c50-478a-8cfc-954c89dba74d",
   "metadata": {},
   "outputs": [],
   "source": [
    "rectx1"
   ]
  },
  {
   "cell_type": "code",
   "execution_count": null,
   "id": "add50d4f-d7eb-4b97-9de1-a467845121d5",
   "metadata": {},
   "outputs": [],
   "source": [
    "rectx2"
   ]
  },
  {
   "cell_type": "code",
   "execution_count": null,
   "id": "7afefcf6-64ff-427f-88de-57fdcd45901c",
   "metadata": {},
   "outputs": [],
   "source": [
    "recty1"
   ]
  },
  {
   "cell_type": "code",
   "execution_count": null,
   "id": "e8d240d5-3cfb-4d48-b04d-8c387cf2c941",
   "metadata": {},
   "outputs": [],
   "source": [
    "recty2"
   ]
  },
  {
   "cell_type": "code",
   "execution_count": null,
   "id": "56a7385e-562f-4295-9e9f-9b008bf45a3e",
   "metadata": {},
   "outputs": [],
   "source": [
    "polygon = Polygon(\n",
    "    [\n",
    "        (rectx1, recty1),\n",
    "        (rectx1, recty2),\n",
    "        (rectx2, recty2),\n",
    "        (rectx2, recty1),\n",
    "        (rectx1, recty1),\n",
    "    ]\n",
    ")\n",
    "europe = gpd.clip(europe, polygon)"
   ]
  },
  {
   "cell_type": "code",
   "execution_count": null,
   "id": "c25d7d12-f0dd-4334-9ae7-8a944f6baa9e",
   "metadata": {},
   "outputs": [],
   "source": [
    "europe.plot(figsize=(15, 15))"
   ]
  },
  {
   "cell_type": "markdown",
   "id": "3b7099db-3cdb-4a54-a8e0-5738644312ca",
   "metadata": {},
   "source": [
    "# Cutout preparation\n"
   ]
  },
  {
   "cell_type": "code",
   "execution_count": null,
   "id": "ac10cf17-531e-4abb-9fcf-b08c067f1f31",
   "metadata": {},
   "outputs": [],
   "source": [
    "offshore_to_ISO3166 = {\n",
    "    \"Albania\": \"AL\",\n",
    "    \"Belgium\": \"BE\",\n",
    "    \"Bulgaria\": \"BG\",\n",
    "    \"Croatia\": \"HR\",\n",
    "    \"Cyprus\": \"CY\",\n",
    "    \"Denmark\": \"DK\",\n",
    "    \"Estonia\": \"EE\",\n",
    "    \"Finland\": \"FI\",\n",
    "    \"France\": \"FR\",\n",
    "    \"Germany\": \"DE\",\n",
    "    \"Greece\": \"GR\",\n",
    "    \"Ireland\": \"IE\",\n",
    "    \"Italy\": \"IT\",\n",
    "    \"Latvia\": \"LV\",\n",
    "    \"Lithuania\": \"LT\",\n",
    "    \"Malta\": \"MT\",\n",
    "    \"Netherlands\": \"NL\",\n",
    "    \"Poland\": \"PL\",\n",
    "    \"Portugal\": \"PT\",\n",
    "    \"Romania\": \"RO\",\n",
    "    \"Spain\": \"ES\",\n",
    "    \"Slovenia\": \"SI\",\n",
    "    \"Slovakia\": \"SK\",\n",
    "    \"Sweden\": \"SE\",\n",
    "    \"United Kingdom\": \"UK\",\n",
    "}"
   ]
  },
  {
   "cell_type": "code",
   "execution_count": null,
   "id": "29c20d49-74a8-4518-89d4-e57b53cc7642",
   "metadata": {},
   "outputs": [],
   "source": [
    "boundaries = []\n",
    "for geodata_file_name, geodata_file_path in geodata_files.items():\n",
    "    print(geodata_file_path)\n",
    "    boundaries.append(\n",
    "        gpd.read_file(geodata_file_path)\n",
    "        .replace(offshore_to_ISO3166)\n",
    "        .rename(columns={\"id\": \"index\"})\n",
    "        .set_index(\"index\")\n",
    "        .filter(items=desired_regions, axis=0)\n",
    "        .bounds\n",
    "    )\n",
    "\n",
    "boundaries = pd.concat(boundaries)"
   ]
  },
  {
   "cell_type": "code",
   "execution_count": null,
   "id": "98a3107f-d8e6-4979-97f8-49499a42ada4",
   "metadata": {},
   "outputs": [],
   "source": [
    "boundaries"
   ]
  },
  {
   "cell_type": "code",
   "execution_count": null,
   "id": "1f08f5cb-9dd0-4999-b195-8aa45b3387d6",
   "metadata": {},
   "outputs": [],
   "source": [
    "boundaries = boundaries.groupby(lambda x: \"bountry\").agg(\n",
    "    {\"minx\": \"min\", \"miny\": \"min\", \"maxx\": \"max\", \"maxy\": \"max\"}\n",
    ")"
   ]
  },
  {
   "cell_type": "code",
   "execution_count": null,
   "id": "1a02b963-0aee-4286-975e-5407bf3a8ac5",
   "metadata": {},
   "outputs": [],
   "source": [
    "boundaries[\"minx\"] = boundaries[\"minx\"] - 2\n",
    "boundaries[\"miny\"] = boundaries[\"miny\"] - 2\n",
    "boundaries[\"maxx\"] = boundaries[\"maxx\"] + 2\n",
    "boundaries[\"maxy\"] = boundaries[\"maxy\"] + 2\n",
    "boundaries"
   ]
  },
  {
   "cell_type": "code",
   "execution_count": null,
   "id": "01886bb7-374f-44fc-94a0-4a8dc6538388",
   "metadata": {},
   "outputs": [],
   "source": [
    "weatherdata"
   ]
  },
  {
   "cell_type": "code",
   "execution_count": null,
   "id": "1a5c8e26-d4d3-4b07-848a-397395e1e7fa",
   "metadata": {},
   "outputs": [],
   "source": [
    "cutout = atlite.Cutout(path=weatherdata)"
   ]
  },
  {
   "cell_type": "code",
   "execution_count": null,
   "id": "68c4ec42-804f-4d2b-902f-848ff2bdda01",
   "metadata": {},
   "outputs": [],
   "source": [
    "cutout.prepared_features"
   ]
  },
  {
   "cell_type": "code",
   "execution_count": null,
   "id": "dbd23460-a780-4bf8-8784-19e2db6d0988",
   "metadata": {},
   "outputs": [],
   "source": [
    "cutout.prepare()"
   ]
  },
  {
   "cell_type": "code",
   "execution_count": null,
   "id": "591c330e-ffc2-41a0-94a5-ad4d4135577d",
   "metadata": {},
   "outputs": [],
   "source": [
    "cutout = atlite.Cutout(\n",
    "    path=\"../3_intermediate_data/intermediatecutout.nc\",\n",
    "    data=cutout.data.sel(\n",
    "        x=slice(\n",
    "            boundaries.loc[\"bountry\", \"minx\"],\n",
    "            boundaries.loc[\"bountry\", \"maxx\"],\n",
    "        ),\n",
    "        y=slice(\n",
    "            boundaries.loc[\"bountry\", \"miny\"],\n",
    "            boundaries.loc[\"bountry\", \"maxy\"],\n",
    "        ),\n",
    "    ),\n",
    ")"
   ]
  },
  {
   "cell_type": "code",
   "execution_count": null,
   "id": "5c0ae848-27cf-467a-8dc3-85867a6137de",
   "metadata": {},
   "outputs": [],
   "source": [
    "cutout.prepare()"
   ]
  },
  {
   "cell_type": "markdown",
   "id": "864367ce-a6f2-4ade-95b0-23b3c7554018",
   "metadata": {},
   "source": [
    "## Indices for gridcells\n"
   ]
  },
  {
   "cell_type": "code",
   "execution_count": null,
   "id": "9ec532fc-9a12-49af-88b5-388e83801ff4",
   "metadata": {},
   "outputs": [],
   "source": [
    "gridcellnamingfunction = (\n",
    "    lambda x: \"x\"\n",
    "    + (x.x * 100).astype(\"int\").astype(\"str\")\n",
    "    + \"y\"\n",
    "    + (x.y * 100).astype(\"int\").astype(\"str\")\n",
    ")"
   ]
  },
  {
   "cell_type": "code",
   "execution_count": null,
   "id": "348e6e76-ce87-4d05-97a2-99c831609ac2",
   "metadata": {},
   "outputs": [],
   "source": [
    "if snakemake.wildcards.spatial == \"grid\":\n",
    "    (\n",
    "        cutout.grid.assign(gridcell=gridcellnamingfunction)\n",
    "        .loc[:, [\"gridcell\"]]\n",
    "        .to_csv(snakemake.output[\"indreg\"], header=False, index=False)\n",
    "    )\n",
    "else:\n",
    "    with open(snakemake.output[\"indreg\"], \"w\"):\n",
    "        pass"
   ]
  },
  {
   "cell_type": "markdown",
   "id": "85c93a6b-f55b-4591-ae8c-0deecf3ffc44",
   "metadata": {},
   "source": [
    "# Solar\n"
   ]
  },
  {
   "cell_type": "markdown",
   "id": "283706f9-1eca-4def-8b08-0f499fab2127",
   "metadata": {},
   "source": [
    "## Areas\n"
   ]
  },
  {
   "cell_type": "code",
   "execution_count": null,
   "id": "6604a9ad-1943-4892-8ff9-5cb246bca9f0",
   "metadata": {},
   "outputs": [],
   "source": [
    "panel"
   ]
  },
  {
   "cell_type": "code",
   "execution_count": null,
   "id": "c6ce781c-32db-4257-86f0-2573cf201bcb",
   "metadata": {},
   "outputs": [],
   "source": [
    "orientation"
   ]
  },
  {
   "cell_type": "code",
   "execution_count": null,
   "id": "e0a81266-7994-4d4e-958a-18c514d0451e",
   "metadata": {},
   "outputs": [],
   "source": [
    "excluder_solar = ExclusionContainer()"
   ]
  },
  {
   "cell_type": "code",
   "execution_count": null,
   "id": "ef4dd04d-dc89-4ccb-9fe4-2f4002b3f67b",
   "metadata": {},
   "outputs": [],
   "source": [
    "CORINE"
   ]
  },
  {
   "cell_type": "code",
   "execution_count": null,
   "id": "df5ae2f3-0e05-44d1-bcfe-966cc5c87118",
   "metadata": {},
   "outputs": [],
   "source": [
    "codes"
   ]
  },
  {
   "cell_type": "code",
   "execution_count": null,
   "id": "9aa45bd0-d03d-4ab4-8283-a08b1063b4a7",
   "metadata": {},
   "outputs": [],
   "source": [
    "excluder_solar.add_raster(CORINE, codes=codes)"
   ]
  },
  {
   "cell_type": "code",
   "execution_count": null,
   "id": "470d1cbf-8abc-4367-984a-e9b2ba29306e",
   "metadata": {},
   "outputs": [],
   "source": [
    "WDPA_Ia"
   ]
  },
  {
   "cell_type": "code",
   "execution_count": null,
   "id": "d9a0d6a0-488d-4eab-b0c7-68a99abdbee8",
   "metadata": {},
   "outputs": [],
   "source": [
    "WDPA_Ib"
   ]
  },
  {
   "cell_type": "code",
   "execution_count": null,
   "id": "da38fc52-7c06-469e-bc10-c5040467851e",
   "metadata": {},
   "outputs": [],
   "source": [
    "WDPA_II"
   ]
  },
  {
   "cell_type": "code",
   "execution_count": null,
   "id": "9baf4e60-2cba-4f7e-88e8-ce0b079c0117",
   "metadata": {},
   "outputs": [],
   "source": [
    "WDPA_III"
   ]
  },
  {
   "cell_type": "code",
   "execution_count": null,
   "id": "dcd5d7ed-1d98-4dad-998e-a7327b641c3e",
   "metadata": {},
   "outputs": [],
   "source": [
    "WDPA_IV"
   ]
  },
  {
   "cell_type": "code",
   "execution_count": null,
   "id": "fabcb221-e1ad-494e-befe-2ba4baedb080",
   "metadata": {},
   "outputs": [],
   "source": [
    "excluder_solar.add_raster(WDPA_Ia)\n",
    "excluder_solar.add_raster(WDPA_Ib)\n",
    "excluder_solar.add_raster(WDPA_II)\n",
    "excluder_solar.add_raster(WDPA_III)\n",
    "excluder_solar.add_raster(WDPA_IV)"
   ]
  },
  {
   "cell_type": "code",
   "execution_count": null,
   "id": "54195174-7100-4156-9c8d-5f14589ee3c7",
   "metadata": {},
   "outputs": [],
   "source": [
    "degreeshp"
   ]
  },
  {
   "cell_type": "code",
   "execution_count": null,
   "id": "9960216c-0688-4931-9b57-d08e3d6bf05f",
   "metadata": {},
   "outputs": [],
   "source": [
    "slope = gpd.read_file(degreeshp).to_crs(excluder_solar.crs)\n",
    "\n",
    "slope = slope[slope[\"gridcode\"] == 1]\n",
    "\n",
    "# use invert=True to exclude the areas that are to steep instead of\n",
    "# excluding everything else\n",
    "excluder_solar.add_geometry(slope.geometry, invert=True)"
   ]
  },
  {
   "cell_type": "code",
   "execution_count": null,
   "id": "0330331d-4878-4a6b-817c-28e8aef93aa4",
   "metadata": {},
   "outputs": [],
   "source": [
    "heightshp"
   ]
  },
  {
   "cell_type": "code",
   "execution_count": null,
   "id": "ad8aa6a5-0aec-4219-9487-b86d1a1c920a",
   "metadata": {},
   "outputs": [],
   "source": [
    "height = gpd.read_file(heightshp).to_crs(excluder_solar.crs)\n",
    "\n",
    "height = height[height[\"gridcode\"] == 1]\n",
    "\n",
    "excluder_solar.add_geometry(height.geometry, invert=True)"
   ]
  },
  {
   "cell_type": "code",
   "execution_count": null,
   "id": "5ff7c0a1-8225-4119-9c6d-c8d7f6ad511d",
   "metadata": {},
   "outputs": [],
   "source": [
    "def cutoff_raster(technology, output):\n",
    "    if technology == \"pv\":\n",
    "        cf = cutout.pv(panel=panel, orientation=orientation, capacity_factor=True)\n",
    "        smallestincluded = snakemake.params.cutoffs[\"solar\"]\n",
    "\n",
    "    if technology == \"onwind\":\n",
    "        cf = cutout.wind(turbine=onshore_turbine, capacity_factor=True)\n",
    "        smallestincluded = snakemake.params.cutoffs[\"onwind\"]\n",
    "\n",
    "    if technology == \"offwind\":\n",
    "        cf = cutout.wind(turbine=offshore_bottom_turbine, capacity_factor=True)\n",
    "        smallestincluded = snakemake.params.cutoffs[\"offwind\"]\n",
    "\n",
    "    excluded = cf.where(cf.values >= smallestincluded, other=1)\n",
    "    excluded = excluded.where(cf.values < smallestincluded, other=0)\n",
    "    cf_exclusion = excluded.rio.write_crs(europe.crs)\n",
    "    cf_exclusion.rio.to_raster(output)"
   ]
  },
  {
   "cell_type": "code",
   "execution_count": null,
   "id": "6d2dc0df",
   "metadata": {},
   "outputs": [],
   "source": [
    "if snakemake.wildcards.spatial == \"grid\":\n",
    "    for exclusion_tech_type in [\n",
    "        \"cf_exclusion_solar\",\n",
    "        \"cf_exclusion_windon\",\n",
    "        \"cf_exclusion_windoff\",\n",
    "    ]:\n",
    "        with open(snakemake.output[exclusion_tech_type], \"w\"):\n",
    "            pass"
   ]
  },
  {
   "cell_type": "code",
   "execution_count": null,
   "id": "78d39bbb-d922-4dc0-bd76-8f351a2b96c7",
   "metadata": {},
   "outputs": [],
   "source": [
    "low_cf = snakemake.output.cf_exclusion_solar\n",
    "if snakemake.wildcards.spatial == \"region\" and snakemake.params.cutoffs[\"solar\"] != 0:\n",
    "    cutoff_raster(\"pv\", low_cf)\n",
    "    excluder_solar.add_raster(low_cf)"
   ]
  },
  {
   "cell_type": "code",
   "execution_count": null,
   "id": "18d1ae75-aa1f-4287-bc26-4a12c270465e",
   "metadata": {
    "scrolled": true
   },
   "outputs": [],
   "source": [
    "availability_matrix_solar = cutout.availabilitymatrix(\n",
    "    europe, excluder_solar, nprocesses=snakemake.threads\n",
    ")\n",
    "availability_matrix_solar"
   ]
  },
  {
   "cell_type": "code",
   "execution_count": null,
   "id": "eb76116d-6c4c-42d7-97cc-af292a20a38a",
   "metadata": {},
   "outputs": [],
   "source": [
    "area = cutout.grid.set_index([\"x\", \"y\"]).to_crs(3035).area / 1e6\n",
    "\n",
    "area = xr.DataArray(area, dims=(\"spatial\"))\n",
    "\n",
    "capacity_matrix_solar = availability_matrix_solar.stack(spatial=[\"x\", \"y\"]) * area\n",
    "\n",
    "capacity_matrix_solar = capacity_matrix_solar.reindex(\n",
    "    spatial=area.indexes.get(\"spatial\")\n",
    ")\n",
    "\n",
    "capacity_matrix_solar"
   ]
  },
  {
   "cell_type": "code",
   "execution_count": null,
   "id": "c8bec690-36b4-41a6-aefc-9b970e313029",
   "metadata": {},
   "outputs": [],
   "source": [
    "if snakemake.wildcards.spatial == \"grid\":\n",
    "    highRESareasSolar = (\n",
    "        capacity_matrix_solar.unstack()\n",
    "        .stack(spatial=[\"index\", \"x\", \"y\"])\n",
    "        .to_pandas()\n",
    "        .reset_index()\n",
    "        .replace({\"index\": nuts_to_ssb})\n",
    "        .assign(\n",
    "            gridcell=gridcellnamingfunction,\n",
    "            new_idx=lambda x: \"Solar.\" + x[\"index\"] + \".\" + x[\"gridcell\"],\n",
    "        )\n",
    "        .set_index(\"new_idx\")\n",
    "        .drop(columns=[\"index\"])\n",
    "        .loc[:, [0]]\n",
    "        ## the following will drop rows with a value of zero,\n",
    "        ## which will significantly reduce input file size.\n",
    "        ## downside is that the indices need to be processed seperately\n",
    "        ## then because gams needs an exhaustive list of all index values\n",
    "        .rename(columns={0: \"area\"})\n",
    "        .query(\"area != 0\")\n",
    "    )"
   ]
  },
  {
   "cell_type": "code",
   "execution_count": null,
   "id": "c9ff2a3b",
   "metadata": {},
   "outputs": [],
   "source": [
    "if snakemake.wildcards.spatial == \"region\":\n",
    "    highRESareasSolar = (\n",
    "        capacity_matrix_solar.sum(\"spatial\")\n",
    "        .to_pandas()\n",
    "        .reset_index()\n",
    "        .assign(\n",
    "            new_idx=lambda x: \"Solar.\" + x[\"index\"] + \".\" + x[\"index\"],\n",
    "        )\n",
    "        .set_index(\"new_idx\")\n",
    "        .drop(columns=[\"index\"])\n",
    "        .loc[:, [0]]\n",
    "        .rename(columns={0: \"area\"})\n",
    "        .query(\"area != 0\")\n",
    "    )"
   ]
  },
  {
   "cell_type": "code",
   "execution_count": null,
   "id": "fdcc7328",
   "metadata": {},
   "outputs": [],
   "source": [
    "highRESareasSolar"
   ]
  },
  {
   "cell_type": "code",
   "execution_count": null,
   "id": "d2ec4243-1d7d-4084-9d93-76f21e064f0b",
   "metadata": {},
   "outputs": [],
   "source": [
    "(\n",
    "    highRESareasSolar.round(1).to_csv(\n",
    "        snakemake.output[\"areassolar\"], header=False, sep=\" \"\n",
    "    )\n",
    ")"
   ]
  },
  {
   "cell_type": "markdown",
   "id": "6f9b1414-cc25-4318-8b4d-37eb3fba7d44",
   "metadata": {},
   "source": [
    "## Capacity factors\n"
   ]
  },
  {
   "cell_type": "code",
   "execution_count": null,
   "id": "90405f32-f8c2-4b48-bc2a-0bd31edf0fbf",
   "metadata": {},
   "outputs": [],
   "source": [
    "if snakemake.wildcards.spatial == \"grid\":\n",
    "    _, capacity_factor_solar = cutout.pv(\n",
    "        panel=panel,\n",
    "        orientation=orientation,\n",
    "        capacity_factor=True,\n",
    "    )\n",
    "if snakemake.wildcards.spatial == \"region\":\n",
    "    capacity_factor_solar = cutout.pv(\n",
    "        panel=panel,\n",
    "        orientation=orientation,\n",
    "        matrix=capacity_matrix_solar,\n",
    "        per_unit=True,\n",
    "        capacity_factor=True,\n",
    "        index=capacity_matrix_solar.index,\n",
    "    )\n",
    "\n",
    "capacity_factor_solar"
   ]
  },
  {
   "cell_type": "markdown",
   "id": "8869b49d-1a4d-480e-879a-a2045d12d4a2",
   "metadata": {},
   "source": [
    "# Wind\n"
   ]
  },
  {
   "cell_type": "code",
   "execution_count": null,
   "id": "f1fb1d0b-67f7-4515-94ae-94abfd5dcead",
   "metadata": {},
   "outputs": [],
   "source": [
    "excluder_wind_onshore = ExclusionContainer()"
   ]
  },
  {
   "cell_type": "code",
   "execution_count": null,
   "id": "2e27dcf1-8ca7-4b9c-92b4-db5cf8cdb3e5",
   "metadata": {},
   "outputs": [],
   "source": [
    "wind_onshore_codes_no_buffer"
   ]
  },
  {
   "cell_type": "code",
   "execution_count": null,
   "id": "176da1bd-3cd7-42a0-836f-d28afff4938b",
   "metadata": {},
   "outputs": [],
   "source": [
    "wind_onshore_codes_buffer"
   ]
  },
  {
   "cell_type": "code",
   "execution_count": null,
   "id": "b78f58e0-4a2c-4fb0-ae63-6957bf348805",
   "metadata": {},
   "outputs": [],
   "source": [
    "degreeshp"
   ]
  },
  {
   "cell_type": "code",
   "execution_count": null,
   "id": "b3e4b3f9-e0b8-49fa-b41f-3d4606890252",
   "metadata": {},
   "outputs": [],
   "source": [
    "slope = gpd.read_file(degreeshp).to_crs(excluder_wind_onshore.crs)\n",
    "\n",
    "slope = slope[slope[\"gridcode\"] == 1]\n",
    "\n",
    "excluder_wind_onshore.add_geometry(slope.geometry, invert=True)\n",
    "# use invert=True to exclude the areas that are to steep instead of\n",
    "# excluding everything else"
   ]
  },
  {
   "cell_type": "code",
   "execution_count": null,
   "id": "343d577d-5988-40f9-a69f-f52c9094f5e3",
   "metadata": {},
   "outputs": [],
   "source": [
    "heightshp"
   ]
  },
  {
   "cell_type": "code",
   "execution_count": null,
   "id": "569ea528-bd39-4546-8075-e49f0d454ebb",
   "metadata": {},
   "outputs": [],
   "source": [
    "height = gpd.read_file(heightshp).to_crs(excluder_wind_onshore.crs)\n",
    "\n",
    "height = height[height[\"gridcode\"] == 1]\n",
    "\n",
    "excluder_wind_onshore.add_geometry(height.geometry, invert=True)"
   ]
  },
  {
   "cell_type": "code",
   "execution_count": null,
   "id": "db2c0819-4f18-49b9-9e26-ed92dc883cdf",
   "metadata": {},
   "outputs": [],
   "source": [
    "if snakemake.wildcards.spatial == \"region\" and snakemake.params.cutoffs[\"onwind\"] != 0:\n",
    "    low_cf = snakemake.output.cf_exclusion_windon\n",
    "    cutoff_raster(\"onwind\", low_cf)\n",
    "    excluder_wind_onshore.add_raster(low_cf)"
   ]
  },
  {
   "cell_type": "code",
   "execution_count": null,
   "id": "c8668918-45ef-44cb-9059-2b1f2f0addfa",
   "metadata": {},
   "outputs": [],
   "source": [
    "excluder_wind_onshore"
   ]
  },
  {
   "cell_type": "code",
   "execution_count": null,
   "id": "1694fc61-9d63-4e8d-9fc2-603d59d5cc67",
   "metadata": {
    "scrolled": true,
    "tags": []
   },
   "outputs": [],
   "source": [
    "availability_matrix_wind_onshore = cutout.availabilitymatrix(\n",
    "    europe, excluder_wind_onshore\n",
    ")\n",
    "availability_matrix_wind_onshore"
   ]
  },
  {
   "cell_type": "code",
   "execution_count": null,
   "id": "db42b73d-592b-4200-9c39-559a7888e5df",
   "metadata": {},
   "outputs": [],
   "source": [
    "availability_matrix_wind_onshore.sum()"
   ]
  },
  {
   "cell_type": "code",
   "execution_count": null,
   "id": "a5433890-a417-4aee-b51c-faf4ef93d180",
   "metadata": {},
   "outputs": [],
   "source": [
    "area = cutout.grid.set_index([\"x\", \"y\"]).to_crs(3035).area / 1e6\n",
    "\n",
    "area = xr.DataArray(area, dims=(\"spatial\"))\n",
    "\n",
    "capacity_matrix_wind_onshore = (\n",
    "    availability_matrix_wind_onshore.stack(spatial=[\"x\", \"y\"]) * area\n",
    ")\n",
    "\n",
    "capacity_matrix_wind_onshore = capacity_matrix_wind_onshore.reindex(\n",
    "    spatial=area.indexes.get(\"spatial\")\n",
    ")\n",
    "\n",
    "capacity_matrix_wind_onshore"
   ]
  },
  {
   "cell_type": "code",
   "execution_count": null,
   "id": "edca7da0-1e0e-4e57-833f-dbd721b1ea9d",
   "metadata": {},
   "outputs": [],
   "source": [
    "if snakemake.wildcards.spatial == \"grid\":\n",
    "    highRESareasWindOnshore = (\n",
    "        capacity_matrix_wind_onshore.unstack()\n",
    "        .stack(spatial=[\"index\", \"x\", \"y\"])\n",
    "        .to_pandas()\n",
    "        .reset_index()\n",
    "        .assign(\n",
    "            gridcell=gridcellnamingfunction,\n",
    "            new_idx=lambda x: \"Windonshore.\" + x[\"index\"] + \".\" + x[\"gridcell\"],\n",
    "        )\n",
    "        .set_index(\"new_idx\")\n",
    "        .drop(columns=[\"index\"])\n",
    "        .loc[:, [0]]\n",
    "        ## the following will drop rows with a value of zero, which will\n",
    "        # significantly reduce input file size.\n",
    "        ## downside is that the indices need to be processed seperately then\n",
    "        # because gams needs an exhaustive list of all index values\n",
    "        .rename(columns={0: \"area\"})\n",
    "        .query(\"area != 0\")\n",
    "    )\n",
    "\n",
    "if snakemake.wildcards.spatial == \"region\":\n",
    "    highRESareasWindOnshore = (\n",
    "        capacity_matrix_wind_onshore.sum(\"spatial\")\n",
    "        .to_pandas()\n",
    "        .reset_index()\n",
    "        .assign(\n",
    "            new_idx=lambda x: \"Windonshore.\" + x[\"index\"] + \".\" + x[\"index\"],\n",
    "        )\n",
    "        .set_index(\"new_idx\")\n",
    "        .drop(columns=[\"index\"])\n",
    "        .loc[:, [0]]\n",
    "        .rename(columns={0: \"area\"})\n",
    "        .query(\"area != 0\")\n",
    "    )"
   ]
  },
  {
   "cell_type": "code",
   "execution_count": null,
   "id": "d3492033",
   "metadata": {},
   "outputs": [],
   "source": [
    "highRESareasWindOnshore"
   ]
  },
  {
   "cell_type": "code",
   "execution_count": null,
   "id": "6e981fb9-feb4-4e39-885a-69e79ae38d07",
   "metadata": {},
   "outputs": [],
   "source": [
    "(\n",
    "    highRESareasWindOnshore.round(1).to_csv(\n",
    "        snakemake.output[\"areaswindonshore\"], header=False, sep=\" \"\n",
    "    )\n",
    ")"
   ]
  },
  {
   "cell_type": "code",
   "execution_count": null,
   "id": "526050be-bd56-415c-92df-44409a83014b",
   "metadata": {},
   "outputs": [],
   "source": [
    "onshore_turbine"
   ]
  },
  {
   "cell_type": "code",
   "execution_count": null,
   "id": "4d0269b6-07d2-4dff-84ae-aaba2cae0524",
   "metadata": {},
   "outputs": [],
   "source": [
    "if snakemake.wildcards.spatial == \"grid\":\n",
    "    _, capacity_factor_wind_onshore = cutout.wind(\n",
    "        turbine=onshore_turbine, capacity_factor=True\n",
    "    )\n",
    "\n",
    "if snakemake.wildcards.spatial == \"region\":\n",
    "    capacity_factor_wind_onshore = cutout.wind(\n",
    "        turbine=onshore_turbine,\n",
    "        matrix=capacity_matrix_wind_onshore,\n",
    "        per_unit=True,\n",
    "        capacity_factor=True,\n",
    "        index=capacity_matrix_wind_onshore.index,\n",
    "    )"
   ]
  },
  {
   "cell_type": "markdown",
   "id": "50943b58-408b-443b-af9a-847c08da47f4",
   "metadata": {},
   "source": [
    "## Offshore wind bottom\n"
   ]
  },
  {
   "cell_type": "markdown",
   "id": "0a3943a3-b130-4182-a725-112669dd3daa",
   "metadata": {},
   "source": [
    "### Areas\n"
   ]
  },
  {
   "cell_type": "code",
   "execution_count": null,
   "id": "9bdcf5a0-c2b2-48dd-8c7c-e3e081030cb9",
   "metadata": {},
   "outputs": [],
   "source": [
    "geodata_files[\"offshore_bottom\"]"
   ]
  },
  {
   "cell_type": "code",
   "execution_count": null,
   "id": "d9383cf2-67b7-42a4-b4fa-75fffce48aea",
   "metadata": {},
   "outputs": [],
   "source": [
    "europe_offshore_bottom = (\n",
    "    gpd.read_file(geodata_files[\"offshore_bottom\"])\n",
    "    .replace(offshore_to_ISO3166)\n",
    "    .set_index(\"index\")\n",
    "    .filter(items=desired_regions, axis=0)\n",
    ")\n",
    "europe_offshore_bottom"
   ]
  },
  {
   "cell_type": "code",
   "execution_count": null,
   "id": "b7d911d3-efa2-486e-9178-370610fc580e",
   "metadata": {},
   "outputs": [],
   "source": [
    "europe_offshore_bottom.plot()"
   ]
  },
  {
   "cell_type": "code",
   "execution_count": null,
   "id": "22242fc9-5684-468d-85fc-7ed38117f87f",
   "metadata": {},
   "outputs": [],
   "source": [
    "year"
   ]
  },
  {
   "cell_type": "code",
   "execution_count": null,
   "id": "c1564b1c-99c2-4c88-b936-5ebfc5c561a0",
   "metadata": {},
   "outputs": [],
   "source": [
    "rectx1"
   ]
  },
  {
   "cell_type": "code",
   "execution_count": null,
   "id": "59afa06c-7507-41a8-a78a-adc7ed665a18",
   "metadata": {},
   "outputs": [],
   "source": [
    "rectx2"
   ]
  },
  {
   "cell_type": "code",
   "execution_count": null,
   "id": "369e7695-9a4a-4f10-9381-42a153aa8ef1",
   "metadata": {},
   "outputs": [],
   "source": [
    "recty1"
   ]
  },
  {
   "cell_type": "code",
   "execution_count": null,
   "id": "700a26e4-72db-488e-8b21-b9be2e33ac4e",
   "metadata": {},
   "outputs": [],
   "source": [
    "recty2"
   ]
  },
  {
   "cell_type": "code",
   "execution_count": null,
   "id": "e63fb785-dfe1-47b6-aecc-e525ec440cea",
   "metadata": {},
   "outputs": [],
   "source": [
    "polygon = Polygon(\n",
    "    [\n",
    "        (rectx1, recty1),\n",
    "        (rectx1, recty2),\n",
    "        (rectx2, recty2),\n",
    "        (rectx2, recty1),\n",
    "        (rectx1, recty1),\n",
    "    ]\n",
    ")\n",
    "europe_offshore_bottom = gpd.clip(europe_offshore_bottom, polygon)"
   ]
  },
  {
   "cell_type": "code",
   "execution_count": null,
   "id": "ce2157e7-3226-4ccc-b1e2-e02f5de30751",
   "metadata": {},
   "outputs": [],
   "source": [
    "europe_offshore_bottom.plot(figsize=(15, 15))"
   ]
  },
  {
   "cell_type": "code",
   "execution_count": null,
   "id": "3b14845c-439d-4f0b-ac2e-fa1e7017b4d2",
   "metadata": {},
   "outputs": [],
   "source": [
    "excluder_wind_offshore_bottom = ExclusionContainer()"
   ]
  },
  {
   "cell_type": "code",
   "execution_count": null,
   "id": "5e68f788-7297-4a4f-86e0-fa7ff775d32b",
   "metadata": {},
   "outputs": [],
   "source": [
    "excluder_wind_offshore_bottom"
   ]
  },
  {
   "cell_type": "code",
   "execution_count": null,
   "id": "52f5737d-c030-424c-b7bd-4281502f8069",
   "metadata": {},
   "outputs": [],
   "source": [
    "WDPA_Ia"
   ]
  },
  {
   "cell_type": "code",
   "execution_count": null,
   "id": "273d07dc-aa4a-45c0-b81a-bdffe11ce2a0",
   "metadata": {},
   "outputs": [],
   "source": [
    "WDPA_Ib"
   ]
  },
  {
   "cell_type": "code",
   "execution_count": null,
   "id": "7e32677b-a287-4da6-adb0-48564e5962e1",
   "metadata": {},
   "outputs": [],
   "source": [
    "WDPA_II"
   ]
  },
  {
   "cell_type": "code",
   "execution_count": null,
   "id": "7f93a628-e3ae-4ce0-8931-dbe73d40d5dc",
   "metadata": {},
   "outputs": [],
   "source": [
    "WDPA_III"
   ]
  },
  {
   "cell_type": "code",
   "execution_count": null,
   "id": "195eaeec-c3bd-48b9-ba29-337b009a55a0",
   "metadata": {},
   "outputs": [],
   "source": [
    "WDPA_IV"
   ]
  },
  {
   "cell_type": "code",
   "execution_count": null,
   "id": "bb880554-a92d-4438-9416-bec4503b1ffe",
   "metadata": {},
   "outputs": [],
   "source": [
    "excluder_wind_offshore_bottom.add_raster(WDPA_Ia)\n",
    "excluder_wind_offshore_bottom.add_raster(WDPA_Ib)\n",
    "excluder_wind_offshore_bottom.add_raster(WDPA_II)\n",
    "excluder_wind_offshore_bottom.add_raster(WDPA_III)\n",
    "excluder_wind_offshore_bottom.add_raster(WDPA_IV)"
   ]
  },
  {
   "cell_type": "code",
   "execution_count": null,
   "id": "c68e46d3-09e9-4232-bd28-1b24a70ea466",
   "metadata": {},
   "outputs": [],
   "source": [
    "if snakemake.wildcards.spatial == \"region\" and snakemake.params.cutoffs[\"offwind\"] != 0:\n",
    "    low_cf = snakemake.output.cf_exclusion_windoff\n",
    "    cutoff_raster(\"offwind\", low_cf)\n",
    "    excluder_wind_offshore_bottom.add_raster(low_cf)"
   ]
  },
  {
   "cell_type": "code",
   "execution_count": null,
   "id": "f1f65b2e-a66e-4977-b9fd-3d7fbcc9558f",
   "metadata": {
    "scrolled": true
   },
   "outputs": [],
   "source": [
    "availability_matrix_wind_offshore_bottom = cutout.availabilitymatrix(\n",
    "    europe_offshore_bottom, excluder_wind_offshore_bottom, nprocesses=snakemake.threads\n",
    ")\n",
    "availability_matrix_wind_offshore_bottom"
   ]
  },
  {
   "cell_type": "code",
   "execution_count": null,
   "id": "da0ec152-a5f2-4284-9f0b-d047b5b572fe",
   "metadata": {},
   "outputs": [],
   "source": [
    "area = cutout.grid.set_index([\"x\", \"y\"]).to_crs(3035).area / 1e6\n",
    "\n",
    "area = xr.DataArray(area, dims=(\"spatial\"))\n",
    "\n",
    "capacity_matrix_wind_offshore_bottom = (\n",
    "    availability_matrix_wind_offshore_bottom.stack(spatial=[\"x\", \"y\"]) * area\n",
    ")\n",
    "\n",
    "capacity_matrix_wind_offshore_bottom = capacity_matrix_wind_offshore_bottom.reindex(\n",
    "    spatial=area.indexes.get(\"spatial\")\n",
    ")\n",
    "\n",
    "capacity_matrix_wind_offshore_bottom"
   ]
  },
  {
   "cell_type": "code",
   "execution_count": null,
   "id": "a4b0d9f6-d778-49ab-b048-717dcb42c564",
   "metadata": {},
   "outputs": [],
   "source": [
    "if snakemake.wildcards.spatial == \"grid\":\n",
    "    highRESareasWindOffshoreBottom = (\n",
    "        capacity_matrix_wind_offshore_bottom.unstack()\n",
    "        .stack(spatial=[\"index\", \"x\", \"y\"])\n",
    "        .to_pandas()\n",
    "        .reset_index()\n",
    "        .assign(\n",
    "            gridcell=gridcellnamingfunction,\n",
    "            new_idx=lambda x: \"Windoffshore.\" + x[\"index\"] + \".\" + x[\"gridcell\"],\n",
    "        )\n",
    "        .set_index(\"new_idx\")\n",
    "        .drop(columns=[\"index\"])\n",
    "        .loc[:, [0]]\n",
    "        ## the following will drop rows with a value of zero, which will\n",
    "        # significantly reduce input file size.\n",
    "        ## downside is that the indices need to be processed seperately then\n",
    "        # because gams needs an exhaustive list of all index values\n",
    "        .rename(columns={0: \"area\"})\n",
    "        .query(\"area != 0\")\n",
    "    )\n",
    "\n",
    "if snakemake.wildcards.spatial == \"region\":\n",
    "    highRESareasWindOffshoreBottom = (\n",
    "        capacity_matrix_wind_offshore_bottom.sum(\"spatial\")\n",
    "        .to_pandas()\n",
    "        .reset_index()\n",
    "        .assign(\n",
    "            new_idx=lambda x: \"Windoffshore.\" + x[\"index\"] + \".\" + x[\"index\"],\n",
    "        )\n",
    "        .set_index(\"new_idx\")\n",
    "        .drop(columns=[\"index\"])\n",
    "        .loc[:, [0]]\n",
    "        .rename(columns={0: \"area\"})\n",
    "        .query(\"area != 0\")\n",
    "    )"
   ]
  },
  {
   "cell_type": "code",
   "execution_count": null,
   "id": "85d4ccb7",
   "metadata": {},
   "outputs": [],
   "source": [
    "highRESareasWindOffshoreBottom"
   ]
  },
  {
   "cell_type": "code",
   "execution_count": null,
   "id": "70e71631-48d6-4cf8-93be-c94050ae5da2",
   "metadata": {},
   "outputs": [],
   "source": [
    "highRESareasWindOffshoreBottom.round(1).to_csv(\n",
    "    snakemake.output[\"areaswindoffshore\"], header=False, sep=\" \"\n",
    ")"
   ]
  },
  {
   "cell_type": "code",
   "execution_count": null,
   "id": "daf9048c-cd0c-4d87-b3eb-314641eb651a",
   "metadata": {},
   "outputs": [],
   "source": [
    "offshore_bottom_turbine"
   ]
  },
  {
   "cell_type": "code",
   "execution_count": null,
   "id": "6069bb25",
   "metadata": {},
   "outputs": [],
   "source": [
    "if snakemake.wildcards.spatial == \"grid\":\n",
    "    _, capacity_factor_wind_offshore_bottom = cutout.wind(\n",
    "        turbine=offshore_bottom_turbine, capacity_factor=True\n",
    "    )\n",
    "\n",
    "if snakemake.wildcards.spatial == \"region\":\n",
    "    capacity_factor_wind_offshore_bottom = cutout.wind(\n",
    "        turbine=offshore_bottom_turbine,\n",
    "        matrix=capacity_matrix_wind_offshore_bottom,\n",
    "        per_unit=True,\n",
    "        capacity_factor=True,\n",
    "        index=capacity_matrix_wind_offshore_bottom.index,\n",
    "    )"
   ]
  },
  {
   "cell_type": "code",
   "execution_count": null,
   "id": "81c2e475",
   "metadata": {},
   "outputs": [],
   "source": [
    "capacity_factor_wind_offshore_bottom"
   ]
  },
  {
   "cell_type": "markdown",
   "id": "99d765d2-1d9a-4e25-8f8c-a6331057f9d9",
   "metadata": {},
   "source": [
    "# highRES-export-capacity_factors\n"
   ]
  },
  {
   "cell_type": "markdown",
   "id": "208bd48d-6e30-43fa-b3f9-b90272a17983",
   "metadata": {},
   "source": [
    "Now we need to get it in the correct output format:\n"
   ]
  },
  {
   "cell_type": "code",
   "execution_count": null,
   "id": "4720497f-8376-46d9-b80b-8c24496778d0",
   "metadata": {},
   "outputs": [],
   "source": [
    "capacity_factor_solar.name = None"
   ]
  },
  {
   "cell_type": "code",
   "execution_count": null,
   "id": "e8141def-01c2-4924-bb53-fc55affb1b9f",
   "metadata": {},
   "outputs": [],
   "source": [
    "capacity_factor_wind_onshore.name = None"
   ]
  },
  {
   "cell_type": "code",
   "execution_count": null,
   "id": "c5585e68-67ab-4c0f-9b63-ad16e48de9b7",
   "metadata": {},
   "outputs": [],
   "source": [
    "capacity_factor_solar.name = \"Solar\"\n",
    "capacity_factor_wind_onshore.name = \"Windonshore\"\n",
    "capacity_factor_wind_offshore_bottom.name = \"Windoffshore\""
   ]
  },
  {
   "cell_type": "markdown",
   "id": "eb6bbb62-0485-42e2-9b28-cddcf3228804",
   "metadata": {},
   "source": [
    "https://stackoverflow.com/questions/56457280/merging-xarray-files-into-a-new-dimension\n"
   ]
  },
  {
   "cell_type": "code",
   "execution_count": null,
   "id": "189d6701-51bf-4066-b496-c2e5a0104de2",
   "metadata": {},
   "outputs": [],
   "source": [
    "concatlist = [\n",
    "    capacity_factor_solar,\n",
    "    capacity_factor_wind_onshore,\n",
    "    capacity_factor_wind_offshore_bottom,\n",
    "]"
   ]
  },
  {
   "cell_type": "code",
   "execution_count": null,
   "id": "e330dd0a-dbf1-487a-881f-466d9a64bd73",
   "metadata": {},
   "outputs": [],
   "source": [
    "for i in concatlist:\n",
    "    print(i.name)"
   ]
  },
  {
   "cell_type": "code",
   "execution_count": null,
   "id": "80442a06-ee4a-453f-bc4e-470b214cf954",
   "metadata": {},
   "outputs": [],
   "source": [
    "range(0, len(capacity_factor_solar.time))"
   ]
  },
  {
   "cell_type": "code",
   "execution_count": null,
   "id": "68633f0d-718b-4402-bce8-d26efffe87cf",
   "metadata": {},
   "outputs": [],
   "source": [
    "xr.concat(concatlist, pd.Index(list(da.name for da in concatlist), name=\"technology\"))"
   ]
  },
  {
   "cell_type": "code",
   "execution_count": null,
   "id": "279a3653-5525-491b-9c71-901aaec024de",
   "metadata": {},
   "outputs": [],
   "source": [
    "gridcellnamingfunctionxr = (\n",
    "    lambda da: \"x\"\n",
    "    + (da.x * 100).astype(\"int\").astype(\"str\").astype(\"object\")\n",
    "    + \"y\"\n",
    "    + (da.y * 100).astype(\"int\").astype(\"str\").astype(\"object\")\n",
    ")"
   ]
  },
  {
   "cell_type": "code",
   "execution_count": null,
   "id": "c46c9b68-2f47-4d96-8236-80508d02f242",
   "metadata": {},
   "outputs": [],
   "source": [
    "year"
   ]
  },
  {
   "cell_type": "code",
   "execution_count": null,
   "id": "c0613604-0944-4c3c-9e91-3cb3d807694a",
   "metadata": {},
   "outputs": [],
   "source": [
    "if snakemake.wildcards.spatial == \"grid\":\n",
    "    (\n",
    "        xr.concat(\n",
    "            concatlist, pd.Index(list(da.name for da in concatlist), name=\"technology\")\n",
    "        )\n",
    "        .stack(spatial=[\"x\", \"y\"])\n",
    "        .assign_coords(gridcell=gridcellnamingfunctionxr)\n",
    "        .set_index(spatial=\"gridcell\")\n",
    "        .drop_vars([\"lat\", \"lon\"])\n",
    "        .assign_coords(time=range(0, len(concatlist[0].time)))\n",
    "        .stack(final=[\"time\", \"technology\", \"spatial\"])\n",
    "        .round(2)\n",
    "        .to_pandas()\n",
    "        .to_csv(snakemake.output[\"capfacfile\"])\n",
    "    )\n",
    "\n",
    "if snakemake.wildcards.spatial == \"region\":\n",
    "    (\n",
    "        xr.concat(\n",
    "            concatlist, pd.Index(list(da.name for da in concatlist), name=\"technology\")\n",
    "        )\n",
    "        .assign_coords(time=range(0, len(concatlist[0].time)))\n",
    "        .rename({\"index\": \"spatial\"})\n",
    "        .stack(final=[\"time\", \"technology\", \"spatial\"])\n",
    "        .round(2)\n",
    "        .to_pandas()\n",
    "        .to_frame()\n",
    "        .reset_index()\n",
    "        .fillna(0)\n",
    "        .set_index([\"time\", \"technology\", \"spatial\"])\n",
    "        .to_csv(snakemake.output[\"capfacfile\"])\n",
    "    )"
   ]
  }
 ],
 "metadata": {
  "kernelspec": {
   "display_name": "Python 3 (ipykernel)",
   "language": "python",
   "name": "python3"
  },
  "language_info": {
   "codemirror_mode": {
    "name": "ipython",
    "version": 3
   },
   "file_extension": ".py",
   "mimetype": "text/x-python",
   "name": "python",
   "nbconvert_exporter": "python",
   "pygments_lexer": "ipython3",
   "version": "3.9.18"
  }
 },
 "nbformat": 4,
 "nbformat_minor": 5
}
