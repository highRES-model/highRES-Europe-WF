{
 "cells": [
  {
   "cell_type": "code",
   "execution_count": null,
   "id": "5f0cee83",
   "metadata": {},
   "outputs": [],
   "source": [
    "import pandas as pd"
   ]
  },
  {
   "cell_type": "code",
   "execution_count": null,
   "id": "1e96ed93-ab03-446a-96b7-bc58b17cc3a6",
   "metadata": {},
   "outputs": [],
   "source": [
    "europe_demand = pd.read_csv(snakemake.input.europedemand, parse_dates=['datetime'], index_col='datetime')"
   ]
  },
  {
   "cell_type": "code",
   "execution_count": null,
   "id": "df2b9373-350d-49a4-a291-c7fed8d171d9",
   "metadata": {},
   "outputs": [],
   "source": [
    "# pd.read_excel('resources/14490_20250611-130454.xlsx')"
   ]
  },
  {
   "cell_type": "code",
   "execution_count": null,
   "id": "61864e17-af98-44d3-ae69-b53acf152bd3",
   "metadata": {},
   "outputs": [],
   "source": [
    "# data from https://www.ssb.no/statbank/table/14490/\n",
    "\n",
    "total_demand_2024 = pd.Series({\n",
    "    'NO083':5746.2,\n",
    "    'NO084':8818.7,\n",
    "    'NO081':8758.9,\n",
    "    'NO020':6503.7,\n",
    "    'NO085':4233.3,\n",
    "    'NO093':3443.9,\n",
    "    'NO094':6122.0,\n",
    "    'NO092':7227.1,\n",
    "    'NO0A1':12517.4,\n",
    "    'NO0A2':22996.0,\n",
    "    'NO0A3':13109.3,\n",
    "    'NO060':11169.8,\n",
    "    'NO071':10974.4,\n",
    "    'NO072':3878.8,\n",
    "    'NO073':3800.8,\n",
    "})"
   ]
  },
  {
   "cell_type": "code",
   "execution_count": null,
   "id": "1f60e40b-0bf0-48d5-9cff-2b0a5e1073d5",
   "metadata": {},
   "outputs": [],
   "source": [
    "demand_share_NO = total_demand_2024/total_demand_2024.sum()"
   ]
  },
  {
   "cell_type": "code",
   "execution_count": null,
   "id": "7485bbed-20d9-4fe8-9031-831dc6d7f49a",
   "metadata": {},
   "outputs": [],
   "source": [
    "distributed_demand_NO = {}\n",
    "for i in demand_share_NO.index:\n",
    "    distributed_demand_NO[i] = europe_demand.NO*demand_share_NO[i]\n",
    "    "
   ]
  },
  {
   "cell_type": "code",
   "execution_count": null,
   "id": "090b81fe-e40b-406d-b7b6-67b3c375be87",
   "metadata": {},
   "outputs": [],
   "source": [
    "distributed_demand_NO = pd.DataFrame(distributed_demand_NO)"
   ]
  },
  {
   "cell_type": "code",
   "execution_count": null,
   "id": "086c3a85-68d9-4b4c-b5cd-d8b25d416f97",
   "metadata": {},
   "outputs": [],
   "source": [
    "# regular consumption and losses\n",
    "distributed_demand_NO = distributed_demand_NO - distributed_demand_NO*0.05"
   ]
  },
  {
   "cell_type": "code",
   "execution_count": null,
   "id": "c521fb87-dc8d-4f49-9049-a1d5ecc460e4",
   "metadata": {},
   "outputs": [],
   "source": [
    "# electric transport (23 TWh)\n",
    "\n",
    "# data from https://www.ssb.no/statbank/table/11823/\n",
    "\n",
    "registered_vehicles_2024 = pd.Series({\n",
    "    'NO083':233032,\n",
    "    'NO084':519667,\n",
    "    'NO081':417860,\n",
    "    'NO020':374497,\n",
    "    'NO085':241815,\n",
    "    'NO093':186735,\n",
    "    'NO094':146553,\n",
    "    'NO092':244996,\n",
    "    'NO0A1':348948,\n",
    "    'NO0A2':444747,\n",
    "    'NO0A3':219043,\n",
    "    'NO060':378676,\n",
    "    'NO071':205178,\n",
    "    'NO072':141752,\n",
    "    'NO073':81973,\n",
    "})\n",
    "\n",
    "distributed_demand_NO = distributed_demand_NO + ((registered_vehicles_2024/registered_vehicles_2024.sum())*(23*10**6)/(365*24))"
   ]
  },
  {
   "cell_type": "code",
   "execution_count": null,
   "id": "385b55de-40bc-4ec5-a06f-f369f3cbe37d",
   "metadata": {},
   "outputs": [],
   "source": [
    "# Industry (70 TWh)\n",
    "\n",
    "# data from https://www.ssb.no/statbank/table/10314/\n",
    "\n",
    "industry_demand_2019 = pd.Series({\n",
    "    'NO083':2569.2,\n",
    "    'NO084':862.0,\n",
    "    'NO081':888.8,\n",
    "    'NO020':1091.6,\n",
    "    'NO085':711.2,\n",
    "    'NO093':656.3,\n",
    "    'NO094':3319.3,\n",
    "    'NO092':4581.8,\n",
    "    'NO0A1':6424.1,\n",
    "    'NO0A2':12720.9,\n",
    "    'NO0A3':8867.4,\n",
    "    'NO060':3946.9,\n",
    "    'NO071':6348.9,\n",
    "    'NO072':1052.5,\n",
    "    'NO073':2232.6,\n",
    "})\n",
    "\n",
    "distributed_demand_NO = distributed_demand_NO + (industry_demand_2019/industry_demand_2019.sum())*(70*10**6)/(365*24)"
   ]
  },
  {
   "cell_type": "code",
   "execution_count": null,
   "id": "80eb1428-1fc5-404e-987a-66da0416b672",
   "metadata": {},
   "outputs": [],
   "source": [
    "# Petroleum (6 TWh)\n",
    "\n",
    "# see NUANCE draft 2 for data source\n",
    "\n",
    "petroleum_demand = pd.Series({\n",
    "    'NO083':0.0,\n",
    "    'NO084':0.0,\n",
    "    'NO081':0.0,\n",
    "    'NO020':0.0,\n",
    "    'NO085':0.0,\n",
    "    'NO093':0.0,\n",
    "    'NO094':0.0,\n",
    "    'NO092':0.2,\n",
    "    'NO0A1':3.7,\n",
    "    'NO0A2':4.9,\n",
    "    'NO0A3':2.05,\n",
    "    'NO060':1.6,\n",
    "    'NO071':0.0,\n",
    "    'NO072':0.0,\n",
    "    'NO073':4.4,\n",
    "})\n",
    "\n",
    "distributed_demand_NO = distributed_demand_NO + (petroleum_demand/petroleum_demand.sum())*(6*10**6)/(365*24)"
   ]
  },
  {
   "cell_type": "code",
   "execution_count": null,
   "id": "ced9f2ad-facb-4b11-a6df-aed99da83ee7",
   "metadata": {},
   "outputs": [],
   "source": [
    "# Battery production and data centres (29 TWh)\n",
    "\n",
    "# see NUANCE draft 2 for data sources\n",
    "\n",
    "battery_factories = pd.Series({\n",
    "    'NO083':0.0,\n",
    "    'NO084':0.0,\n",
    "    'NO081':0.0,\n",
    "    'NO020':0.0,\n",
    "    'NO085':0.0,\n",
    "    'NO093':0.0,\n",
    "    'NO094':0.0,\n",
    "    'NO092':43.0,\n",
    "    'NO0A1':40.0,\n",
    "    'NO0A2':0.0,\n",
    "    'NO0A3':0.0,\n",
    "    'NO060':40.0,\n",
    "    'NO071':29.0,\n",
    "    'NO072':0.0,\n",
    "    'NO073':0.0,\n",
    "})*65*1000\n",
    "\n",
    "data_centres = pd.Series({\n",
    "    'NO083':0.0,\n",
    "    'NO084':0.0,\n",
    "    'NO081':0.0,\n",
    "    'NO020':150.0,\n",
    "    'NO085':0.0,\n",
    "    'NO093':0.0,\n",
    "    'NO094':840.0,\n",
    "    'NO092':0.0,\n",
    "    'NO0A1':240.0,\n",
    "    'NO0A2':0.0,\n",
    "    'NO0A3':0.0,\n",
    "    'NO060':0.0,\n",
    "    'NO071':0.0,\n",
    "    'NO072':0.0,\n",
    "    'NO073':0.0,\n",
    "})*0.8*365*24\n",
    "\n",
    "distributed_demand_NO = distributed_demand_NO + (((battery_factories + data_centres) + (29*(10**6) - (battery_factories + data_centres).sum())/15)/(365*24))"
   ]
  },
  {
   "cell_type": "code",
   "execution_count": null,
   "id": "c324232a-40c2-4b6a-804d-d22e21eb8519",
   "metadata": {},
   "outputs": [],
   "source": [
    "distributed_demand_NO.sum().sum()/10**6"
   ]
  },
  {
   "cell_type": "code",
   "execution_count": null,
   "id": "546f47cf-72d4-4598-bc4d-28ea9aaa69a3",
   "metadata": {},
   "outputs": [],
   "source": [
    "europe_demand = pd.concat([europe_demand, distributed_demand_NO], axis=1)"
   ]
  },
  {
   "cell_type": "code",
   "execution_count": null,
   "id": "9f821ac1-a2c6-49b6-9f2d-031cf31d2e6f",
   "metadata": {},
   "outputs": [],
   "source": [
    "europe_demand.to_csv(snakemake.output.europedemand)"
   ]
  }
 ],
 "metadata": {
  "kernelspec": {
   "display_name": "Python 3 (ipykernel)",
   "language": "python",
   "name": "python3"
  },
  "language_info": {
   "codemirror_mode": {
    "name": "ipython",
    "version": 3
   },
   "file_extension": ".py",
   "mimetype": "text/x-python",
   "name": "python",
   "nbconvert_exporter": "python",
   "pygments_lexer": "ipython3",
   "version": "3.12.7"
  }
 },
 "nbformat": 4,
 "nbformat_minor": 5
}
