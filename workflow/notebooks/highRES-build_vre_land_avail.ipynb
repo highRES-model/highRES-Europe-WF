{
 "cells": [
  {
   "cell_type": "code",
   "execution_count": null,
   "id": "5463aef7-65e9-4ebe-926b-76cedd383c24",
   "metadata": {},
   "outputs": [],
   "source": [
    "WDPA_Ia = snakemake.input.WDPA1a\n",
    "WDPA_Ib = snakemake.input.WDPA1b\n",
    "WDPA_II = snakemake.input.WDPA2\n",
    "WDPA_III = snakemake.input.WDPA3\n",
    "WDPA_IV = snakemake.input.WDPA4\n",
    "\n",
    "# heightshp = snakemake.input.elevation\n",
    "# degreeshp = snakemake.input.slope\n",
    "\n",
    "heightshp = \"\"\n",
    "degreeshp = \"\"\n",
    "\n",
    "weatherdata = snakemake.input.weatherdata\n",
    "\n",
    "desired_regions = snakemake.params.aggregated_regions\n",
    "\n",
    "# Geodata files to use for selecting country onshore and offshore area:\n",
    "geodata_files = {\n",
    "    \"onshore\": snakemake.input.euroshape,\n",
    "    \"offshore_bottom\": snakemake.input.eurooffshoreshape,\n",
    "}\n",
    "\n",
    "cfdata = snakemake.input.cfdata\n",
    "\n",
    "CORINE = snakemake.input.corine\n",
    "\n",
    "grid_areas_solar = snakemake.output.grid_areassolar\n",
    "grid_areas_windon = snakemake.output.grid_areaswindonshore\n",
    "grid_areas_windoff = snakemake.output.grid_areaswindoffshore"
   ]
  },
  {
   "cell_type": "code",
   "execution_count": null,
   "id": "96adb4c0-9e2e-41c9-b845-07ab9113456c",
   "metadata": {},
   "outputs": [],
   "source": [
    "codes = (\n",
    "    2,\n",
    "    4,\n",
    "    5,\n",
    "    6,\n",
    "    10,\n",
    "    11,\n",
    "    12,\n",
    "    13,\n",
    "    14,\n",
    "    15,\n",
    "    16,\n",
    "    17,\n",
    "    18,\n",
    "    19,\n",
    "    20,\n",
    "    21,\n",
    "    22,\n",
    "    23,\n",
    "    24,\n",
    "    25,\n",
    "    34,\n",
    "    35,\n",
    "    36,\n",
    "    37,\n",
    "    38,\n",
    "    39,\n",
    "    40,\n",
    "    41,\n",
    "    42,\n",
    "    43,\n",
    "    44,\n",
    ")"
   ]
  },
  {
   "cell_type": "code",
   "execution_count": null,
   "id": "af46fd47-263a-4ef5-84b1-513a643353ed",
   "metadata": {},
   "outputs": [],
   "source": [
    "wind_onshore_codes_no_buffer = (\n",
    "    3,\n",
    "    4,\n",
    "    5,\n",
    "    7,\n",
    "    8,\n",
    "    9,\n",
    "    10,\n",
    "    11,\n",
    "    34,\n",
    "    35,\n",
    "    36,\n",
    "    37,\n",
    "    38,\n",
    "    39,\n",
    "    40,\n",
    "    41,\n",
    ")\n",
    "\n",
    "wind_onshore_codes_buffer = {1: 2000, 2: 1000, 6: 5000}"
   ]
  },
  {
   "cell_type": "code",
   "execution_count": null,
   "id": "5a3bb0a8-f317-4b6b-9e8c-b9b73565b5da",
   "metadata": {},
   "outputs": [],
   "source": [
    "offshore_to_ISO3166 = {\n",
    "    \"Albania\": \"AL\",\n",
    "    \"Belgium\": \"BE\",\n",
    "    \"Bulgaria\": \"BG\",\n",
    "    \"Croatia\": \"HR\",\n",
    "    \"Cyprus\": \"CY\",\n",
    "    \"Denmark\": \"DK\",\n",
    "    \"Estonia\": \"EE\",\n",
    "    \"Finland\": \"FI\",\n",
    "    \"France\": \"FR\",\n",
    "    \"Germany\": \"DE\",\n",
    "    \"Greece\": \"GR\",\n",
    "    \"Ireland\": \"IE\",\n",
    "    \"Italy\": \"IT\",\n",
    "    \"Latvia\": \"LV\",\n",
    "    \"Lithuania\": \"LT\",\n",
    "    \"Malta\": \"MT\",\n",
    "    \"Netherlands\": \"NL\",\n",
    "    \"Poland\": \"PL\",\n",
    "    \"Portugal\": \"PT\",\n",
    "    \"Romania\": \"RO\",\n",
    "    \"Spain\": \"ES\",\n",
    "    \"Slovenia\": \"SI\",\n",
    "    \"Slovakia\": \"SK\",\n",
    "    \"Sweden\": \"SE\",\n",
    "    \"United Kingdom\": \"UK\",\n",
    "}"
   ]
  },
  {
   "cell_type": "code",
   "execution_count": null,
   "id": "76aa2f29-e0cd-4b88-a2f0-925a1890b7df",
   "metadata": {},
   "outputs": [],
   "source": [
    "# The square outer boundaries of Europe to consider,\n",
    "# because we have downloaded ERA5 for this extent:\n",
    "rectx1 = -12\n",
    "rectx2 = 44\n",
    "recty1 = 33\n",
    "recty2 = 81"
   ]
  },
  {
   "cell_type": "code",
   "execution_count": null,
   "id": "dbeed6cf-0d12-4216-86a7-19a4f10334ba",
   "metadata": {},
   "outputs": [],
   "source": [
    "panel = \"CSi\"\n",
    "orientation = \"latitude_optimal\"\n",
    "\n",
    "file_name = geodata_files[\"onshore\"]"
   ]
  },
  {
   "cell_type": "code",
   "execution_count": null,
   "id": "17583cb8-1140-4b9d-91fc-ea8064e5000a",
   "metadata": {},
   "outputs": [],
   "source": [
    "import logging\n",
    "\n",
    "import atlite\n",
    "\n",
    "logging.basicConfig(level=logging.INFO)\n",
    "\n",
    "import io\n",
    "import os\n",
    "import pathlib\n",
    "\n",
    "import geopandas as gpd\n",
    "import matplotlib.pyplot as plt\n",
    "import numpy as np\n",
    "import pandas as pd\n",
    "import requests\n",
    "import xarray as xr\n",
    "from atlite.gis import ExclusionContainer, shape_availability\n",
    "from shapely.geometry import Polygon"
   ]
  },
  {
   "cell_type": "code",
   "execution_count": null,
   "id": "28b96100-115e-48c2-b99b-f3be7b610eb5",
   "metadata": {},
   "outputs": [],
   "source": [
    "atlite.__version__  # should be 0.2.4"
   ]
  },
  {
   "cell_type": "code",
   "execution_count": null,
   "id": "e578e005-1714-4024-9762-e53e290deb5a",
   "metadata": {},
   "outputs": [],
   "source": [
    "xr.__version__  # should be 0.18.2"
   ]
  },
  {
   "cell_type": "code",
   "execution_count": null,
   "id": "895adea0-cdcd-4787-b48a-3e537df4f0f9",
   "metadata": {},
   "outputs": [],
   "source": [
    "europe = (\n",
    "    gpd.read_file(file_name)\n",
    "    .replace({\"GB\": \"UK\", \"EL\": \"GR\"})\n",
    "    .rename(columns={\"NUTS_ID\": \"index\"})\n",
    "    .loc[:, [\"index\", \"geometry\"]]\n",
    "    .sort_values(\"index\")\n",
    "    .set_index(\"index\")\n",
    "    .loc[desired_regions]\n",
    ")"
   ]
  },
  {
   "cell_type": "code",
   "execution_count": null,
   "id": "53a7a275-1350-4aff-b1bc-ff4163f5e36e",
   "metadata": {},
   "outputs": [],
   "source": [
    "polygon = Polygon(\n",
    "    [\n",
    "        (rectx1, recty1),\n",
    "        (rectx1, recty2),\n",
    "        (rectx2, recty2),\n",
    "        (rectx2, recty1),\n",
    "        (rectx1, recty1),\n",
    "    ]\n",
    ")\n",
    "europe = gpd.clip(europe, polygon)"
   ]
  },
  {
   "cell_type": "code",
   "execution_count": null,
   "id": "3dc8834a-b3f1-485a-8456-1caca15519d6",
   "metadata": {},
   "outputs": [],
   "source": [
    "boundaries = []\n",
    "for geodata_file_name, geodata_file_path in geodata_files.items():\n",
    "    print(geodata_file_path)\n",
    "    boundaries.append(\n",
    "        gpd.read_file(geodata_file_path)\n",
    "        .replace(offshore_to_ISO3166)\n",
    "        .rename(columns={\"id\": \"index\"})\n",
    "        .set_index(\"index\")\n",
    "        .filter(items=desired_regions, axis=0)\n",
    "    )\n",
    "\n",
    "boundaries = pd.concat(boundaries)\n",
    "boundaries = gpd.clip(boundaries, polygon).bounds"
   ]
  },
  {
   "cell_type": "code",
   "execution_count": null,
   "id": "660933f7-d7f8-48a7-88b2-ce95fdc505de",
   "metadata": {},
   "outputs": [],
   "source": [
    "boundaries = boundaries.groupby(lambda x: \"bountry\").agg(\n",
    "    {\"minx\": \"min\", \"miny\": \"min\", \"maxx\": \"max\", \"maxy\": \"max\"}\n",
    ")\n",
    "\n",
    "boundaries"
   ]
  },
  {
   "cell_type": "code",
   "execution_count": null,
   "id": "c948de90-58fc-4552-a13a-054735db7021",
   "metadata": {},
   "outputs": [],
   "source": [
    "cutout = atlite.Cutout(path=weatherdata)\n",
    "cutout.prepared_features\n",
    "cutout.prepare()"
   ]
  },
  {
   "cell_type": "code",
   "execution_count": null,
   "id": "58ace3cf-0c40-4b09-a40b-d9fea6db8e81",
   "metadata": {},
   "outputs": [],
   "source": [
    "cutout = atlite.Cutout(\n",
    "    path=\"../3_intermediate_data/intermediatecutout.nc\",\n",
    "    data=cutout.data.sel(\n",
    "        x=slice(\n",
    "            boundaries.loc[\"bountry\", \"minx\"],\n",
    "            boundaries.loc[\"bountry\", \"maxx\"],\n",
    "        ),\n",
    "        y=slice(\n",
    "            boundaries.loc[\"bountry\", \"miny\"],\n",
    "            boundaries.loc[\"bountry\", \"maxy\"],\n",
    "        ),\n",
    "    ),\n",
    ")\n",
    "\n",
    "cutout.prepare()"
   ]
  },
  {
   "cell_type": "code",
   "execution_count": null,
   "id": "2157726f-8283-43f3-b10b-3b44dc03f1a6",
   "metadata": {},
   "outputs": [],
   "source": [
    "gridcellnamingfunction = (\n",
    "    lambda x: \"x\"\n",
    "    + (x.x * 100).astype(\"int\").astype(\"str\")\n",
    "    + \"y\"\n",
    "    + (x.y * 100).astype(\"int\").astype(\"str\")\n",
    ")\n",
    "\n",
    "if snakemake.wildcards.spatial == \"grid\":\n",
    "    (\n",
    "        cutout.grid.assign(gridcell=gridcellnamingfunction)\n",
    "        .loc[:, [\"gridcell\"]]\n",
    "        .to_csv(snakemake.output[\"indreg\"], header=False, index=False)\n",
    "    )\n",
    "else:\n",
    "    with open(snakemake.output[\"indreg\"], \"w\"):\n",
    "        pass"
   ]
  },
  {
   "cell_type": "code",
   "execution_count": null,
   "id": "649bd96c-1448-465d-bac9-97252815ba59",
   "metadata": {},
   "outputs": [],
   "source": [
    "def cutoff_raster(cf, cutoff, output):\n",
    "    # if technology == 'pv':\n",
    "    #     cf = cutout.pv(panel=panel, orientation=orientation, capacity_factor=True)\n",
    "    #     smallestincluded = snakemake.params.cutoffs[\"solar\"]\n",
    "\n",
    "    # if technology == 'onwind':\n",
    "    #     cf = cutout.wind(turbine=onshore_turbine, capacity_factor=True)\n",
    "    #     smallestincluded = snakemake.params.cutoffs[\"onwind\"]\n",
    "\n",
    "    # if technology == 'offwind':\n",
    "    #     cf = cutout.wind(turbine=offshore_bottom_turbine, capacity_factor=True)\n",
    "    #     smallestincluded = snakemake.params.cutoffs[\"offwind\"]\n",
    "\n",
    "    excluded = xr.where(cf >= cutoff, 0, 1)\n",
    "\n",
    "    # excluded = cf.where(cf.values>=cutoff, other=1)\n",
    "    # excluded = excluded.where(cf.values<cutoff, other=0)\n",
    "    cf_exclusion = excluded.rio.write_crs(europe.crs)\n",
    "\n",
    "    cf_exclusion.rio.to_raster(output)"
   ]
  },
  {
   "cell_type": "markdown",
   "id": "c374287c-722c-497c-9314-91a46a59e7df",
   "metadata": {},
   "source": [
    "# Solar areas"
   ]
  },
  {
   "cell_type": "code",
   "execution_count": null,
   "id": "c3a239a6-4694-4d62-915f-faae1904d965",
   "metadata": {},
   "outputs": [],
   "source": [
    "excluder_solar = ExclusionContainer()"
   ]
  },
  {
   "cell_type": "code",
   "execution_count": null,
   "id": "8b16c457-f59c-4af9-b9a1-3c1b8ba3c69b",
   "metadata": {},
   "outputs": [],
   "source": [
    "excluder_solar.add_raster(CORINE, codes=codes)\n",
    "excluder_solar.add_raster(WDPA_Ia)\n",
    "excluder_solar.add_raster(WDPA_Ib)\n",
    "excluder_solar.add_raster(WDPA_II)\n",
    "excluder_solar.add_raster(WDPA_III)\n",
    "excluder_solar.add_raster(WDPA_IV)"
   ]
  },
  {
   "cell_type": "code",
   "execution_count": null,
   "id": "466ed636-4ed0-4b4f-95fe-0c7c753d9ce2",
   "metadata": {},
   "outputs": [],
   "source": [
    "if degreeshp != \"\":\n",
    "    slope = gpd.read_file(degreeshp).to_crs(excluder_solar.crs)\n",
    "\n",
    "    slope = slope[slope[\"gridcode\"] == 1]\n",
    "\n",
    "    # use invert=True to exclude the areas that are to steep instead of\n",
    "    # excluding everything else\n",
    "    excluder_solar.add_geometry(slope.geometry, invert=True)"
   ]
  },
  {
   "cell_type": "code",
   "execution_count": null,
   "id": "af943e18-bf93-488e-9f6a-44eb38348b4f",
   "metadata": {},
   "outputs": [],
   "source": [
    "if heightshp != \"\":\n",
    "    height = gpd.read_file(heightshp).to_crs(excluder_solar.crs)\n",
    "\n",
    "    height = height[height[\"gridcode\"] == 1]\n",
    "\n",
    "    excluder_solar.add_geometry(height.geometry, invert=True)"
   ]
  },
  {
   "cell_type": "code",
   "execution_count": null,
   "id": "e10b77d7-2886-4784-a3fc-8a9f543e30e5",
   "metadata": {},
   "outputs": [],
   "source": [
    "if snakemake.wildcards.spatial == \"region\" and snakemake.params.cutoffs[\"solar\"] != 0:\n",
    "    cf = xr.open_dataarray(cfdata)\n",
    "\n",
    "    low_cf = snakemake.output.cf_exclusion_solar\n",
    "    cutoff_raster(\n",
    "        cf.loc[\"Solar\", :, :, :].mean(dim=\"time\"),\n",
    "        snakemake.params.cutoffs[\"solar\"],\n",
    "        low_cf,\n",
    "    )\n",
    "    excluder_solar.add_raster(low_cf)"
   ]
  },
  {
   "cell_type": "code",
   "execution_count": null,
   "id": "3e6cb421-4adc-41e4-80a1-5eebee9087e5",
   "metadata": {},
   "outputs": [],
   "source": [
    "excluder_solar"
   ]
  },
  {
   "cell_type": "code",
   "execution_count": null,
   "id": "e74768bc-e035-4682-9db3-98134b73d277",
   "metadata": {},
   "outputs": [],
   "source": [
    "availability_matrix_solar = cutout.availabilitymatrix(\n",
    "    europe, excluder_solar, nprocesses=snakemake.threads\n",
    ")"
   ]
  },
  {
   "cell_type": "code",
   "execution_count": null,
   "id": "88f742f0-4bfd-4fc0-8051-3887facd440e",
   "metadata": {},
   "outputs": [],
   "source": [
    "snakemake.output.grid_areassolar"
   ]
  },
  {
   "cell_type": "code",
   "execution_count": null,
   "id": "4d04693d-1e17-4b34-a20a-41c2ed288bb9",
   "metadata": {},
   "outputs": [],
   "source": [
    "area = cutout.grid.set_index([\"x\", \"y\"]).to_crs(3035).area / 1e6\n",
    "\n",
    "area = xr.DataArray(area, dims=(\"spatial\"))\n",
    "\n",
    "\n",
    "capacity_matrix_solar = availability_matrix_solar.stack(spatial=[\"x\", \"y\"]) * area\n",
    "\n",
    "capacity_matrix_solar = capacity_matrix_solar.reindex(\n",
    "    spatial=area.indexes.get(\"spatial\")\n",
    ")\n",
    "\n",
    "highRESareasSolar = (\n",
    "    capacity_matrix_solar.unstack()\n",
    "    .stack(spatial=[\"index\", \"x\", \"y\"])\n",
    "    .to_pandas()\n",
    "    .reset_index()\n",
    "    .replace()\n",
    "    .assign(gridcell=gridcellnamingfunction)\n",
    "    .rename(columns={0: \"area\"})\n",
    "    .query(\"area != 0\")\n",
    ")\n",
    "\n",
    "highRESareasSolar.round(1).to_csv(grid_areas_solar, index=False)"
   ]
  },
  {
   "cell_type": "code",
   "execution_count": null,
   "id": "770eec97-3414-49ad-8343-8ebc937439ef",
   "metadata": {},
   "outputs": [],
   "source": [
    "# if snakemake.wildcards.spatial == \"region\":\n",
    "#     highRESareasSolar = (\n",
    "#         capacity_matrix_solar.sum(\"spatial\")\n",
    "#         .to_pandas()\n",
    "#         .reset_index()\n",
    "#         .assign(\n",
    "#             new_idx=lambda x: \"Solar.\" + x[\"index\"] + \".\" + x[\"index\"],\n",
    "#         )\n",
    "#         .set_index(\"new_idx\")\n",
    "#         .drop(columns=[\"index\"])\n",
    "#         .loc[:, [0]]\n",
    "#         .rename(columns={0: \"area\"})\n",
    "#         .query(\"area != 0\")\n",
    "#     )"
   ]
  },
  {
   "cell_type": "code",
   "execution_count": null,
   "id": "01a2b9a0-aa32-4a0b-8bf7-a6144085b4da",
   "metadata": {},
   "outputs": [],
   "source": [
    "# Onshore wind areas"
   ]
  },
  {
   "cell_type": "code",
   "execution_count": null,
   "id": "8cf1340c-c9f9-4783-b8a7-89a6ebf74559",
   "metadata": {},
   "outputs": [],
   "source": [
    "excluder_wind_onshore = ExclusionContainer()"
   ]
  },
  {
   "cell_type": "code",
   "execution_count": null,
   "id": "09eb5d50-d0f5-4b0f-9f9f-f059d9761b56",
   "metadata": {},
   "outputs": [],
   "source": [
    "if degreeshp != \"\":\n",
    "    slope = gpd.read_file(degreeshp).to_crs(excluder_wind_onshore.crs)\n",
    "\n",
    "    slope = slope[slope[\"gridcode\"] == 1]\n",
    "\n",
    "    excluder_wind_onshore.add_geometry(slope.geometry, invert=True)\n",
    "    # use invert=True to exclude the areas that are to steep instead of\n",
    "    # excluding everything else"
   ]
  },
  {
   "cell_type": "code",
   "execution_count": null,
   "id": "b1884492-b889-45de-b45a-ae792139d93a",
   "metadata": {},
   "outputs": [],
   "source": [
    "if heightshp != \"\":\n",
    "    height = gpd.read_file(heightshp).to_crs(excluder_wind_onshore.crs)\n",
    "\n",
    "    height = height[height[\"gridcode\"] == 1]\n",
    "\n",
    "    excluder_wind_onshore.add_geometry(height.geometry, invert=True)"
   ]
  },
  {
   "cell_type": "code",
   "execution_count": null,
   "id": "35240b83-3f39-40a8-b3bc-8eb8ad8ee984",
   "metadata": {},
   "outputs": [],
   "source": [
    "if snakemake.wildcards.spatial == \"region\" and snakemake.params.cutoffs[\"onwind\"] != 0:\n",
    "    cf = xr.open_dataarray(cfdata)\n",
    "\n",
    "    low_cf = snakemake.output.cf_exclusion_windon\n",
    "    cutoff_raster(\n",
    "        cf.loc[\"Windonshore\", :, :, :].mean(dim=\"time\"),\n",
    "        snakemake.params.cutoffs[\"onwind\"],\n",
    "        low_cf,\n",
    "    )\n",
    "    excluder_wind_onshore.add_raster(low_cf)"
   ]
  },
  {
   "cell_type": "code",
   "execution_count": null,
   "id": "fb8c5dfb-ad45-4492-8ab5-ebafa1303da3",
   "metadata": {},
   "outputs": [],
   "source": [
    "availability_matrix_wind_onshore = cutout.availabilitymatrix(\n",
    "    europe, excluder_wind_onshore\n",
    ")\n",
    "availability_matrix_wind_onshore"
   ]
  },
  {
   "cell_type": "code",
   "execution_count": null,
   "id": "0318fbf6-db91-4cc2-b846-d7d039e032ee",
   "metadata": {},
   "outputs": [],
   "source": [
    "area = cutout.grid.set_index([\"x\", \"y\"]).to_crs(3035).area / 1e6\n",
    "\n",
    "area = xr.DataArray(area, dims=(\"spatial\"))\n",
    "\n",
    "capacity_matrix_wind_onshore = (\n",
    "    availability_matrix_wind_onshore.stack(spatial=[\"x\", \"y\"]) * area\n",
    ")\n",
    "\n",
    "capacity_matrix_wind_onshore = capacity_matrix_wind_onshore.reindex(\n",
    "    spatial=area.indexes.get(\"spatial\")\n",
    ")\n",
    "\n",
    "highRESareasWindOnshore = (\n",
    "    capacity_matrix_wind_onshore.unstack()\n",
    "    .stack(spatial=[\"index\", \"x\", \"y\"])\n",
    "    .to_pandas()\n",
    "    .reset_index()\n",
    "    .replace()\n",
    "    .assign(gridcell=gridcellnamingfunction)\n",
    "    .rename(columns={0: \"area\"})\n",
    "    .query(\"area != 0\")\n",
    ")\n",
    "\n",
    "highRESareasWindOnshore.round(1).to_csv(grid_areas_windon, index=False)"
   ]
  },
  {
   "cell_type": "code",
   "execution_count": null,
   "id": "be930fa3-21fa-455f-a0b1-d589a91a7a41",
   "metadata": {},
   "outputs": [],
   "source": [
    "# if snakemake.wildcards.spatial == \"region\":\n",
    "#     highRESareasWindOnshore = (\n",
    "#         capacity_matrix_wind_onshore.sum(\"spatial\")\n",
    "#         .to_pandas()\n",
    "#         .reset_index()\n",
    "#         .assign(\n",
    "#             new_idx=lambda x: \"Windonshore.\" + x[\"index\"] + \".\" + x[\"index\"],\n",
    "#         )\n",
    "#         .set_index(\"new_idx\")\n",
    "#         .drop(columns=[\"index\"])\n",
    "#         .loc[:, [0]]\n",
    "#         .rename(columns={0: \"area\"})\n",
    "#         .query(\"area != 0\")\n",
    "#     )"
   ]
  },
  {
   "cell_type": "code",
   "execution_count": null,
   "id": "23d5cffc-385e-4ae0-a242-3f31b5dea896",
   "metadata": {},
   "outputs": [],
   "source": [
    "# Offshore wind areas"
   ]
  },
  {
   "cell_type": "code",
   "execution_count": null,
   "id": "6e603265-696f-4763-b632-e55df09e1191",
   "metadata": {},
   "outputs": [],
   "source": [
    "europe_offshore_bottom = (\n",
    "    gpd.read_file(geodata_files[\"offshore_bottom\"])\n",
    "    .replace(offshore_to_ISO3166)\n",
    "    .set_index(\"index\")\n",
    "    .filter(items=desired_regions, axis=0)\n",
    ")\n",
    "europe_offshore_bottom"
   ]
  },
  {
   "cell_type": "code",
   "execution_count": null,
   "id": "9dce6131-5d42-4770-be07-f6326a888948",
   "metadata": {},
   "outputs": [],
   "source": [
    "polygon = Polygon(\n",
    "    [\n",
    "        (rectx1, recty1),\n",
    "        (rectx1, recty2),\n",
    "        (rectx2, recty2),\n",
    "        (rectx2, recty1),\n",
    "        (rectx1, recty1),\n",
    "    ]\n",
    ")\n",
    "europe_offshore_bottom = gpd.clip(europe_offshore_bottom, polygon)"
   ]
  },
  {
   "cell_type": "code",
   "execution_count": null,
   "id": "38f4146b-482d-44a6-8a35-45421379e821",
   "metadata": {},
   "outputs": [],
   "source": [
    "excluder_wind_offshore_bottom = ExclusionContainer()"
   ]
  },
  {
   "cell_type": "code",
   "execution_count": null,
   "id": "09b7f1d3-d492-43a7-a3f0-f3feec793970",
   "metadata": {},
   "outputs": [],
   "source": [
    "excluder_wind_offshore_bottom.add_raster(WDPA_Ia)\n",
    "excluder_wind_offshore_bottom.add_raster(WDPA_Ib)\n",
    "excluder_wind_offshore_bottom.add_raster(WDPA_II)\n",
    "excluder_wind_offshore_bottom.add_raster(WDPA_III)\n",
    "excluder_wind_offshore_bottom.add_raster(WDPA_IV)"
   ]
  },
  {
   "cell_type": "code",
   "execution_count": null,
   "id": "a5735e89-02b2-467d-a718-283ab483825e",
   "metadata": {},
   "outputs": [],
   "source": [
    "if snakemake.wildcards.spatial == \"region\" and snakemake.params.cutoffs[\"offwind\"] != 0:\n",
    "    cf = xr.open_dataarray(cfdata)\n",
    "\n",
    "    low_cf = snakemake.output.cf_exclusion_windoff\n",
    "    cutoff_raster(\n",
    "        cf.loc[\"Windoffshore\", :, :, :].mean(dim=\"time\"),\n",
    "        snakemake.params.cutoffs[\"offwind\"],\n",
    "        low_cf,\n",
    "    )\n",
    "    excluder_wind_offshore_bottom.add_raster(low_cf)"
   ]
  },
  {
   "cell_type": "code",
   "execution_count": null,
   "id": "559bc7b8-26f0-4f03-aaa4-b690e0b6ef7a",
   "metadata": {},
   "outputs": [],
   "source": [
    "availability_matrix_wind_offshore_bottom = cutout.availabilitymatrix(\n",
    "    europe_offshore_bottom, excluder_wind_offshore_bottom, nprocesses=snakemake.threads\n",
    ")\n",
    "availability_matrix_wind_offshore_bottom"
   ]
  },
  {
   "cell_type": "code",
   "execution_count": null,
   "id": "1b9576e2-aae5-4ccd-a357-a9951fb1f477",
   "metadata": {},
   "outputs": [],
   "source": [
    "area = cutout.grid.set_index([\"x\", \"y\"]).to_crs(3035).area / 1e6\n",
    "\n",
    "area = xr.DataArray(area, dims=(\"spatial\"))\n",
    "\n",
    "capacity_matrix_wind_offshore_bottom = (\n",
    "    availability_matrix_wind_offshore_bottom.stack(spatial=[\"x\", \"y\"]) * area\n",
    ")\n",
    "\n",
    "capacity_matrix_wind_offshore_bottom = capacity_matrix_wind_offshore_bottom.reindex(\n",
    "    spatial=area.indexes.get(\"spatial\")\n",
    ")\n",
    "\n",
    "highRESareasWindOffshoreBottom = (\n",
    "    capacity_matrix_wind_offshore_bottom.unstack()\n",
    "    .stack(spatial=[\"index\", \"x\", \"y\"])\n",
    "    .to_pandas()\n",
    "    .reset_index()\n",
    "    .replace()\n",
    "    .assign(gridcell=gridcellnamingfunction)\n",
    "    .rename(columns={0: \"area\"})\n",
    "    .query(\"area != 0\")\n",
    ")\n",
    "\n",
    "highRESareasWindOffshoreBottom.round(1).to_csv(grid_areas_windoff, index=False)"
   ]
  },
  {
   "cell_type": "code",
   "execution_count": null,
   "id": "683fe658-2815-453d-8167-569d2b164e32",
   "metadata": {},
   "outputs": [],
   "source": [
    "# if snakemake.wildcards.spatial == \"region\":\n",
    "#     highRESareasWindOffshoreBottom = (\n",
    "#         capacity_matrix_wind_offshore_bottom.sum(\"spatial\")\n",
    "#         .to_pandas()\n",
    "#         .reset_index()\n",
    "#         .assign(\n",
    "#             new_idx=lambda x: \"Windoffshore.\" + x[\"index\"] + \".\" + x[\"index\"],\n",
    "#         )\n",
    "#         .set_index(\"new_idx\")\n",
    "#         .drop(columns=[\"index\"])\n",
    "#         .loc[:, [0]]\n",
    "#         .rename(columns={0: \"area\"})\n",
    "#         .query(\"area != 0\")\n",
    "#     )"
   ]
  },
  {
   "cell_type": "code",
   "execution_count": null,
   "id": "6d81c9ff-cf5a-4aa4-9c2d-7054c91f7495",
   "metadata": {},
   "outputs": [],
   "source": []
  }
 ],
 "metadata": {
  "kernelspec": {
   "display_name": "Python 3 (ipykernel)",
   "language": "python",
   "name": "python3"
  },
  "language_info": {
   "codemirror_mode": {
    "name": "ipython",
    "version": 3
   },
   "file_extension": ".py",
   "mimetype": "text/x-python",
   "name": "python",
   "nbconvert_exporter": "python",
   "pygments_lexer": "ipython3",
   "version": "3.9.18"
  }
 },
 "nbformat": 4,
 "nbformat_minor": 5
}
