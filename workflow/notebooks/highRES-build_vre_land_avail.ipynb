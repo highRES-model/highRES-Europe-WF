{
 "cells": [
  {
   "cell_type": "code",
   "execution_count": null,
   "id": "5463aef7-65e9-4ebe-926b-76cedd383c24",
   "metadata": {},
   "outputs": [],
   "source": [
    "# wind exclusions\n",
    "social_exclusion = snakemake.input.social_excl\n",
    "environmental_exclusion = snakemake.input.env_excl\n",
    "technical_exclusion = snakemake.input.techn_excl\n",
    "onshore_slope = snakemake.input.onshore_slope\n",
    "\n",
    "if snakemake.params.elevation_excl:\n",
    "    heightshp = snakemake.input.elevation\n",
    "else:\n",
    "    heightshp = \"\"\n",
    "\n",
    "if snakemake.params.onshore_slope_excl:\n",
    "    onshore_slope = snakemake.input.onshore_slope\n",
    "else:\n",
    "    onshore_slope=\"\"\n",
    "\n",
    "# solar exclusions\n",
    "solar_slope = snakemake.input.solar_slope\n",
    "solar_env_excl = snakemake.input.solar_env_excl\n",
    "solar_agr_excl = snakemake.input.solar_agr_excl\n",
    "CORINE = snakemake.input.corine\n",
    "\n",
    "CORINE = snakemake.input.corine\n",
    "\n",
    "weatherdata = snakemake.input.weatherdata\n",
    "desired_regions = snakemake.params.aggregated_regions\n",
    "\n",
    "# Geodata files to use for selecting country onshore and offshore area:\n",
    "geodata_files = {\n",
    "    \"onshore\": snakemake.input.euroshape,\n",
    "    \"offshore_bottom\": snakemake.input.eurooffshoreshape,\n",
    "}\n",
    "\n",
    "cfdata = snakemake.input.cfdata\n",
    "\n",
    "grid_areas = snakemake.output.grid_areas"
   ]
  },
  {
   "cell_type": "code",
   "execution_count": null,
   "id": "dbeed6cf-0d12-4216-86a7-19a4f10334ba",
   "metadata": {},
   "outputs": [],
   "source": [
    "panel = \"CSi\"\n",
    "orientation = \"latitude_optimal\"\n",
    "\n",
    "file_name = geodata_files[\"onshore\"]"
   ]
  },
  {
   "cell_type": "code",
   "execution_count": null,
   "id": "17583cb8-1140-4b9d-91fc-ea8064e5000a",
   "metadata": {},
   "outputs": [],
   "source": [
    "import logging\n",
    "\n",
    "import atlite\n",
    "\n",
    "logging.basicConfig(level=logging.INFO)\n",
    "\n",
    "import io\n",
    "import os\n",
    "import pathlib\n",
    "\n",
    "import geopandas as gpd\n",
    "import matplotlib.pyplot as plt\n",
    "import numpy as np\n",
    "import pandas as pd\n",
    "import requests\n",
    "import xarray as xr\n",
    "from atlite.gis import ExclusionContainer, shape_availability\n",
    "from shapely.geometry import Polygon"
   ]
  },
  {
   "cell_type": "code",
   "execution_count": null,
   "id": "28b96100-115e-48c2-b99b-f3be7b610eb5",
   "metadata": {},
   "outputs": [],
   "source": [
    "atlite.__version__  # should be 0.2.4"
   ]
  },
  {
   "cell_type": "code",
   "execution_count": null,
   "id": "e578e005-1714-4024-9762-e53e290deb5a",
   "metadata": {},
   "outputs": [],
   "source": [
    "xr.__version__  # should be 0.18.2"
   ]
  },
  {
   "cell_type": "code",
   "execution_count": null,
   "id": "60fee929-582b-48b8-b8e9-100f88a879fb",
   "metadata": {},
   "outputs": [],
   "source": [
    "europe = gpd.read_file(geodata_files[\"onshore\"]).set_index([\"index\"])\n",
    "bad_zones = ['ES64','EL43']\n",
    "europe = europe.query(\"index != @bad_zones\")"
   ]
  },
  {
   "cell_type": "code",
   "execution_count": null,
   "id": "3dc8834a-b3f1-485a-8456-1caca15519d6",
   "metadata": {},
   "outputs": [],
   "source": [
    "boundaries = []\n",
    "for geodata_file_name, geodata_file_path in geodata_files.items():\n",
    "    print(geodata_file_path)\n",
    "    boundaries.append(gpd.read_file(geodata_file_path).set_index([\"index\"]))\n",
    "\n",
    "boundaries = pd.concat(boundaries).bounds"
   ]
  },
  {
   "cell_type": "code",
   "execution_count": null,
   "id": "660933f7-d7f8-48a7-88b2-ce95fdc505de",
   "metadata": {},
   "outputs": [],
   "source": [
    "boundaries = boundaries.groupby(lambda x: \"bountry\").agg(\n",
    "    {\"minx\": \"min\", \"miny\": \"min\", \"maxx\": \"max\", \"maxy\": \"max\"}\n",
    ")\n",
    "\n",
    "boundaries"
   ]
  },
  {
   "cell_type": "code",
   "execution_count": null,
   "id": "c948de90-58fc-4552-a13a-054735db7021",
   "metadata": {},
   "outputs": [],
   "source": [
    "cutout = atlite.Cutout(path=weatherdata)\n",
    "cutout.prepared_features\n",
    "cutout.prepare()"
   ]
  },
  {
   "cell_type": "code",
   "execution_count": null,
   "id": "58ace3cf-0c40-4b09-a40b-d9fea6db8e81",
   "metadata": {},
   "outputs": [],
   "source": [
    "cutout = atlite.Cutout(\n",
    "    path=\"../3_intermediate_data/intermediatecutout.nc\",\n",
    "    data=cutout.data.sel(\n",
    "        x=slice(\n",
    "            boundaries.loc[\"bountry\", \"minx\"],\n",
    "            boundaries.loc[\"bountry\", \"maxx\"],\n",
    "        ),\n",
    "        y=slice(\n",
    "            boundaries.loc[\"bountry\", \"miny\"],\n",
    "            boundaries.loc[\"bountry\", \"maxy\"],\n",
    "        ),\n",
    "    ),\n",
    ")\n",
    "\n",
    "cutout.prepare()"
   ]
  },
  {
   "cell_type": "code",
   "execution_count": null,
   "id": "2157726f-8283-43f3-b10b-3b44dc03f1a6",
   "metadata": {},
   "outputs": [],
   "source": [
    "gridcellnamingfunction = (\n",
    "    lambda x: \"x\"\n",
    "    + (x.x * 100).astype(\"int\").astype(\"str\")\n",
    "    + \"y\"\n",
    "    + (x.y * 100).astype(\"int\").astype(\"str\")\n",
    ")\n",
    "\n",
    "if snakemake.wildcards.spatial == \"grid\":\n",
    "    (\n",
    "        cutout.grid.assign(gridcell=gridcellnamingfunction)\n",
    "        .loc[:, [\"gridcell\"]]\n",
    "        .to_csv(snakemake.output[\"indreg\"], header=False, index=False)\n",
    "    )\n",
    "else:\n",
    "    with open(snakemake.output[\"indreg\"], \"w\"):\n",
    "        pass"
   ]
  },
  {
   "cell_type": "code",
   "execution_count": null,
   "id": "649bd96c-1448-465d-bac9-97252815ba59",
   "metadata": {},
   "outputs": [],
   "source": [
    "def cutoff_raster(cf, cutoff, output):\n",
    "    # if technology == 'pv':\n",
    "    #     cf = cutout.pv(panel=panel, orientation=orientation, capacity_factor=True)\n",
    "    #     smallestincluded = snakemake.params.cutoffs[\"solar\"]\n",
    "\n",
    "    # if technology == 'onwind':\n",
    "    #     cf = cutout.wind(turbine=onshore_turbine, capacity_factor=True)\n",
    "    #     smallestincluded = snakemake.params.cutoffs[\"onwind\"]\n",
    "\n",
    "    # if technology == 'offwind':\n",
    "    #     cf = cutout.wind(turbine=offshore_bottom_turbine, capacity_factor=True)\n",
    "    #     smallestincluded = snakemake.params.cutoffs[\"offwind\"]\n",
    "\n",
    "    excluded = xr.where(cf >= cutoff, 0, 1)\n",
    "\n",
    "    # excluded = cf.where(cf.values>=cutoff, other=1)\n",
    "    # excluded = excluded.where(cf.values<cutoff, other=0)\n",
    "    cf_exclusion = excluded.rio.write_crs(europe.crs)\n",
    "\n",
    "    if os.path.isfile(output):\n",
    "        os.remove(output)\n",
    "\n",
    "    cf_exclusion.rio.to_raster(output)"
   ]
  },
  {
   "cell_type": "markdown",
   "id": "c374287c-722c-497c-9314-91a46a59e7df",
   "metadata": {},
   "source": [
    "# Solar areas"
   ]
  },
  {
   "cell_type": "code",
   "execution_count": null,
   "id": "c3a239a6-4694-4d62-915f-faae1904d965",
   "metadata": {},
   "outputs": [],
   "source": [
    "excluder_solar = ExclusionContainer()"
   ]
  },
  {
   "cell_type": "code",
   "execution_count": null,
   "id": "8b16c457-f59c-4af9-b9a1-3c1b8ba3c69b",
   "metadata": {},
   "outputs": [],
   "source": [
    "excluder_solar.add_raster(CORINE, codes=tuple(snakemake.params.corine_codes[\"solar\"]))\n",
    "excluder_solar.add_raster(solar_env_excl)\n",
    "excluder_solar.add_raster(solar_agr_excl)"
   ]
  },
  {
   "cell_type": "code",
   "execution_count": null,
   "id": "466ed636-4ed0-4b4f-95fe-0c7c753d9ce2",
   "metadata": {},
   "outputs": [],
   "source": [
    "if solar_slope != \"\":\n",
    "    excluder_solar.add_raster(solar_slope)"
   ]
  },
  {
   "cell_type": "code",
   "execution_count": null,
   "id": "af943e18-bf93-488e-9f6a-44eb38348b4f",
   "metadata": {},
   "outputs": [],
   "source": [
    "if heightshp != \"\":\n",
    "    height = gpd.read_file(heightshp).to_crs(excluder_solar.crs)\n",
    "\n",
    "    height = height[height[\"gridcode\"] == 1]\n",
    "\n",
    "    excluder_solar.add_geometry(height.geometry, invert=True)"
   ]
  },
  {
   "cell_type": "code",
   "execution_count": null,
   "id": "e10b77d7-2886-4784-a3fc-8a9f543e30e5",
   "metadata": {},
   "outputs": [],
   "source": [
    "if snakemake.wildcards.spatial != \"grid\" and snakemake.params.cutoffs[\"solar\"] != 0:\n",
    "    cf = xr.open_dataarray(cfdata)\n",
    "\n",
    "    low_cf = snakemake.output.cf_exclusion_solar\n",
    "    cutoff_raster(\n",
    "        cf.loc[\"Solar\", :, :, :].mean(dim=\"time\"),\n",
    "        snakemake.params.cutoffs[\"solar\"],\n",
    "        low_cf,\n",
    "    )\n",
    "    excluder_solar.add_raster(low_cf)"
   ]
  },
  {
   "cell_type": "code",
   "execution_count": null,
   "id": "3e6cb421-4adc-41e4-80a1-5eebee9087e5",
   "metadata": {},
   "outputs": [],
   "source": [
    "excluder_solar"
   ]
  },
  {
   "cell_type": "code",
   "execution_count": null,
   "id": "e74768bc-e035-4682-9db3-98134b73d277",
   "metadata": {},
   "outputs": [],
   "source": [
    "availability_matrix_solar = cutout.availabilitymatrix(\n",
    "    europe, excluder_solar, nprocesses=snakemake.threads\n",
    ")"
   ]
  },
  {
   "cell_type": "code",
   "execution_count": null,
   "id": "5ca45df5-58d2-4a2a-b34d-435eacce5e7e",
   "metadata": {},
   "outputs": [],
   "source": [
    "# plot eligible area - this is slow so commented out for now\n",
    "\n",
    "# fig, ax = plt.subplots(figsize=(10,10))\n",
    "\n",
    "# euro=europe.to_crs(excluder_solar.crs).dissolve().reset_index()\n",
    "\n",
    "# excluder_solar.plot_shape_availability(euro,ax=ax)"
   ]
  },
  {
   "cell_type": "code",
   "execution_count": null,
   "id": "88f742f0-4bfd-4fc0-8051-3887facd440e",
   "metadata": {},
   "outputs": [],
   "source": [
    "availability_matrix_solar"
   ]
  },
  {
   "cell_type": "code",
   "execution_count": null,
   "id": "4d04693d-1e17-4b34-a20a-41c2ed288bb9",
   "metadata": {},
   "outputs": [],
   "source": [
    "area = cutout.grid.set_index([\"x\", \"y\"]).to_crs(3035).area / 1e6\n",
    "\n",
    "area = xr.DataArray(area, dims=(\"spatial\"))\n",
    "\n",
    "capacity_matrix_solar = availability_matrix_solar.stack(spatial=[\"x\", \"y\"]) * area\n",
    "\n",
    "# comparing the cap matrix before and after, the below is not required\n",
    "# as all it does is reorder the array and breaks the latest xarray\n",
    "# (v2024.03.0).\n",
    "\n",
    "# capacity_matrix_solar = capacity_matrix_solar.reindex(\n",
    "#    spatial=area.indexes.get(\"spatial\")\n",
    "# )\n",
    "\n",
    "\n",
    "highRESareasSolar = (\n",
    "    capacity_matrix_solar.unstack()\n",
    "    .stack(spatial=[\"index\", \"x\", \"y\"])\n",
    "    .to_pandas()\n",
    "    .reset_index()\n",
    "    .replace()\n",
    "    .assign(gridcell=gridcellnamingfunction)\n",
    "    .rename(columns={0: \"area\"})\n",
    "    .query(\"area != 0\")\n",
    "    .merge(europe, left_on=\"index\", right_on=\"index\")\n",
    "    .rename(columns={\"CNTR_CODE\": \"zone\"})\n",
    "    .loc[:, [\"zone\", \"index\", \"x\", \"y\", \"area\", \"gridcell\"]]\n",
    ")"
   ]
  },
  {
   "cell_type": "code",
   "execution_count": null,
   "id": "81a3400e-1e1f-4f11-b969-249d95868d42",
   "metadata": {},
   "outputs": [],
   "source": [
    "if snakemake.params.include_rooftop:\n",
    "\n",
    "    # Below code is necessary because ground mounted exclusions might have removed\n",
    "    # certain NUTS2 entirely. Therefore we add back in 0 areas for the (maybe) missing\n",
    "    # country/NUTS2/gridcell combos\n",
    "\n",
    "    excluder_solar_rooftop = ExclusionContainer()\n",
    "    excluder_solar_rooftop.add_raster(CORINE, codes=tuple([1,2,3]),invert=True)\n",
    "\n",
    "    availability_matrix_solar_rooftop = cutout.availabilitymatrix(\n",
    "        europe, excluder_solar_rooftop, nprocesses=snakemake.threads\n",
    "    )\n",
    "    \n",
    "    area = cutout.grid.set_index([\"x\", \"y\"]).to_crs(3035).area / 1e6\n",
    "    \n",
    "    area = xr.DataArray(area, dims=(\"spatial\"))\n",
    "    \n",
    "    capacity_matrix_solar_rooftop = availability_matrix_solar_rooftop.stack(spatial=[\"x\", \"y\"]) * area\n",
    "\n",
    "    highRESareasSolar_rooftop = (\n",
    "        capacity_matrix_solar_rooftop.unstack()\n",
    "        .stack(spatial=[\"index\", \"x\", \"y\"])\n",
    "        .to_pandas()\n",
    "        .reset_index()\n",
    "        .replace()\n",
    "        .assign(gridcell=gridcellnamingfunction)\n",
    "        .rename(columns={0: \"area\"})\n",
    "        .query(\"area != 0\")\n",
    "        .merge(europe, left_on=\"index\", right_on=\"index\")\n",
    "        .rename(columns={\"CNTR_CODE\": \"zone\"})\n",
    "        .loc[:, [\"zone\", \"index\", \"x\", \"y\", \"area\", \"gridcell\"]]\n",
    "    )\n",
    "    \n",
    "    highRESareasSolar_rooftop.area=highRESareasSolar_rooftop.area*0.\n",
    "    \n",
    "    highRESareasSolar=pd.concat((highRESareasSolar,highRESareasSolar_rooftop))\n",
    "    \n",
    "    highRESareasSolar=highRESareasSolar.groupby([\"zone\",\"index\",\"x\",\"y\",\"gridcell\"]).sum().reset_index()"
   ]
  },
  {
   "cell_type": "code",
   "execution_count": null,
   "id": "770eec97-3414-49ad-8343-8ebc937439ef",
   "metadata": {},
   "outputs": [],
   "source": [
    "# if snakemake.wildcards.spatial == \"region\":\n",
    "#     highRESareasSolar = (\n",
    "#         capacity_matrix_solar.sum(\"spatial\")\n",
    "#         .to_pandas()\n",
    "#         .reset_index()\n",
    "#         .assign(\n",
    "#             new_idx=lambda x: \"Solar.\" + x[\"index\"] + \".\" + x[\"index\"],\n",
    "#         )\n",
    "#         .set_index(\"new_idx\")\n",
    "#         .drop(columns=[\"index\"])\n",
    "#         .loc[:, [0]]\n",
    "#         .rename(columns={0: \"area\"})\n",
    "#         .query(\"area != 0\")\n",
    "#     )"
   ]
  },
  {
   "cell_type": "markdown",
   "id": "c01eedd8-8f0a-4339-981f-8b3e83a1d0f1",
   "metadata": {},
   "source": [
    "# Onshore wind areas"
   ]
  },
  {
   "cell_type": "code",
   "execution_count": null,
   "id": "8cf1340c-c9f9-4783-b8a7-89a6ebf74559",
   "metadata": {},
   "outputs": [],
   "source": [
    "excluder_wind_onshore = ExclusionContainer()\n",
    "\n",
    "excluder_wind_onshore.add_raster(social_exclusion)\n",
    "excluder_wind_onshore.add_raster(environmental_exclusion)\n",
    "excluder_wind_onshore.add_raster(technical_exclusion)\n",
    "\n",
    "if onshore_slope != \"\":\n",
    "    excluder_wind_onshore.add_raster(onshore_slope)"
   ]
  },
  {
   "cell_type": "code",
   "execution_count": null,
   "id": "35240b83-3f39-40a8-b3bc-8eb8ad8ee984",
   "metadata": {},
   "outputs": [],
   "source": [
    "if snakemake.wildcards.spatial != \"grid\" and snakemake.params.cutoffs[\"onwind\"] != 0:\n",
    "    cf = xr.open_dataarray(cfdata)\n",
    "\n",
    "    low_cf = snakemake.output.cf_exclusion_windon\n",
    "    cutoff_raster(\n",
    "        cf.loc[\"Windonshore\", :, :, :].mean(dim=\"time\"),\n",
    "        snakemake.params.cutoffs[\"onwind\"],\n",
    "        low_cf,\n",
    "    )\n",
    "    excluder_wind_onshore.add_raster(low_cf)"
   ]
  },
  {
   "cell_type": "code",
   "execution_count": null,
   "id": "fb8c5dfb-ad45-4492-8ab5-ebafa1303da3",
   "metadata": {},
   "outputs": [],
   "source": [
    "availability_matrix_wind_onshore = cutout.availabilitymatrix(\n",
    "    europe, excluder_wind_onshore, nprocesses=snakemake.threads\n",
    ")\n",
    "availability_matrix_wind_onshore"
   ]
  },
  {
   "cell_type": "code",
   "execution_count": null,
   "id": "2e7f945d-f767-4569-8156-f1071803ed89",
   "metadata": {},
   "outputs": [],
   "source": [
    "# plot eligible area - this is slow so commented out for now\n",
    "\n",
    "#fig, ax = plt.subplots(figsize=(10,10))\n",
    "\n",
    "#euro=europe.to_crs(excluder_wind_onshore.crs).dissolve().reset_index()\n",
    "\n",
    "#excluder_wind_onshore.plot_shape_availability(euro,ax=ax)"
   ]
  },
  {
   "cell_type": "code",
   "execution_count": null,
   "id": "0318fbf6-db91-4cc2-b846-d7d039e032ee",
   "metadata": {},
   "outputs": [],
   "source": [
    "area = cutout.grid.set_index([\"x\", \"y\"]).to_crs(3035).area / 1e6\n",
    "\n",
    "area = xr.DataArray(area, dims=(\"spatial\"))\n",
    "\n",
    "capacity_matrix_wind_onshore = (\n",
    "    availability_matrix_wind_onshore.stack(spatial=[\"x\", \"y\"]) * area\n",
    ")\n",
    "\n",
    "# comparing the cap matrix before and after, the below is not required\n",
    "# as all it does is reorder the array and breaks the latest xarray\n",
    "# (v2024.03.0).\n",
    "\n",
    "# capacity_matrix_wind_onshore = capacity_matrix_wind_onshore.reindex(\n",
    "#    spatial=area.indexes.get(\"spatial\")\n",
    "# )\n",
    "\n",
    "highRESareasWindOnshore = (\n",
    "    capacity_matrix_wind_onshore.unstack()\n",
    "    .stack(spatial=[\"index\", \"x\", \"y\"])\n",
    "    .to_pandas()\n",
    "    .reset_index()\n",
    "    .replace()\n",
    "    .assign(gridcell=gridcellnamingfunction)\n",
    "    .rename(columns={0: \"area\"})\n",
    "    .query(\"area != 0\")\n",
    "    .merge(europe, left_on=\"index\", right_on=\"index\")\n",
    "    .rename(columns={\"CNTR_CODE\": \"zone\"})\n",
    "    .loc[:, [\"zone\", \"index\", \"x\", \"y\", \"area\", \"gridcell\"]]\n",
    ")"
   ]
  },
  {
   "cell_type": "code",
   "execution_count": null,
   "id": "be930fa3-21fa-455f-a0b1-d589a91a7a41",
   "metadata": {},
   "outputs": [],
   "source": [
    "# if snakemake.wildcards.spatial == \"region\":\n",
    "#     highRESareasWindOnshore = (\n",
    "#         capacity_matrix_wind_onshore.sum(\"spatial\")\n",
    "#         .to_pandas()\n",
    "#         .reset_index()\n",
    "#         .assign(\n",
    "#             new_idx=lambda x: \"Windonshore.\" + x[\"index\"] + \".\" + x[\"index\"],\n",
    "#         )\n",
    "#         .set_index(\"new_idx\")\n",
    "#         .drop(columns=[\"index\"])\n",
    "#         .loc[:, [0]]\n",
    "#         .rename(columns={0: \"area\"})\n",
    "#         .query(\"area != 0\")\n",
    "#     )"
   ]
  },
  {
   "cell_type": "markdown",
   "id": "c9b885b1-4e6a-4447-9f20-71f2bef070e9",
   "metadata": {},
   "source": [
    "# Offshore wind areas"
   ]
  },
  {
   "cell_type": "code",
   "execution_count": null,
   "id": "6e603265-696f-4763-b632-e55df09e1191",
   "metadata": {},
   "outputs": [],
   "source": [
    "europe_offshore_bottom = gpd.read_file(geodata_files[\"offshore_bottom\"])\n",
    "europe_offshore_bottom"
   ]
  },
  {
   "cell_type": "code",
   "execution_count": null,
   "id": "38f4146b-482d-44a6-8a35-45421379e821",
   "metadata": {},
   "outputs": [],
   "source": [
    "excluder_wind_offshore_bottom = ExclusionContainer()"
   ]
  },
  {
   "cell_type": "code",
   "execution_count": null,
   "id": "09b7f1d3-d492-43a7-a3f0-f3feec793970",
   "metadata": {},
   "outputs": [],
   "source": [
    "excluder_wind_offshore_bottom.add_raster(social_exclusion)\n",
    "excluder_wind_offshore_bottom.add_raster(environmental_exclusion)\n",
    "excluder_wind_offshore_bottom.add_raster(technical_exclusion)"
   ]
  },
  {
   "cell_type": "code",
   "execution_count": null,
   "id": "a5735e89-02b2-467d-a718-283ab483825e",
   "metadata": {},
   "outputs": [],
   "source": [
    "if snakemake.wildcards.spatial != \"grid\" and snakemake.params.cutoffs[\"offwind\"] != 0:\n",
    "    cf = xr.open_dataarray(cfdata)\n",
    "\n",
    "    low_cf = snakemake.output.cf_exclusion_windoff\n",
    "    cutoff_raster(\n",
    "        cf.loc[\"Windoffshore\", :, :, :].mean(dim=\"time\"),\n",
    "        snakemake.params.cutoffs[\"offwind\"],\n",
    "        low_cf,\n",
    "    )\n",
    "    excluder_wind_offshore_bottom.add_raster(low_cf)"
   ]
  },
  {
   "cell_type": "code",
   "execution_count": null,
   "id": "1bba5935-f518-4459-aefd-321cbbc48dea",
   "metadata": {},
   "outputs": [],
   "source": [
    "grid = cutout.grid.set_index([\"x\", \"y\"]).to_crs(3035)\n",
    "\n",
    "europe_windoff = gpd.overlay(\n",
    "    europe_offshore_bottom.reset_index().to_crs(3035), grid, how=\"intersection\"\n",
    ")\n",
    "europe_windoff[\"centroid\"] = europe_windoff[\"geometry\"].centroid\n",
    "\n",
    "\n",
    "zone = []\n",
    "for i, p in europe_windoff.iterrows():\n",
    "    ztemp = europe.loc[europe[\"CNTR_CODE\"] == p[\"index\"], :].to_crs(3035)\n",
    "    dists = ztemp.distance(p[\"centroid\"]).sort_values()\n",
    "\n",
    "    if len(dists) == 0:\n",
    "        break\n",
    "\n",
    "    zone.append(dists.index[0])\n",
    "\n",
    "europe_windoff[\"zone\"] = zone\n",
    "\n",
    "# europe_windoff.loc[:,[\"index\",\"zone\",\"geometry\"]].to_file(\"europe_windoff.geojson\")"
   ]
  },
  {
   "cell_type": "code",
   "execution_count": null,
   "id": "5c593507-0104-4df0-bf5c-123e73c17158",
   "metadata": {},
   "outputs": [],
   "source": [
    "europe_offshore_bottom = (\n",
    "    europe_windoff.loc[:, [\"index\", \"zone\", \"geometry\"]]\n",
    "    .dissolve(by=\"zone\")\n",
    "    .rename(columns={\"index\": \"zone\"})\n",
    "    .rename_axis(index={\"zone\": \"index\"})\n",
    ")"
   ]
  },
  {
   "cell_type": "code",
   "execution_count": null,
   "id": "559bc7b8-26f0-4f03-aaa4-b690e0b6ef7a",
   "metadata": {},
   "outputs": [],
   "source": [
    "availability_matrix_wind_offshore_bottom = cutout.availabilitymatrix(\n",
    "    europe_offshore_bottom, excluder_wind_offshore_bottom, nprocesses=snakemake.threads\n",
    ")\n",
    "availability_matrix_wind_offshore_bottom"
   ]
  },
  {
   "cell_type": "code",
   "execution_count": null,
   "id": "1b9576e2-aae5-4ccd-a357-a9951fb1f477",
   "metadata": {},
   "outputs": [],
   "source": [
    "area = cutout.grid.set_index([\"x\", \"y\"]).to_crs(3035).area / 1e6\n",
    "\n",
    "area = xr.DataArray(area, dims=(\"spatial\"))\n",
    "\n",
    "capacity_matrix_wind_offshore_bottom = (\n",
    "    availability_matrix_wind_offshore_bottom.stack(spatial=[\"x\", \"y\"]) * area\n",
    ")\n",
    "\n",
    "# comparing the cap matrix before and after, the below is not required\n",
    "# as all it does is reorder the array and breaks the latest xarray\n",
    "# (v2024.03.0).\n",
    "\n",
    "# capacity_matrix_wind_offshore_bottom = capacity_matrix_wind_offshore_bottom.reindex(\n",
    "#    spatial=area.indexes.get(\"spatial\")\n",
    "# )\n",
    "\n",
    "highRESareasWindOffshoreBottom = (\n",
    "    capacity_matrix_wind_offshore_bottom.unstack()\n",
    "    .stack(spatial=[\"index\", \"x\", \"y\"])\n",
    "    .to_pandas()\n",
    "    .reset_index()\n",
    "    .replace()\n",
    "    .assign(gridcell=gridcellnamingfunction)\n",
    "    .rename(columns={0: \"area\"})\n",
    "    .query(\"area != 0\")\n",
    "    .merge(europe, left_on=\"index\", right_on=\"index\")\n",
    "    .rename(columns={\"CNTR_CODE\": \"zone\"})\n",
    "    .loc[:, [\"zone\", \"index\", \"x\", \"y\", \"area\", \"gridcell\"]]\n",
    ")"
   ]
  },
  {
   "cell_type": "code",
   "execution_count": null,
   "id": "198b3ad8-82a0-43b4-827c-5ec8ab388161",
   "metadata": {},
   "outputs": [],
   "source": [
    "highRESareas = pd.concat(\n",
    "    (\n",
    "        highRESareasSolar.round(1).assign(Tech=\"Solar\"),\n",
    "        highRESareasWindOnshore.round(1).assign(Tech=\"Windonshore\"),\n",
    "        highRESareasWindOffshoreBottom.round(1).assign(Tech=\"Windoffshore\"),\n",
    "    )\n",
    ")\n",
    "\n",
    "highRESareas.to_csv(grid_areas, index=False)"
   ]
  },
  {
   "cell_type": "code",
   "execution_count": null,
   "id": "683fe658-2815-453d-8167-569d2b164e32",
   "metadata": {},
   "outputs": [],
   "source": [
    "# if snakemake.wildcards.spatial == \"region\":\n",
    "#     highRESareasWindOffshoreBottom = (\n",
    "#         capacity_matrix_wind_offshore_bottom.sum(\"spatial\")\n",
    "#         .to_pandas()\n",
    "#         .reset_index()\n",
    "#         .assign(\n",
    "#             new_idx=lambda x: \"Windoffshore.\" + x[\"index\"] + \".\" + x[\"index\"],\n",
    "#         )\n",
    "#         .set_index(\"new_idx\")\n",
    "#         .drop(columns=[\"index\"])\n",
    "#         .loc[:, [0]]\n",
    "#         .rename(columns={0: \"area\"})\n",
    "#         .query(\"area != 0\")\n",
    "#     )"
   ]
  },
  {
   "cell_type": "code",
   "execution_count": null,
   "id": "d1184cfe-3e80-4d7f-b070-7756b8928e09",
   "metadata": {},
   "outputs": [],
   "source": []
  }
 ],
 "metadata": {
  "kernelspec": {
   "display_name": "Python 3 (ipykernel)",
   "language": "python",
   "name": "python3"
  },
  "language_info": {
   "codemirror_mode": {
    "name": "ipython",
    "version": 3
   },
   "file_extension": ".py",
   "mimetype": "text/x-python",
   "name": "python",
   "nbconvert_exporter": "python",
   "pygments_lexer": "ipython3",
   "version": "3.12.6"
  }
 },
 "nbformat": 4,
 "nbformat_minor": 5
}
