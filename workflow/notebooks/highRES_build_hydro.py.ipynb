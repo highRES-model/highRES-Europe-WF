{
 "cells": [
  {
   "cell_type": "code",
   "execution_count": null,
   "id": "2ee866e9-6322-4942-9aad-c90791378fb1",
   "metadata": {},
   "outputs": [],
   "source": [
    "date_range = snakemake.params.date_range"
   ]
  },
  {
   "cell_type": "code",
   "execution_count": null,
   "id": "d385c443-eaec-41d8-978c-09b7e40c3486",
   "metadata": {},
   "outputs": [],
   "source": [
    "import logging\n",
    "\n",
    "import atlite\n",
    "\n",
    "logging.basicConfig(level=logging.INFO)\n",
    "\n",
    "\n",
    "import geopandas as gpd\n",
    "import pandas as pd\n",
    "import xarray as xr\n",
    "from shapely.geometry import Polygon"
   ]
  },
  {
   "cell_type": "code",
   "execution_count": null,
   "id": "7628bd95-3d96-47a4-a349-8f65e6624209",
   "metadata": {},
   "outputs": [],
   "source": [
    "atlite.__version__"
   ]
  },
  {
   "cell_type": "code",
   "execution_count": null,
   "id": "67131bb9-640b-477c-b1ce-8aec91557781",
   "metadata": {},
   "outputs": [],
   "source": [
    "xr.__version__"
   ]
  },
  {
   "cell_type": "code",
   "execution_count": null,
   "id": "874b80fe-2089-49bf-a5fc-34bbd7191163",
   "metadata": {
    "tags": []
   },
   "outputs": [],
   "source": [
    "%psource atlite.Cutout.convert_and_aggregate"
   ]
  },
  {
   "cell_type": "markdown",
   "id": "e317159e-0a8b-47aa-98d3-28851e6988a4",
   "metadata": {},
   "source": [
    "# Desired regions\n"
   ]
  },
  {
   "cell_type": "code",
   "execution_count": null,
   "id": "c14cfc73-858e-419f-a9f9-496e2a242afb",
   "metadata": {},
   "outputs": [],
   "source": [
    "desired_regions = snakemake.params.aggregated_regions\n",
    "desired_regions.sort()\n",
    "desired_regions"
   ]
  },
  {
   "cell_type": "markdown",
   "id": "5584da4e-bcef-4e79-b6db-ee2c23e36741",
   "metadata": {},
   "source": [
    "## Shape level\n",
    "\n",
    "To get the desired data at shape level, the first input is the shapefile itself.\n"
   ]
  },
  {
   "cell_type": "code",
   "execution_count": null,
   "id": "5e0c058e-af51-4828-bb2f-2a908e5bbe71",
   "metadata": {},
   "outputs": [],
   "source": [
    "europe = (\n",
    "    gpd.read_file(snakemake.input.euroshape)\n",
    "    .replace({\"EL\": \"GR\"})\n",
    "    .rename(columns={\"id\": \"index\"})\n",
    "    .loc[:, [\"index\", \"geometry\"]]\n",
    "    .sort_values(\"index\")\n",
    "    .set_index(\"index\")\n",
    "    .drop([\"AL\", \"IS\", \"CY\", \"MT\", \"ME\", \"MK\", \"NO0B1\", \"NO0B2\", \"RS\", \"TR\", \"LI\"])\n",
    "    .loc[desired_regions]\n",
    ")"
   ]
  },
  {
   "cell_type": "code",
   "execution_count": null,
   "id": "e76b923b-f12e-4d59-b367-7ebd8d776390",
   "metadata": {},
   "outputs": [],
   "source": [
    "europe"
   ]
  },
  {
   "cell_type": "code",
   "execution_count": null,
   "id": "1fe20b62-477a-4dea-ab84-106bea2939e5",
   "metadata": {},
   "outputs": [],
   "source": [
    "year = snakemake.wildcards.year"
   ]
  },
  {
   "cell_type": "code",
   "execution_count": null,
   "id": "82684ba4-42f9-48ab-b666-b397dbea79a1",
   "metadata": {},
   "outputs": [],
   "source": [
    "rectx1 = -12\n",
    "rectx2 = 44\n",
    "recty1 = 33\n",
    "recty2 = 81\n",
    "polygon = Polygon(\n",
    "    [\n",
    "        (rectx1, recty1),\n",
    "        (rectx1, recty2),\n",
    "        (rectx2, recty2),\n",
    "        (rectx2, recty1),\n",
    "        (rectx1, recty1),\n",
    "    ]\n",
    ")\n",
    "europe = gpd.clip(europe, polygon)"
   ]
  },
  {
   "cell_type": "code",
   "execution_count": null,
   "id": "b36d15aa-c0ea-4f80-a33e-d83df8255491",
   "metadata": {},
   "outputs": [],
   "source": [
    "europe.plot(figsize=(15, 15));"
   ]
  },
  {
   "cell_type": "code",
   "execution_count": null,
   "id": "f7c3c740-355e-41d4-a3a1-7aac3bb1fd50",
   "metadata": {},
   "outputs": [],
   "source": [
    "cutout = atlite.Cutout(path=snakemake.input.weatherdata, chunks={\"time\": 2000})"
   ]
  },
  {
   "cell_type": "code",
   "execution_count": null,
   "id": "4b126b2b-5318-4da5-ba9a-380f01bfbdba",
   "metadata": {},
   "outputs": [],
   "source": [
    "cutout.prepare()"
   ]
  },
  {
   "cell_type": "code",
   "execution_count": null,
   "id": "f3609815-6e21-4fa5-a020-212fd58a4c44",
   "metadata": {},
   "outputs": [],
   "source": [
    "europe = europe.sort_index()"
   ]
  },
  {
   "cell_type": "markdown",
   "id": "7fcbeb8c-dd97-4dbb-95ba-c8377329a63d",
   "metadata": {},
   "source": [
    "# Hydro\n"
   ]
  },
  {
   "cell_type": "code",
   "execution_count": null,
   "id": "f795cec6-8e47-481a-9812-e007fe683c5a",
   "metadata": {},
   "outputs": [],
   "source": [
    "fn = snakemake.input.eiahydrogen"
   ]
  },
  {
   "cell_type": "code",
   "execution_count": null,
   "id": "b5a1e1d3-3819-476e-9840-052e4f665a00",
   "metadata": {},
   "outputs": [],
   "source": [
    "# in billion KWh/a = TWh/a\n",
    "eia_hydro_gen = (\n",
    "    pd.read_csv(fn, skiprows=4, index_col=1, na_values=[\" \", \"--\"])\n",
    "    .drop([\"Unnamed: 0\", \"Unnamed: 2\"], axis=1)\n",
    "    .dropna(how=\"all\")\n",
    ")\n",
    "eia_hydro_gen"
   ]
  },
  {
   "cell_type": "code",
   "execution_count": null,
   "id": "3b96c5b8-b4ac-4adb-9c7b-1fbbc0928d7a",
   "metadata": {},
   "outputs": [],
   "source": [
    "import pycountry"
   ]
  },
  {
   "cell_type": "code",
   "execution_count": null,
   "id": "17886f98-29b1-4125-8ffc-71819a3b70ac",
   "metadata": {},
   "outputs": [],
   "source": [
    "countries_iso2c = []\n",
    "for country in eia_hydro_gen.index.values:\n",
    "    try:\n",
    "        countries_iso2c.append(pycountry.countries.get(name=country).alpha_2)\n",
    "    except AttributeError:\n",
    "        countries_iso2c.append(country)"
   ]
  },
  {
   "cell_type": "code",
   "execution_count": null,
   "id": "415c5079-1860-41bb-a80d-b09def39e687",
   "metadata": {},
   "outputs": [],
   "source": [
    "eia_hydro_gen.index = pd.Index(countries_iso2c, name=\"countries\")\n",
    "eia_hydro_gen"
   ]
  },
  {
   "cell_type": "code",
   "execution_count": null,
   "id": "d21db7ef-d1f7-4051-9757-edc6081f1048",
   "metadata": {},
   "outputs": [],
   "source": [
    "eia_hydro_gen.rename(\n",
    "    index={\"Kosovo\": \"KV\", \"GB\": \"UK\", \"Czech Republic\": \"CZ\", \"Macedonia\": \"MK\"},\n",
    "    inplace=True,\n",
    ")\n",
    "eia_hydro_gen"
   ]
  },
  {
   "cell_type": "code",
   "execution_count": null,
   "id": "c705d668-9c80-4ff9-9c82-24593532d300",
   "metadata": {},
   "outputs": [],
   "source": [
    "eia_hydro_gen = eia_hydro_gen.T\n",
    "eia_hydro_gen"
   ]
  },
  {
   "cell_type": "code",
   "execution_count": null,
   "id": "f4b0746e-4a83-40e7-86b2-cade9f765275",
   "metadata": {},
   "outputs": [],
   "source": [
    "eia_hydro_gen = eia_hydro_gen * 1e6  # in MWh/a\n",
    "eia_hydro_gen"
   ]
  },
  {
   "cell_type": "code",
   "execution_count": null,
   "id": "6558892b-e370-44f6-96b1-0504f5a6d4e3",
   "metadata": {},
   "outputs": [],
   "source": [
    "europe.index"
   ]
  },
  {
   "cell_type": "code",
   "execution_count": null,
   "id": "9cab2cc9-9f95-4f1d-8235-1d95fd5bf549",
   "metadata": {},
   "outputs": [],
   "source": [
    "eia_stats = eia_hydro_gen.reindex(columns=europe.index)\n",
    "eia_stats"
   ]
  },
  {
   "cell_type": "code",
   "execution_count": null,
   "id": "c1c76669-eb86-4252-a1df-01a0c2c1fb43",
   "metadata": {},
   "outputs": [],
   "source": [
    "eia_stats.columns"
   ]
  },
  {
   "cell_type": "code",
   "execution_count": null,
   "id": "8b93b59c-cc0b-4ea8-99e6-41af7b6e8f97",
   "metadata": {},
   "outputs": [],
   "source": [
    "europe2 = europe.copy()"
   ]
  },
  {
   "cell_type": "code",
   "execution_count": null,
   "id": "574f0c62-680b-47aa-a138-d247c164c4f8",
   "metadata": {},
   "outputs": [],
   "source": [
    "europe2.index.name = \"countries\""
   ]
  },
  {
   "cell_type": "code",
   "execution_count": null,
   "id": "c9f615fe-a46c-4e8c-8000-2768d3861e1d",
   "metadata": {},
   "outputs": [],
   "source": [
    "europe2"
   ]
  },
  {
   "cell_type": "code",
   "execution_count": null,
   "id": "2b05c39b-2a9a-459c-9cd4-97f35fe30a41",
   "metadata": {},
   "outputs": [],
   "source": [
    "inflow = cutout.runoff(\n",
    "    shapes=europe2,\n",
    "    smooth=True,\n",
    "    lower_threshold_quantile=True,\n",
    "    normalize_using_yearly=eia_stats,\n",
    ").sel(time=slice(date_range[0], date_range[1]))"
   ]
  },
  {
   "cell_type": "code",
   "execution_count": null,
   "id": "1f13fb28-edb7-414a-b8ff-fa01a7038514",
   "metadata": {},
   "outputs": [],
   "source": [
    "# scale the inflow by installed capacities\n",
    "df_installed_cap = pd.read_csv(\n",
    "    snakemake.input.hydroinstalledcap,\n",
    "    sep=\"\\t\",\n",
    "    usecols=[\"Year\", \"AreaName\", \"MapCode\", \"ProductionType\", \"highRES_Europe\"],\n",
    ")\n",
    "df_installed_cap = df_installed_cap.loc[\n",
    "    df_installed_cap[\"ProductionType\"] != \"Hydro Pumped Storage\"\n",
    "]"
   ]
  },
  {
   "cell_type": "code",
   "execution_count": null,
   "id": "ab98ee9a-06e5-4daf-80fe-54e80554c1cf",
   "metadata": {},
   "outputs": [],
   "source": [
    "df_installed_cap.MapCode.unique()"
   ]
  },
  {
   "cell_type": "code",
   "execution_count": null,
   "id": "526d02e1-0430-420c-808b-1085bdb7ff29",
   "metadata": {},
   "outputs": [],
   "source": [
    "df_cap_shares = (\n",
    "    df_installed_cap.loc[:, [\"MapCode\", \"ProductionType\", \"highRES_Europe\"]]\n",
    "    .set_index([\"ProductionType\", \"MapCode\"])\n",
    "    .unstack(\"ProductionType\")\n",
    "    .loc[:, \"highRES_Europe\"]\n",
    "    .assign(\n",
    "        Hydro=lambda x: x[\"Hydro Run-of-river and poundage\"]\n",
    "        + x[\"Hydro Water Reservoir\"],\n",
    "        share_ror=lambda x: x[\"Hydro Run-of-river and poundage\"] / x[\"Hydro\"],\n",
    "        share_res=lambda x: x[\"Hydro Water Reservoir\"] / x[\"Hydro\"],\n",
    "    )\n",
    "    .loc[:, [\"share_ror\", \"share_res\"]]\n",
    ")\n",
    "df_cap_shares"
   ]
  },
  {
   "cell_type": "code",
   "execution_count": null,
   "id": "07785f2a-d0eb-4056-92bc-cd78bd37906a",
   "metadata": {},
   "outputs": [],
   "source": [
    "inflow"
   ]
  },
  {
   "cell_type": "code",
   "execution_count": null,
   "id": "1000645d-7a68-400d-85f7-bd6aef17d369",
   "metadata": {},
   "outputs": [],
   "source": [
    "inflow_res = (\n",
    "    inflow.assign_coords(time=range(0, len(inflow.time)))\n",
    "    .assign_coords(technology=\"HydroRes\")\n",
    "    .expand_dims(\"technology\")\n",
    "    .stack(final=[\"time\", \"countries\", \"technology\"])\n",
    "    .round(2)\n",
    "    .to_pandas()\n",
    "    .reset_index()\n",
    ")\n",
    "\n",
    "inflow_res.columns = inflow_res.columns.map(str)\n",
    "inflow_res = inflow_res.rename(columns={\"0\": \"value\"})"
   ]
  },
  {
   "cell_type": "code",
   "execution_count": null,
   "id": "38167927-79bf-473d-981e-a6eff0b27a52",
   "metadata": {},
   "outputs": [],
   "source": [
    "df_cap_shares.loc[:, [\"share_res\"]]"
   ]
  },
  {
   "cell_type": "code",
   "execution_count": null,
   "id": "39ce6061-edd7-49ea-9b5c-a06dbd6b9c63",
   "metadata": {},
   "outputs": [],
   "source": [
    "inflow_res"
   ]
  },
  {
   "cell_type": "code",
   "execution_count": null,
   "id": "e8d75693-2c0e-46d2-acb7-2ac28bf4b885",
   "metadata": {},
   "outputs": [],
   "source": [
    "df_cap_shares.loc[inflow_res.countries.unique(), :]"
   ]
  },
  {
   "cell_type": "code",
   "execution_count": null,
   "id": "657a0586-a764-4055-a4d5-afdf444ff05a",
   "metadata": {},
   "outputs": [],
   "source": [
    "(\n",
    "    inflow_res.set_index([\"countries\", \"time\", \"technology\"])\n",
    "    .mul(\n",
    "        df_cap_shares.rename(columns={\"share_res\": \"value\"}),\n",
    "        axis=\"index\",\n",
    "        level=\"countries\",\n",
    "    )\n",
    "    .drop(columns={\"share_ror\"})\n",
    "    .reset_index()\n",
    "    .set_index(\"time\")\n",
    "    .round(0)\n",
    "    .to_csv(snakemake.output[\"hydroresinfl\"])\n",
    ")"
   ]
  },
  {
   "cell_type": "markdown",
   "id": "1c13627b-d97e-445b-b1b8-9c053a0df96e",
   "metadata": {},
   "source": [
    "## ROR capfac\n"
   ]
  },
  {
   "cell_type": "code",
   "execution_count": null,
   "id": "ff7cfbb9-c9ff-4975-b151-f61a0323cba4",
   "metadata": {},
   "outputs": [],
   "source": [
    "df_installed_cap.MapCode.unique()"
   ]
  },
  {
   "cell_type": "code",
   "execution_count": null,
   "id": "3df95bd5-7cf8-4d67-aec1-1635cf21fd03",
   "metadata": {},
   "outputs": [],
   "source": [
    "df_installed_ror = (\n",
    "    df_installed_cap.loc[\n",
    "        df_installed_cap[\"ProductionType\"] == \"Hydro Run-of-river and poundage\"\n",
    "    ]\n",
    "    .set_index(\"MapCode\")\n",
    "    .drop(columns={\"Year\", \"AreaName\", \"ProductionType\"})\n",
    "    .loc[:, \"highRES_Europe\"]\n",
    ")"
   ]
  },
  {
   "cell_type": "code",
   "execution_count": null,
   "id": "8b313b8c-286b-4337-9e93-6d7c16422bc4",
   "metadata": {},
   "outputs": [],
   "source": [
    "df_installed_ror = df_installed_ror[df_installed_ror > 0]"
   ]
  },
  {
   "cell_type": "code",
   "execution_count": null,
   "id": "c0025841-efce-4cde-9722-1c3c910d6fb0",
   "metadata": {},
   "outputs": [],
   "source": [
    "df_installed_ror"
   ]
  },
  {
   "cell_type": "code",
   "execution_count": null,
   "id": "0c0367ac-e82b-4d12-8a91-cd82ed7e3860",
   "metadata": {},
   "outputs": [],
   "source": [
    "ror_capfac = (\n",
    "    inflow.to_pandas()\n",
    "    .T.stack()\n",
    "    .to_frame()\n",
    "    .rename(columns={0: \"value\"})\n",
    "    .mul(\n",
    "        (\n",
    "            df_cap_shares.reset_index()\n",
    "            .rename(columns={\"MapCode\": \"countries\", \"share_ror\": \"value\"})\n",
    "            .set_index(\"countries\")\n",
    "            .loc[:, [\"value\"]]\n",
    "        )\n",
    "    )\n",
    "    .div(df_installed_ror, axis=\"index\", level=\"countries\")\n",
    "    .loc[:, \"value\"]\n",
    ")"
   ]
  },
  {
   "cell_type": "code",
   "execution_count": null,
   "id": "3dd48f49-5e69-432f-b310-3cedaa8cd261",
   "metadata": {},
   "outputs": [],
   "source": [
    "ror_capfac"
   ]
  },
  {
   "cell_type": "code",
   "execution_count": null,
   "id": "a2134cfe-e413-4fe0-b122-38e2766ff3b1",
   "metadata": {},
   "outputs": [],
   "source": [
    "ror_capfac = ror_capfac.dropna()"
   ]
  },
  {
   "cell_type": "code",
   "execution_count": null,
   "id": "a4b575da-cecb-438e-af98-5d244d4b12b6",
   "metadata": {},
   "outputs": [],
   "source": [
    "ror_capfac = ror_capfac.where(ror_capfac <= 1, 1)"
   ]
  },
  {
   "cell_type": "code",
   "execution_count": null,
   "id": "81833622-424e-4aad-9d49-9a497a38ae87",
   "metadata": {},
   "outputs": [],
   "source": [
    "ror_capfac.unstack().T.plot(subplots=True, figsize=(10, 50), ylim=(0, 1.1))"
   ]
  },
  {
   "cell_type": "code",
   "execution_count": null,
   "id": "5bb11416-0ec5-42df-a92b-16f1203b7845",
   "metadata": {},
   "outputs": [],
   "source": [
    "capacity_factor_hydro_ror = ror_capfac.to_xarray().rename({\"countries\": \"index\"})"
   ]
  },
  {
   "cell_type": "code",
   "execution_count": null,
   "id": "369858bd-f34f-41fb-b1ae-c8a109f107a1",
   "metadata": {},
   "outputs": [],
   "source": [
    "capacity_factor_hydro_ror"
   ]
  },
  {
   "cell_type": "code",
   "execution_count": null,
   "id": "497c8dba-c370-4a80-9d87-dd09e01a6f20",
   "metadata": {},
   "outputs": [],
   "source": [
    "capacity_factor_hydro_ror.name = \"HydroRoR\""
   ]
  },
  {
   "cell_type": "code",
   "execution_count": null,
   "id": "d29b5426-85b3-4211-959f-abe2ff02e385",
   "metadata": {},
   "outputs": [],
   "source": [
    "capacity_factor_hydro_ror.time.size"
   ]
  },
  {
   "cell_type": "code",
   "execution_count": null,
   "id": "9adc9b8c-4f6c-4b16-a6e4-526dc504e729",
   "metadata": {},
   "outputs": [],
   "source": [
    "capacity_factor_hydro_ror.assign_coords(\n",
    "    technology=lambda x: x.name, time=range(0, capacity_factor_hydro_ror.time.size)\n",
    ").expand_dims(\"technology\").stack(final=[\"time\", \"technology\", \"index\"]).round(\n",
    "    2\n",
    ").to_pandas().to_csv(snakemake.output[\"hydrororcapfac\"], header=False)"
   ]
  }
 ],
 "metadata": {
  "kernelspec": {
   "display_name": "Python 3 (ipykernel)",
   "language": "python",
   "name": "python3"
  },
  "language_info": {
   "codemirror_mode": {
    "name": "ipython",
    "version": 3
   },
   "file_extension": ".py",
   "mimetype": "text/x-python",
   "name": "python",
   "nbconvert_exporter": "python",
   "pygments_lexer": "ipython3",
   "version": "3.9.18"
  }
 },
 "nbformat": 4,
 "nbformat_minor": 5
}
