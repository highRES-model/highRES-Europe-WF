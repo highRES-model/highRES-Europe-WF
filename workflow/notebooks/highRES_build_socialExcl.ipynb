{
 "cells": [
  {
   "cell_type": "markdown",
   "id": "cf708570-fc8c-46cd-a1b6-8a985697a7ac",
   "metadata": {},
   "source": [
    "## Preamble"
   ]
  },
  {
   "cell_type": "code",
   "execution_count": 1,
   "id": "fe86bdeb-1b40-421a-b954-7ebe88da04e4",
   "metadata": {},
   "outputs": [],
   "source": [
    "# Import packages\n",
    "\n",
    "import pandas as pd\n",
    "import matplotlib.pyplot as plt\n",
    "import geopandas as gpd\n",
    "import rasterio\n",
    "from rasterio.merge import merge\n",
    "from rasterio.plot import show\n",
    "import glob\n",
    "import os\n",
    "import fiona\n",
    "from tqdm import tqdm\n",
    "\n",
    "import logging\n",
    "\n",
    "import atlite\n",
    "\n",
    "logging.basicConfig(level=logging.INFO)\n",
    "\n",
    "import io\n",
    "import pathlib\n",
    "\n",
    "import numpy as np\n",
    "import requests\n",
    "import xarray\n",
    "from shapely.geometry import Polygon\n",
    "from rasterio.features import rasterize\n",
    "from shapely.geometry import mapping\n",
    "from rasterio.warp import calculate_default_transform, reproject, Resampling\n",
    "from rasterio.enums import Resampling\n",
    "from rasterio.crs import CRS\n",
    "from affine import Affine\n",
    "\n",
    "from rasterio.features import rasterize\n",
    "from rasterio.transform import from_bounds\n",
    "from shapely.geometry import box\n",
    "from zipfile import ZipFile\n",
    "import numpy as np\n",
    "import math\n",
    "\n",
    "from scipy.ndimage import binary_dilation\n",
    "\n",
    "from rasterio.plot import show\n",
    "from rasterio.mask import mask\n",
    "\n",
    "from atlite.gis import ExclusionContainer, shape_availability"
   ]
  },
  {
   "cell_type": "markdown",
   "id": "c6f4b797-aa6f-43e7-bdb1-06f03c587576",
   "metadata": {},
   "source": [
    "## Functions"
   ]
  },
  {
   "cell_type": "code",
   "execution_count": 2,
   "id": "fbffb086-5a8b-4594-987d-78ab026f2c56",
   "metadata": {},
   "outputs": [],
   "source": [
    "import os\n",
    "import fnmatch\n",
    "\n",
    "def list_strict_tif_files(directory):\n",
    "    tif_files = []\n",
    "    for file in os.listdir(directory):\n",
    "        if fnmatch.fnmatch(file, '*.tif') and not file.endswith('.aux.xml'):\n",
    "            tif_files.append(os.path.join(directory, file))\n",
    "    return tif_files"
   ]
  },
  {
   "cell_type": "code",
   "execution_count": 3,
   "id": "07fa0bf9-ca8a-4509-bd7b-4cbac82ba270",
   "metadata": {},
   "outputs": [],
   "source": [
    "def plot_eligible_area(ax, tiff_path, europe, title):\n",
    "    excluder_wind_onshore = ExclusionContainer()\n",
    "\n",
    "    # Ensuring the correct CRS for full_europe\n",
    "    full_europe = (\n",
    "        europe\n",
    "        .assign(col='a')\n",
    "        .dissolve(by='col')\n",
    "        .geometry\n",
    "    )\n",
    "\n",
    "    # Open the TIFF file and ensure CRS matches\n",
    "    with rasterio.open(tiff_path) as src:\n",
    "        if full_europe.crs != src.crs:\n",
    "            full_europe = full_europe.to_crs(src.crs)\n",
    "\n",
    "    # Bufffer geometry ensuring CRS consistency\n",
    "    full_europe = full_europe.to_crs(excluder_wind_onshore.crs)\n",
    "\n",
    "    # Example mask and transformation logic\n",
    "    excluder_wind_onshore.add_raster(tiff_path)\n",
    "    masked, transform = shape_availability(full_europe, excluder_wind_onshore)\n",
    "    eligible_share = (masked.sum() * excluder_wind_onshore.res**2 / full_europe.geometry.item().area)\n",
    "    \n",
    "    # Plot the eligible area in a subplot\n",
    "    show(masked, transform=transform, cmap='Greens', ax=ax)\n",
    "    full_europe.plot(ax=ax, edgecolor='k', color='None')\n",
    "    europe.to_crs(excluder_wind_onshore.crs).boundary.plot(ax=ax, edgecolor='grey', linewidth=0.2)\n",
    "    ax.set_title(f'{title} Eligible area (green) {eligible_share * 100:2.2f}%')"
   ]
  },
  {
   "cell_type": "code",
   "execution_count": 4,
   "id": "49388300-a9e9-4619-a375-c3c2e2b642fc",
   "metadata": {},
   "outputs": [],
   "source": [
    "def buffer_WSF(input_file, output_name, buffer_distance, threshold=1):    \n",
    "    # Open the existing raster\n",
    "    with rasterio.open(input_file) as src:\n",
    "        data = src.read(1, out_dtype=np.uint8)  # Read the first band\n",
    "\n",
    "        # Binarize the data using the threshold\n",
    "        binary_data = np.where(data > threshold, 1, 0).astype(np.uint8)\n",
    "        \n",
    "        # Use OpenCV to perform dilation with a square structuring element\n",
    "        structuring_element = cv2.getStructuringElement(cv2.MORPH_RECT, (buffer_distance, buffer_distance))\n",
    "        buffered_data = cv2.dilate(binary_data, structuring_element)\n",
    "        \n",
    "        kwargs = src.meta.copy()\n",
    "        kwargs.update({\n",
    "            'dtype': 'uint8',  # Ensure output is 8-bit\n",
    "            'count': 1,        # Ensure single band\n",
    "            'crs': CRS.from_epsg(3857),\n",
    "            'compress': 'lzw'  # Add LZW compression\n",
    "        })\n",
    "    \n",
    "        # Write the buffered raster\n",
    "        with rasterio.open(output_name, 'w', **kwargs) as dst:\n",
    "            dst.write(buffered_data, 1)    \n",
    "            \n",
    "    #with rasterio.open(output_name, 'w', **kwargs) as dst:\n",
    "    #    for i in range(1, src.count + 1):\n",
    "    #        reproject(\n",
    "    #            source=rasterio.band(src, i),\n",
    "    #            destination=rasterio.band(dst, i),\n",
    "    #            src_transform=src.transform,\n",
    "    #            src_crs=src.crs,\n",
    "    #            dst_transform=new_transform,\n",
    "    #            dst_crs=CRS.from_epsg(3857),\n",
    "    #            resampling=Resampling.nearest)"
   ]
  },
  {
   "cell_type": "markdown",
   "id": "03de08ce-38a7-42a4-995b-82dc8d8eabac",
   "metadata": {},
   "source": [
    "## Usage"
   ]
  },
  {
   "cell_type": "code",
   "execution_count": 5,
   "id": "b4ee7088-db08-456d-817d-87112b23787e",
   "metadata": {},
   "outputs": [],
   "source": [
    "aggregated_regions = [\n",
    "    \"AT\", \"BE\", \"BG\", \"CH\", \"CZ\", \"DE\",\n",
    "    \"DK\", \"EE\", \"ES\", \"FI\", \"FR\", \"UK\",\n",
    "    \"GR\", \"HR\", \"HU\", \"IE\", \"IT\", \"LT\",\n",
    "    \"LU\", \"LV\", \"NL\", \"NO\", \"PL\", \"PT\", \n",
    "    \"RO\", \"SE\", \"SI\", \"SK\",\n",
    "]"
   ]
  },
  {
   "cell_type": "code",
   "execution_count": 6,
   "id": "725f17a8-fd1d-476f-99e3-08975c13d913",
   "metadata": {},
   "outputs": [],
   "source": [
    "europe = (\n",
    "    gpd\n",
    "    .read_file('/home/oskar/shared_input/geodata/onshore/shapes/NUTS_RG_10M_2021_4326.geojson')\n",
    "    .query(\"NUTS_ID == @aggregated_regions\")\n",
    "    .set_index([\"NUTS_ID\"])\n",
    "    .loc[:,['geometry']]\n",
    ")"
   ]
  },
  {
   "cell_type": "code",
   "execution_count": 7,
   "id": "764b4e9a-2d8a-48c6-8f40-be1d90a65658",
   "metadata": {},
   "outputs": [],
   "source": [
    "# The square outer boundaries of Europe to consider, because we have downloaded ERA5 for this extent:\n",
    "rectx1 = -12\n",
    "rectx2 = 44\n",
    "recty1 = 33\n",
    "recty2 = 72\n",
    "\n",
    "polygon = Polygon(\n",
    "    [\n",
    "        (rectx1, recty1),\n",
    "        (rectx1, recty2),\n",
    "        (rectx2, recty2),\n",
    "        (rectx2, recty1),\n",
    "        (rectx1, recty1),\n",
    "    ]\n",
    ")\n",
    "europe = gpd.clip(europe, polygon)"
   ]
  },
  {
   "cell_type": "code",
   "execution_count": 8,
   "id": "a619a0a3-ed32-4ddf-9dd3-b9b78f946179",
   "metadata": {},
   "outputs": [],
   "source": [
    "# The square outer boundaries of Europe to consider, but with CRS ESPG:3857\n",
    "minx = -1335833.8895192828\n",
    "maxx = 4898057.594904037\n",
    "miny = 3895303.9633938945\n",
    "maxy = 11753184.615338452"
   ]
  },
  {
   "cell_type": "code",
   "execution_count": 9,
   "id": "c2a2cf2b-c1b8-4f83-83a3-b07224d6bffa",
   "metadata": {},
   "outputs": [],
   "source": [
    "import cv2\n",
    "from concurrent.futures import ProcessPoolExecutor"
   ]
  },
  {
   "cell_type": "code",
   "execution_count": 10,
   "id": "ddd8eb73-e067-40dd-b2f4-a4ba56e9b2fc",
   "metadata": {},
   "outputs": [
    {
     "name": "stderr",
     "output_type": "stream",
     "text": [
      "Processing Files:   5%|█▏                      | 14/279 [01:23<26:13,  5.94s/it]\n"
     ]
    },
    {
     "ename": "KeyboardInterrupt",
     "evalue": "",
     "output_type": "error",
     "traceback": [
      "\u001b[0;31m---------------------------------------------------------------------------\u001b[0m",
      "\u001b[0;31mKeyboardInterrupt\u001b[0m                         Traceback (most recent call last)",
      "Cell \u001b[0;32mIn[10], line 23\u001b[0m\n\u001b[1;32m     21\u001b[0m \u001b[38;5;28;01mfor\u001b[39;00m file \u001b[38;5;129;01min\u001b[39;00m tqdm(strict_tif_files_list, desc\u001b[38;5;241m=\u001b[39m\u001b[38;5;124m\"\u001b[39m\u001b[38;5;124mProcessing Files\u001b[39m\u001b[38;5;124m\"\u001b[39m):\n\u001b[1;32m     22\u001b[0m     output_name \u001b[38;5;241m=\u001b[39m output_dir \u001b[38;5;241m+\u001b[39m file\u001b[38;5;241m.\u001b[39msplit(\u001b[38;5;124m'\u001b[39m\u001b[38;5;124m/\u001b[39m\u001b[38;5;124m'\u001b[39m)[\u001b[38;5;241m-\u001b[39m\u001b[38;5;241m1\u001b[39m]\n\u001b[0;32m---> 23\u001b[0m     \u001b[43mbuffer_WSF\u001b[49m\u001b[43m(\u001b[49m\u001b[43mfile\u001b[49m\u001b[43m,\u001b[49m\u001b[43m \u001b[49m\u001b[43moutput_name\u001b[49m\u001b[43m,\u001b[49m\u001b[43m \u001b[49m\u001b[43mbuffer_distance\u001b[49m\u001b[43m,\u001b[49m\u001b[43m \u001b[49m\u001b[43mthreshold\u001b[49m\u001b[43m)\u001b[49m\n",
      "Cell \u001b[0;32mIn[4], line 23\u001b[0m, in \u001b[0;36mbuffer_WSF\u001b[0;34m(input_file, output_name, buffer_distance, threshold)\u001b[0m\n\u001b[1;32m     21\u001b[0m \u001b[38;5;66;03m# Write the buffered raster\u001b[39;00m\n\u001b[1;32m     22\u001b[0m \u001b[38;5;28;01mwith\u001b[39;00m rasterio\u001b[38;5;241m.\u001b[39mopen(output_name, \u001b[38;5;124m'\u001b[39m\u001b[38;5;124mw\u001b[39m\u001b[38;5;124m'\u001b[39m, \u001b[38;5;241m*\u001b[39m\u001b[38;5;241m*\u001b[39mkwargs) \u001b[38;5;28;01mas\u001b[39;00m dst:\n\u001b[0;32m---> 23\u001b[0m     \u001b[43mdst\u001b[49m\u001b[38;5;241;43m.\u001b[39;49m\u001b[43mwrite\u001b[49m\u001b[43m(\u001b[49m\u001b[43mbuffered_data\u001b[49m\u001b[43m,\u001b[49m\u001b[43m \u001b[49m\u001b[38;5;241;43m1\u001b[39;49m\u001b[43m)\u001b[49m\n",
      "File \u001b[0;32mrasterio/_io.pyx:1833\u001b[0m, in \u001b[0;36mrasterio._io.DatasetWriterBase.write\u001b[0;34m()\u001b[0m\n",
      "File \u001b[0;32mrasterio/_io.pyx:199\u001b[0m, in \u001b[0;36mrasterio._io.io_multi_band\u001b[0;34m()\u001b[0m\n",
      "File \u001b[0;32m~/miniconda3/envs/analysis/lib/python3.12/contextlib.py:141\u001b[0m, in \u001b[0;36m_GeneratorContextManager.__exit__\u001b[0;34m(self, typ, value, traceback)\u001b[0m\n\u001b[1;32m    138\u001b[0m     \u001b[38;5;28;01mexcept\u001b[39;00m \u001b[38;5;167;01mStopIteration\u001b[39;00m:\n\u001b[1;32m    139\u001b[0m         \u001b[38;5;28;01mraise\u001b[39;00m \u001b[38;5;167;01mRuntimeError\u001b[39;00m(\u001b[38;5;124m\"\u001b[39m\u001b[38;5;124mgenerator didn\u001b[39m\u001b[38;5;124m'\u001b[39m\u001b[38;5;124mt yield\u001b[39m\u001b[38;5;124m\"\u001b[39m) \u001b[38;5;28;01mfrom\u001b[39;00m \u001b[38;5;28;01mNone\u001b[39;00m\n\u001b[0;32m--> 141\u001b[0m \u001b[38;5;28;01mdef\u001b[39;00m \u001b[38;5;21m__exit__\u001b[39m(\u001b[38;5;28mself\u001b[39m, typ, value, traceback):\n\u001b[1;32m    142\u001b[0m     \u001b[38;5;28;01mif\u001b[39;00m typ \u001b[38;5;129;01mis\u001b[39;00m \u001b[38;5;28;01mNone\u001b[39;00m:\n\u001b[1;32m    143\u001b[0m         \u001b[38;5;28;01mtry\u001b[39;00m:\n",
      "\u001b[0;31mKeyboardInterrupt\u001b[0m: "
     ]
    }
   ],
   "source": [
    "partial = 'No' # Select No to process all files\n",
    "\n",
    "directory_path = '/home/oskar/shared_input/geodata/onshore/wimby/WSF/' \n",
    "output_dir = '/home/oskar/shared_input/geodata/onshore/wimby/WSF/processed/'\n",
    "strict_tif_files_list = list_strict_tif_files(directory_path)\n",
    "set_all = set(strict_tif_files_list)\n",
    "existing_files = list_strict_tif_files(output_dir)\n",
    "set_exist = set(existing_files)\n",
    "\n",
    "buffer_distance = 200\n",
    "threshold = 1 \n",
    "\n",
    "needs_processing_set = set_all - set_exist\n",
    "needs_processing = list(needs_processing_set)\n",
    "\n",
    "if partial == 'Yes':\n",
    "    for file in tqdm(needs_processing, desc=\"Processing Files\"):\n",
    "        output_name = output_dir + file.split('/')[-1]\n",
    "        buffer_WSF(file, output_name, buffer_distance, threshold)\n",
    "else: \n",
    "    for file in tqdm(strict_tif_files_list, desc=\"Processing Files\"):\n",
    "        output_name = output_dir + file.split('/')[-1]\n",
    "        buffer_WSF(file, output_name, buffer_distance, threshold)"
   ]
  },
  {
   "cell_type": "markdown",
   "id": "4bbb81a2-5438-4fcd-a2d1-bb2dd6f61059",
   "metadata": {},
   "source": [
    "## Merge"
   ]
  },
  {
   "cell_type": "code",
   "execution_count": 11,
   "id": "3c6f1912-ec0c-4698-87e8-f48c4cb1cbac",
   "metadata": {},
   "outputs": [],
   "source": [
    "from rasterio.vrt import WarpedVRT"
   ]
  },
  {
   "cell_type": "code",
   "execution_count": 12,
   "id": "0b791724-6f14-4abd-aa34-c3556376f640",
   "metadata": {},
   "outputs": [],
   "source": [
    "def package_warped(files):\n",
    "    vrt_options = {\n",
    "        'resampling': rasterio.enums.Resampling.nearest,\n",
    "        'nodata': None,\n",
    "        'add_alpha': False\n",
    "    }\n",
    "\n",
    "    for fp in files:\n",
    "        with rasterio.open(fp) as src:\n",
    "            vrt = WarpedVRT(src, **vrt_options)\n",
    "            yield vrt\n"
   ]
  },
  {
   "cell_type": "code",
   "execution_count": 16,
   "id": "06a4476c-cfac-44ba-8200-061c59b9af58",
   "metadata": {},
   "outputs": [
    {
     "ename": "MemoryError",
     "evalue": "Unable to allocate 175. GiB for an array with shape (1, 400974, 467765) and data type uint8",
     "output_type": "error",
     "traceback": [
      "\u001b[0;31m---------------------------------------------------------------------------\u001b[0m",
      "\u001b[0;31mMemoryError\u001b[0m                               Traceback (most recent call last)",
      "Cell \u001b[0;32mIn[16], line 5\u001b[0m\n\u001b[1;32m      2\u001b[0m src_files_to_mosaic \u001b[38;5;241m=\u001b[39m \u001b[38;5;28mlist\u001b[39m(package_warped(processed_files))\n\u001b[1;32m      4\u001b[0m \u001b[38;5;66;03m# Merge the raster files\u001b[39;00m\n\u001b[0;32m----> 5\u001b[0m mosaic, out_transform \u001b[38;5;241m=\u001b[39m \u001b[43mmerge\u001b[49m\u001b[43m(\u001b[49m\u001b[43msrc_files_to_mosaic\u001b[49m\u001b[43m)\u001b[49m\n\u001b[1;32m      7\u001b[0m \u001b[38;5;66;03m# Define the output file path\u001b[39;00m\n\u001b[1;32m      8\u001b[0m output_file \u001b[38;5;241m=\u001b[39m \u001b[38;5;124m'\u001b[39m\u001b[38;5;124m/home/oskar/shared_input/geodata/onshore/wimby/processed/WSF_merged.tif\u001b[39m\u001b[38;5;124m'\u001b[39m\n",
      "File \u001b[0;32m~/miniconda3/envs/analysis/lib/python3.12/site-packages/rasterio/merge.py:427\u001b[0m, in \u001b[0;36mmerge\u001b[0;34m(sources, bounds, res, nodata, dtype, precision, indexes, output_count, resampling, method, target_aligned_pixels, mem_limit, use_highest_res, masked, dst_path, dst_kwds)\u001b[0m\n\u001b[1;32m    425\u001b[0m \u001b[38;5;28;01mfor\u001b[39;00m chunk \u001b[38;5;129;01min\u001b[39;00m chunks:\n\u001b[1;32m    426\u001b[0m     dst_w, dst_s, dst_e, dst_n \u001b[38;5;241m=\u001b[39m windows\u001b[38;5;241m.\u001b[39mbounds(chunk, output_transform)\n\u001b[0;32m--> 427\u001b[0m     dest \u001b[38;5;241m=\u001b[39m \u001b[43mnp\u001b[49m\u001b[38;5;241;43m.\u001b[39;49m\u001b[43mzeros\u001b[49m\u001b[43m(\u001b[49m\u001b[43m(\u001b[49m\u001b[43moutput_count\u001b[49m\u001b[43m,\u001b[49m\u001b[43m \u001b[49m\u001b[43mchunk\u001b[49m\u001b[38;5;241;43m.\u001b[39;49m\u001b[43mheight\u001b[49m\u001b[43m,\u001b[49m\u001b[43m \u001b[49m\u001b[43mchunk\u001b[49m\u001b[38;5;241;43m.\u001b[39;49m\u001b[43mwidth\u001b[49m\u001b[43m)\u001b[49m\u001b[43m,\u001b[49m\u001b[43m \u001b[49m\u001b[43mdtype\u001b[49m\u001b[38;5;241;43m=\u001b[39;49m\u001b[43mdt\u001b[49m\u001b[43m)\u001b[49m\n\u001b[1;32m    428\u001b[0m     \u001b[38;5;28;01mif\u001b[39;00m inrange:\n\u001b[1;32m    429\u001b[0m         dest\u001b[38;5;241m.\u001b[39mfill(nodataval)\n",
      "\u001b[0;31mMemoryError\u001b[0m: Unable to allocate 175. GiB for an array with shape (1, 400974, 467765) and data type uint8"
     ]
    }
   ],
   "source": [
    "processed_files = list_strict_tif_files(output_dir)\n",
    "src_files_to_mosaic = list(package_warped(processed_files))\n",
    "\n",
    "# Merge the raster files\n",
    "mosaic, out_transform = merge(src_files_to_mosaic)\n",
    "\n",
    "# Define the output file path\n",
    "output_file = '/home/oskar/shared_input/geodata/onshore/wimby/processed/WSF_merged.tif'\n",
    "\n",
    "# Copy the metadata from one of the original files\n",
    "out_meta = src_files_to_mosaic[0].meta.copy()\n",
    "\n",
    "# Update the metadata to match the merged data\n",
    "out_meta.update({\n",
    "    'driver': 'GTiff',\n",
    "    'height': mosaic.shape[1],\n",
    "    'width': mosaic.shape[2],\n",
    "    'transform': out_transform,\n",
    "    'count': mosaic.shape[0],\n",
    "    'compress': 'lzw'\n",
    "})"
   ]
  },
  {
   "cell_type": "code",
   "execution_count": 13,
   "id": "560cb7a4-4c62-414b-962d-24d3ba4a4a77",
   "metadata": {},
   "outputs": [],
   "source": [
    "import tempfile"
   ]
  },
  {
   "cell_type": "code",
   "execution_count": 14,
   "id": "c097c993-395e-47e8-a28c-30dbdcaedf35",
   "metadata": {},
   "outputs": [],
   "source": [
    "def merge_files_incrementally(file_list, out_file_path, temp_dir):\n",
    "    temp_files = []\n",
    "\n",
    "    for i, file in tqdm(enumerate(file_list)):\n",
    "        with rasterio.open(file) as src:\n",
    "            temp_path = os.path.join(temp_dir, f\"temp_merged_{i}.tif\")\n",
    "            \n",
    "            # Include compression in the temporary file metadata\n",
    "            temp_meta = src.meta.copy()\n",
    "            temp_meta.update({\n",
    "                'compress': 'lzw'\n",
    "            })\n",
    "            \n",
    "            with rasterio.open(temp_path, \"w\", **temp_meta) as dest:\n",
    "                dest.write(src.read())\n",
    "                \n",
    "            temp_files.append(temp_path)\n",
    "\n",
    "    # Process merge again in chunks\n",
    "    open_files = [rasterio.open(f) for f in temp_files]\n",
    "    try:\n",
    "        mosaic, out_transform = merge(open_files)\n",
    "        out_meta = open_files[0].meta.copy()\n",
    "        out_meta.update({\n",
    "            'driver': 'GTiff',\n",
    "            'height': mosaic.shape[1],\n",
    "            'width': mosaic.shape[2],\n",
    "            'transform': out_transform,\n",
    "            'count': mosaic.shape[0],\n",
    "            'compress': 'lzw'\n",
    "        })\n",
    "        with rasterio.open(out_file_path, 'w', **out_meta) as dest:\n",
    "            dest.write(mosaic)\n",
    "    finally:\n",
    "        for f in open_files:\n",
    "            f.close()\n",
    "    \n",
    "    # Cleanup temp files\n",
    "    for temp_file in temp_files:\n",
    "        os.remove(temp_file)"
   ]
  },
  {
   "cell_type": "code",
   "execution_count": null,
   "id": "3f86070f-a085-4ae3-97d5-255896a03cae",
   "metadata": {},
   "outputs": [],
   "source": [
    "def merge_files_chunked(file_list, out_file_path, temp_dir):\n",
    "    temp_files = []\n",
    "    \n",
    "    for i, file in tqdm(enumerate(file_list, 1), desc=\"Preparing temporary files\"):\n",
    "        with rasterio.open(file) as src:\n",
    "            temp_path = os.path.join(temp_dir, f\"temp_{i}.tif\")\n",
    "            temp_meta = src.meta.copy()\n",
    "            temp_meta.update({'compress': 'lzw'})\n",
    "            \n",
    "            with rasterio.open(temp_path, \"w\", **temp_meta) as temp_dst:\n",
    "                temp_dst.write(src.read())\n",
    "                \n",
    "            temp_files.append(temp_path)\n",
    "\n",
    "    # Create a virtual raster (VRT) to handle large data efficiently\n",
    "    open_files = [rasterio.open(f) for f in temp_files]\n",
    "    try:\n",
    "        mosaic, out_transform = merge(open_files, use_memory_frac=0.1)  # Use only a fraction of available memory\n",
    "        out_meta = open_files[0].meta.copy()\n",
    "        out_meta.update({\n",
    "            'driver': 'GTiff',\n",
    "            'height': mosaic.shape[1],\n",
    "            'width': mosaic.shape[2],\n",
    "            'transform': out_transform,\n",
    "            'count': mosaic.shape[0],\n",
    "            'compress': 'lzw',\n",
    "            'dtype': 'uint8'\n",
    "        })\n",
    "        with rasterio.open(out_file_path, 'w', **out_meta) as dest:\n",
    "            dest.write(mosaic)\n",
    "    finally:\n",
    "        for f in open_files:\n",
    "            f.close()\n",
    "    \n",
    "    # Clean up temporary files\n",
    "    for temp_file in temp_files:\n",
    "        os.remove(temp_file)"
   ]
  },
  {
   "cell_type": "code",
   "execution_count": 15,
   "id": "582d23e2-4c76-42d0-b1f4-7bf93ece48f6",
   "metadata": {},
   "outputs": [
    {
     "name": "stderr",
     "output_type": "stream",
     "text": [
      "15it [00:27,  1.85s/it]\n"
     ]
    },
    {
     "ename": "MemoryError",
     "evalue": "Unable to allocate 175. GiB for an array with shape (1, 400974, 467765) and data type uint8",
     "output_type": "error",
     "traceback": [
      "\u001b[0;31m---------------------------------------------------------------------------\u001b[0m",
      "\u001b[0;31mMemoryError\u001b[0m                               Traceback (most recent call last)",
      "Cell \u001b[0;32mIn[15], line 4\u001b[0m\n\u001b[1;32m      2\u001b[0m temp_directory \u001b[38;5;241m=\u001b[39m tempfile\u001b[38;5;241m.\u001b[39mmkdtemp()\n\u001b[1;32m      3\u001b[0m output_file \u001b[38;5;241m=\u001b[39m \u001b[38;5;124m'\u001b[39m\u001b[38;5;124m/home/oskar/shared_input/geodata/onshore/wimby/processed/WSF_merged_test.tif\u001b[39m\u001b[38;5;124m'\u001b[39m\n\u001b[0;32m----> 4\u001b[0m \u001b[43mmerge_files_incrementally\u001b[49m\u001b[43m(\u001b[49m\u001b[43mprocessed_files\u001b[49m\u001b[43m,\u001b[49m\u001b[43m \u001b[49m\u001b[43moutput_file\u001b[49m\u001b[43m,\u001b[49m\u001b[43m \u001b[49m\u001b[43mtemp_directory\u001b[49m\u001b[43m)\u001b[49m\n",
      "Cell \u001b[0;32mIn[14], line 22\u001b[0m, in \u001b[0;36mmerge_files_incrementally\u001b[0;34m(file_list, out_file_path, temp_dir)\u001b[0m\n\u001b[1;32m     20\u001b[0m open_files \u001b[38;5;241m=\u001b[39m [rasterio\u001b[38;5;241m.\u001b[39mopen(f) \u001b[38;5;28;01mfor\u001b[39;00m f \u001b[38;5;129;01min\u001b[39;00m temp_files]\n\u001b[1;32m     21\u001b[0m \u001b[38;5;28;01mtry\u001b[39;00m:\n\u001b[0;32m---> 22\u001b[0m     mosaic, out_transform \u001b[38;5;241m=\u001b[39m \u001b[43mmerge\u001b[49m\u001b[43m(\u001b[49m\u001b[43mopen_files\u001b[49m\u001b[43m)\u001b[49m\n\u001b[1;32m     23\u001b[0m     out_meta \u001b[38;5;241m=\u001b[39m open_files[\u001b[38;5;241m0\u001b[39m]\u001b[38;5;241m.\u001b[39mmeta\u001b[38;5;241m.\u001b[39mcopy()\n\u001b[1;32m     24\u001b[0m     out_meta\u001b[38;5;241m.\u001b[39mupdate({\n\u001b[1;32m     25\u001b[0m         \u001b[38;5;124m'\u001b[39m\u001b[38;5;124mdriver\u001b[39m\u001b[38;5;124m'\u001b[39m: \u001b[38;5;124m'\u001b[39m\u001b[38;5;124mGTiff\u001b[39m\u001b[38;5;124m'\u001b[39m,\n\u001b[1;32m     26\u001b[0m         \u001b[38;5;124m'\u001b[39m\u001b[38;5;124mheight\u001b[39m\u001b[38;5;124m'\u001b[39m: mosaic\u001b[38;5;241m.\u001b[39mshape[\u001b[38;5;241m1\u001b[39m],\n\u001b[0;32m   (...)\u001b[0m\n\u001b[1;32m     30\u001b[0m         \u001b[38;5;124m'\u001b[39m\u001b[38;5;124mcompress\u001b[39m\u001b[38;5;124m'\u001b[39m: \u001b[38;5;124m'\u001b[39m\u001b[38;5;124mlzw\u001b[39m\u001b[38;5;124m'\u001b[39m\n\u001b[1;32m     31\u001b[0m     })\n",
      "File \u001b[0;32m~/miniconda3/envs/analysis/lib/python3.12/site-packages/rasterio/merge.py:427\u001b[0m, in \u001b[0;36mmerge\u001b[0;34m(sources, bounds, res, nodata, dtype, precision, indexes, output_count, resampling, method, target_aligned_pixels, mem_limit, use_highest_res, masked, dst_path, dst_kwds)\u001b[0m\n\u001b[1;32m    425\u001b[0m \u001b[38;5;28;01mfor\u001b[39;00m chunk \u001b[38;5;129;01min\u001b[39;00m chunks:\n\u001b[1;32m    426\u001b[0m     dst_w, dst_s, dst_e, dst_n \u001b[38;5;241m=\u001b[39m windows\u001b[38;5;241m.\u001b[39mbounds(chunk, output_transform)\n\u001b[0;32m--> 427\u001b[0m     dest \u001b[38;5;241m=\u001b[39m \u001b[43mnp\u001b[49m\u001b[38;5;241;43m.\u001b[39;49m\u001b[43mzeros\u001b[49m\u001b[43m(\u001b[49m\u001b[43m(\u001b[49m\u001b[43moutput_count\u001b[49m\u001b[43m,\u001b[49m\u001b[43m \u001b[49m\u001b[43mchunk\u001b[49m\u001b[38;5;241;43m.\u001b[39;49m\u001b[43mheight\u001b[49m\u001b[43m,\u001b[49m\u001b[43m \u001b[49m\u001b[43mchunk\u001b[49m\u001b[38;5;241;43m.\u001b[39;49m\u001b[43mwidth\u001b[49m\u001b[43m)\u001b[49m\u001b[43m,\u001b[49m\u001b[43m \u001b[49m\u001b[43mdtype\u001b[49m\u001b[38;5;241;43m=\u001b[39;49m\u001b[43mdt\u001b[49m\u001b[43m)\u001b[49m\n\u001b[1;32m    428\u001b[0m     \u001b[38;5;28;01mif\u001b[39;00m inrange:\n\u001b[1;32m    429\u001b[0m         dest\u001b[38;5;241m.\u001b[39mfill(nodataval)\n",
      "\u001b[0;31mMemoryError\u001b[0m: Unable to allocate 175. GiB for an array with shape (1, 400974, 467765) and data type uint8"
     ]
    }
   ],
   "source": [
    "processed_files = list_strict_tif_files(output_dir)\n",
    "temp_directory = tempfile.mkdtemp()\n",
    "output_file = '/home/oskar/shared_input/geodata/onshore/wimby/processed/WSF_merged_test.tif'\n",
    "merge_files_incrementally(processed_files, output_file, temp_directory)"
   ]
  },
  {
   "cell_type": "markdown",
   "id": "91bcc607-a9da-416f-b69a-324897263736",
   "metadata": {},
   "source": [
    "## Plots"
   ]
  },
  {
   "cell_type": "code",
   "execution_count": null,
   "id": "cf2cb8e8-891e-4d35-98ed-b12f0d5a96a6",
   "metadata": {},
   "outputs": [],
   "source": [
    "name_dict = {\n",
    "    '/home/oskar/shared_input/geodata/onshore/wimby/processed/airport_airports_buffered.tif' : 'Airports 5km buffer',\n",
    "    '/home/oskar/shared_input/geodata/onshore/euro_slope_40degs.tif' : 'Slope 36°',\n",
    "    '/home/oskar/shared_input/geodata/onshore/wimby//processed/15degrees.tif' : 'Slope 15°',\n",
    "    '/home/oskar/shared_input/geodata/onshore/wimby/processed/powerlines_powerlines_buffered.tif' : 'Powerlines',\n",
    "    '/home/oskar/shared_input/geodata/onshore/wimby/processed/rail_narrow_buffered.tif' : 'Rail - Narrow',\n",
    "    '/home/oskar/shared_input/geodata/onshore/wimby/processed/rail_rail_buffered.tif' : 'Rail - Rail',\n",
    "    '/home/oskar/shared_input/geodata/onshore/wimby/processed/glacier_glacier_buffered.tif' : 'Glaciers',\n",
    "    '/home/oskar/shared_input/geodata/onshore/wimby/processed/roads_motorways_motorway_link_buffered.tif' : 'Roads - Motorways_link',\n",
    "    '/home/oskar/shared_input/geodata/onshore/wimby/processed/roads_motorways_motorway_buffered.tif' : 'Roads - Motorways_motorway',\n",
    "    '/home/oskar/shared_input/geodata/onshore/wimby/processed/roads_motorways_trunk_buffered.tif' : 'Roads - Motorways_trunk',\n",
    "    '/home/oskar/shared_input/geodata/onshore/wimby/processed/roads_primary_primary_buffered.tif': 'Roads - Primary',\n",
    "    '/home/oskar/shared_input/geodata/onshore/wimby/processed/military_military_buffered.tif': 'Military 5.5km buffer',\n",
    "    '/home/oskar/shared_input/geodata/onshore/wimby/processed/radar_radar_buffered.tif': 'Radars 6km buffer',\n",
    "    '/home/oskar/shared_input/geodata/onshore/wimby/processed/2000m.tif': 'Elevation (2000m)',\n",
    "}"
   ]
  },
  {
   "cell_type": "code",
   "execution_count": null,
   "id": "1c4fc8f1-de65-4e4c-857d-f8e30f873e18",
   "metadata": {},
   "outputs": [],
   "source": [
    "tiff_paths = [\n",
    "    #'/home/oskar/shared_input/geodata/onshore/wimby/processed/airport_airports_buffered.tif',\n",
    "    #'/home/oskar/shared_input/geodata/onshore/wimby/processed/15degrees.tif',\n",
    "    #'/home/oskar/shared_input/geodata/onshore/wimby/processed/powerlines_powerlines_buffered.tif',\n",
    "    #'/home/oskar/shared_input/geodata/onshore/wimby/processed/rail_narrow_buffered.tif',\n",
    "    #'/home/oskar/shared_input/geodata/onshore/wimby/processed/rail_rail_buffered.tif',\n",
    "    #'/home/oskar/shared_input/geodata/onshore/wimby/processed/roads_motorways_motorway_buffered.tif',\n",
    "    #'/home/oskar/shared_input/geodata/onshore/wimby/processed/roads_motorways_trunk_buffered.tif',\n",
    "    #'/home/oskar/shared_input/geodata/onshore/wimby/processed/glacier_glacier_buffered.tif',\n",
    "    #'/home/oskar/shared_input/geodata/onshore/wimby/processed/roads_motorways_motorway_link_buffered.tif',\n",
    "    #'/home/oskar/shared_input/geodata/onshore/wimby/processed/military_military_buffered.tif',\n",
    "    '/home/oskar/shared_input/geodata/onshore/wimby/processed/radar_radar_buffered.tif',\n",
    "    '/home/oskar/shared_input/geodata/onshore/wimby/processed/2000m.tif',\n",
    "    '/home/oskar/shared_input/geodata/onshore/wimby/processed/roads_primary_primary_buffered.tif',\n",
    "]"
   ]
  },
  {
   "cell_type": "code",
   "execution_count": null,
   "id": "a4849a6b-be7b-4060-b463-b7f1d2d1429c",
   "metadata": {},
   "outputs": [],
   "source": [
    "# Create subplots - one for each file\n",
    "n_files = len(tiff_paths)\n",
    "columns = 3\n",
    "rows = math.ceil(n_files/columns)\n",
    "\n",
    "fig, axes = plt.subplots(rows, columns, figsize=(5 * columns, 5 * rows))\n",
    "\n",
    "# Flatten the axes array for easy iteration\n",
    "axes = axes.flatten()\n",
    "\n",
    "# Plot each file on the corresponding subplot\n",
    "for ax, tiff_path in tqdm(zip(axes, tiff_paths)):\n",
    "    print(f'Plotting {tiff_path}')\n",
    "    plot_eligible_area(ax, tiff_path, europe, f'{name_dict.get(tiff_path)}: ')\n",
    "\n",
    "# Turn off unused subplots\n",
    "for ax in axes[n_files:]:\n",
    "    ax.set_visible(False)\n",
    "\n",
    "plt.tight_layout()\n",
    "plt.savefig('Individual exclusions.pdf',bbox_inches='tight')\n",
    "plt.show()\n"
   ]
  },
  {
   "cell_type": "code",
   "execution_count": null,
   "id": "11e01e59-3c07-43fe-95eb-1f316c6e937f",
   "metadata": {},
   "outputs": [],
   "source": []
  }
 ],
 "metadata": {
  "kernelspec": {
   "display_name": "Python 3 (ipykernel)",
   "language": "python",
   "name": "python3"
  },
  "language_info": {
   "codemirror_mode": {
    "name": "ipython",
    "version": 3
   },
   "file_extension": ".py",
   "mimetype": "text/x-python",
   "name": "python",
   "nbconvert_exporter": "python",
   "pygments_lexer": "ipython3",
   "version": "3.12.9"
  }
 },
 "nbformat": 4,
 "nbformat_minor": 5
}
