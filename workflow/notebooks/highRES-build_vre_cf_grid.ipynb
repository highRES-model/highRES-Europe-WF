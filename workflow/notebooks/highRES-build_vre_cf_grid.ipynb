{
 "cells": [
  {
   "cell_type": "code",
   "execution_count": null,
   "id": "c7d46045-f1d3-4ef4-98c9-05eca2927da8",
   "metadata": {},
   "outputs": [],
   "source": [
    "sharedinputpath = snakemake.params[\"sharedinputpath\"]\n",
    "desired_regions = snakemake.params.aggregated_regions\n",
    "weatherdata = snakemake.input.weatherdata\n",
    "\n",
    "cf_file = snakemake.output.cf_file"
   ]
  },
  {
   "cell_type": "code",
   "execution_count": null,
   "id": "76dcfa05-08af-45bf-b050-98527ffb6125",
   "metadata": {},
   "outputs": [],
   "source": [
    "onshore_turbine = \"Vestas_V112_3MW\"\n",
    "offshore_bottom_turbine = \"oedb:V164\"\n",
    "offshore_floating_turbine = \"oedb:V164\"\n",
    "\n",
    "panel = \"CSi\"\n",
    "orientation = \"latitude_optimal\""
   ]
  },
  {
   "cell_type": "code",
   "execution_count": null,
   "id": "ae506d77-a5a8-4cbf-9414-3dc84e678ac2",
   "metadata": {},
   "outputs": [],
   "source": [
    "geodata_files = {\n",
    "    \"onshore\": snakemake.input.euroshape,\n",
    "    \"offshore_bottom\": snakemake.input.eurooffshoreshape,\n",
    "}"
   ]
  },
  {
   "cell_type": "code",
   "execution_count": null,
   "id": "2375303b-77e1-4ca8-8d3b-57f99d4493e4",
   "metadata": {},
   "outputs": [],
   "source": [
    "import logging\n",
    "\n",
    "import atlite\n",
    "\n",
    "logging.basicConfig(level=logging.INFO)\n",
    "\n",
    "import io\n",
    "import os\n",
    "import pathlib\n",
    "\n",
    "import geopandas as gpd\n",
    "import matplotlib.pyplot as plt\n",
    "import numpy as np\n",
    "import pandas as pd\n",
    "import requests\n",
    "import xarray as xr\n",
    "from atlite.gis import ExclusionContainer, shape_availability\n",
    "from shapely.geometry import Polygon"
   ]
  },
  {
   "cell_type": "code",
   "execution_count": null,
   "id": "fef2e16c-f864-46f7-97b0-a54b08a2b92c",
   "metadata": {},
   "outputs": [],
   "source": [
    "%psource atlite.Cutout.convert_and_aggregate"
   ]
  },
  {
   "cell_type": "code",
   "execution_count": null,
   "id": "62f6967d-f0c0-4005-8de8-21061b4b3df0",
   "metadata": {},
   "outputs": [],
   "source": [
    "boundaries = []\n",
    "for geodata_file_name, geodata_file_path in geodata_files.items():\n",
    "    print(geodata_file_path)\n",
    "    boundaries.append(\n",
    "        gpd.read_file(geodata_file_path)\n",
    "    )\n",
    "\n",
    "boundaries = pd.concat(boundaries).bounds"
   ]
  },
  {
   "cell_type": "code",
   "execution_count": null,
   "id": "ca156b3c-1cec-478d-b000-0fae57202a6a",
   "metadata": {},
   "outputs": [],
   "source": [
    "boundaries = boundaries.groupby(lambda x: \"bountry\").agg(\n",
    "    {\"minx\": \"min\", \"miny\": \"min\", \"maxx\": \"max\", \"maxy\": \"max\"}\n",
    ")\n",
    "\n",
    "# boundaries[\"minx\"] = boundaries[\"minx\"] - 2\n",
    "# boundaries[\"miny\"] = boundaries[\"miny\"] - 2\n",
    "# boundaries[\"maxx\"] = boundaries[\"maxx\"] + 2\n",
    "# boundaries[\"maxy\"] = boundaries[\"maxy\"] + 2"
   ]
  },
  {
   "cell_type": "code",
   "execution_count": null,
   "id": "e29008a6-bd0d-45b2-b916-2def343bb417",
   "metadata": {},
   "outputs": [],
   "source": [
    "cutout = atlite.Cutout(path=weatherdata, chunks={\"time\": 1000})\n",
    "cutout.prepared_features\n",
    "cutout.prepare()"
   ]
  },
  {
   "cell_type": "code",
   "execution_count": null,
   "id": "67c100cf-894c-4488-929a-57885aa6b6c2",
   "metadata": {},
   "outputs": [],
   "source": [
    "cutout = atlite.Cutout(\n",
    "    path=\"../3_intermediate_data/intermediatecutout.nc\",\n",
    "    data=cutout.data.sel(\n",
    "        x=slice(\n",
    "            boundaries.loc[\"bountry\", \"minx\"],\n",
    "            boundaries.loc[\"bountry\", \"maxx\"],\n",
    "        ),\n",
    "        y=slice(\n",
    "            boundaries.loc[\"bountry\", \"miny\"],\n",
    "            boundaries.loc[\"bountry\", \"maxy\"],\n",
    "        ),\n",
    "    ),\n",
    ")\n",
    "\n",
    "cutout.prepare()"
   ]
  },
  {
   "cell_type": "code",
   "execution_count": null,
   "id": "2c7663b5-aee3-4c09-a065-188d1920da90",
   "metadata": {},
   "outputs": [],
   "source": [
    "# Solar CF"
   ]
  },
  {
   "cell_type": "code",
   "execution_count": null,
   "id": "2cd466b5-508f-4f0d-a2dd-e39201e0f641",
   "metadata": {},
   "outputs": [],
   "source": [
    "%psource atlite.Cutout.convert_and_aggregate"
   ]
  },
  {
   "cell_type": "code",
   "execution_count": null,
   "id": "b74616fc-ab4b-4d93-a3aa-1f35b11f50e7",
   "metadata": {},
   "outputs": [],
   "source": [
    "cf_solar = cutout.pv(\n",
    "    panel=panel,\n",
    "    orientation=orientation,\n",
    "    capacity_factor_timeseries=True,\n",
    ").astype(np.float32)"
   ]
  },
  {
   "cell_type": "code",
   "execution_count": null,
   "id": "a46b500b-3d4e-4423-ace9-9225d6230da0",
   "metadata": {},
   "outputs": [],
   "source": [
    "# Onshore wind CF"
   ]
  },
  {
   "cell_type": "code",
   "execution_count": null,
   "id": "6d94b3ab-1ade-499c-a297-e6ea5a9ade73",
   "metadata": {},
   "outputs": [],
   "source": [
    "cf_windon = cutout.wind(\n",
    "    turbine=onshore_turbine, capacity_factor_timeseries=True\n",
    ").astype(np.float32)"
   ]
  },
  {
   "cell_type": "code",
   "execution_count": null,
   "id": "fc097f5d-659f-4726-a711-8bac119180d6",
   "metadata": {},
   "outputs": [],
   "source": [
    "# Offshore wind CF"
   ]
  },
  {
   "cell_type": "code",
   "execution_count": null,
   "id": "fd819dc5-c468-4bb2-94e2-b74e9edb3423",
   "metadata": {},
   "outputs": [],
   "source": [
    "cf_windoff_bottom = cutout.wind(\n",
    "    turbine=offshore_bottom_turbine, capacity_factor_timeseries=True\n",
    ").astype(np.float32)"
   ]
  },
  {
   "cell_type": "code",
   "execution_count": null,
   "id": "edb08cf4-7890-4191-b6e1-e0546a591679",
   "metadata": {},
   "outputs": [],
   "source": [
    "cf = xr.concat(\n",
    "    [cf_solar, cf_windon, cf_windoff_bottom],\n",
    "    pd.Index([\"Solar\", \"Windonshore\", \"Windoffshore\"], name=\"Tech\"),\n",
    ")"
   ]
  },
  {
   "cell_type": "code",
   "execution_count": null,
   "id": "68a5eafb-ec34-4b75-a70f-a93232780570",
   "metadata": {},
   "outputs": [],
   "source": [
    "cf.to_netcdf(\n",
    "    cf_file,\n",
    "    encoding={\n",
    "        \"capacity factor\": {\n",
    "            \"dtype\": \"int16\",\n",
    "            \"scale_factor\": 0.001,\n",
    "            \"_FillValue\": -99,\n",
    "        }\n",
    "    },\n",
    ")"
   ]
  }
 ],
 "metadata": {
  "kernelspec": {
   "display_name": "Python 3 (ipykernel)",
   "language": "python",
   "name": "python3"
  },
  "language_info": {
   "codemirror_mode": {
    "name": "ipython",
    "version": 3
   },
   "file_extension": ".py",
   "mimetype": "text/x-python",
   "name": "python",
   "nbconvert_exporter": "python",
   "pygments_lexer": "ipython3",
   "version": "3.9.18"
  }
 },
 "nbformat": 4,
 "nbformat_minor": 5
}
