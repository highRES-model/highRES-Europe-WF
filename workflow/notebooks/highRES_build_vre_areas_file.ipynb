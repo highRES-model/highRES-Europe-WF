{
 "cells": [
  {
   "cell_type": "code",
   "execution_count": null,
   "id": "b7d0b2bd-7d81-47b7-983d-b3663b2130b4",
   "metadata": {},
   "outputs": [],
   "source": [
    "sys.path.insert(0, snakemake.input.data2dd)"
   ]
  },
  {
   "cell_type": "code",
   "execution_count": null,
   "id": "1410e4de-7999-4c0e-b32c-055aca41db49",
   "metadata": {},
   "outputs": [],
   "source": [
    "import pandas as pd\n",
    "from data2dd_funcs import wrapdd"
   ]
  },
  {
   "cell_type": "code",
   "execution_count": null,
   "id": "49141db4-b0c4-4453-8b6a-651fd6e586e7",
   "metadata": {},
   "outputs": [],
   "source": [
    "files = [\n",
    "    snakemake.input[\"areashydro\"],\n",
    "    snakemake.input[\"areassolar\"],\n",
    "    snakemake.input[\"areaswindon\"],\n",
    "    snakemake.input[\"areaswindoff\"],\n",
    "]\n",
    "\n",
    "areas = pd.concat(([pd.read_csv(f, header=None, sep=\" \") for f in files]))\n",
    "\n",
    "wrapdd(areas, \"area\", \"parameter\", outfile=snakemake.output[0])"
   ]
  },
  {
   "cell_type": "code",
   "execution_count": null,
   "id": "ec8fd067-4d43-4cc2-b37e-5e5175406e45",
   "metadata": {},
   "outputs": [],
   "source": [
    "areas[[\"tech\", \"zone\", \"region\"]] = areas[0].str.split(\".\", expand=True)\n",
    "\n",
    "# Add missing regions in exist_gen_r (only with nuts2 spatial option)\n",
    "if snakemake.wildcards.spatial == \"nuts2\":\n",
    "    excel_exist_pcap_r = pd.read_excel(\n",
    "        snakemake.input.technoeconomic_database,\n",
    "        sheet_name=\"gen_exist_r\",\n",
    "        skiprows=0,\n",
    "        engine=\"calamine\",\n",
    "    )\n",
    "    pd.concat([\n",
    "        areas[\"region\"],\n",
    "        excel_exist_pcap_r[\"region\"],\n",
    "    ]).drop_duplicates().to_csv(\n",
    "        snakemake.output.regionsdd, index=False, header=None\n",
    "        )\n",
    "else:\n",
    "    areas[\"region\"].drop_duplicates().to_csv(\n",
    "        snakemake.output.regionsdd, index=False, header=None\n",
    "    )"
   ]
  }
 ],
 "metadata": {
  "kernelspec": {
   "display_name": "Python 3 (ipykernel)",
   "language": "python",
   "name": "python3"
  },
  "language_info": {
   "codemirror_mode": {
    "name": "ipython",
    "version": 3
   },
   "file_extension": ".py",
   "mimetype": "text/x-python",
   "name": "python",
   "nbconvert_exporter": "python",
   "pygments_lexer": "ipython3",
   "version": "3.9.18"
  }
 },
 "nbformat": 4,
 "nbformat_minor": 5
}
